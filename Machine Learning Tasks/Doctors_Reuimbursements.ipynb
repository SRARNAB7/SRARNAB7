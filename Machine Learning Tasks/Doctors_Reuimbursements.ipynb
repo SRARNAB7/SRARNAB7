{
 "cells": [
  {
   "cell_type": "markdown",
   "metadata": {
    "application/vnd.databricks.v1+cell": {
     "cellMetadata": {},
     "inputWidgets": {},
     "nuid": "96816ed7-b08a-4ca3-abb9-f99880c3535d",
     "showTitle": false,
     "tableResultSettingsMap": {},
     "title": ""
    }
   },
   "source": [
    "\n",
    "## Overview\n",
    "\n",
    "This notebook will show you how to create and query a table or DataFrame that you uploaded to DBFS. [DBFS](https://docs.databricks.com/user-guide/dbfs-databricks-file-system.html) is a Databricks File System that allows you to store data for querying inside of Databricks. This notebook assumes that you have a file already inside of DBFS that you would like to read from.\n",
    "\n",
    "This notebook is written in **Python** so the default cell type is Python. However, you can use different languages by using the `%LANGUAGE` syntax. Python, Scala, SQL, and R are all supported."
   ]
  },
  {
   "cell_type": "markdown",
   "metadata": {
    "application/vnd.databricks.v1+cell": {
     "cellMetadata": {},
     "inputWidgets": {},
     "nuid": "331b8f60-72b8-4f3c-9a1e-ad280b897704",
     "showTitle": false,
     "tableResultSettingsMap": {},
     "title": ""
    }
   },
   "source": []
  },
  {
   "cell_type": "markdown",
   "metadata": {
    "application/vnd.databricks.v1+cell": {
     "cellMetadata": {},
     "inputWidgets": {},
     "nuid": "ddbd6b2c-6f67-4da8-a085-2f7c544488a4",
     "showTitle": false,
     "tableResultSettingsMap": {},
     "title": ""
    }
   },
   "source": [
    "File #1 - OP_DTL_GNRL_PGYR2023_P01302025_{dateOfFilesExtraction-MMDDYYYY}.csv: \n",
    "This file contains the data set of General Payments reported for the 2023 program year. General Payments are defined as payments or other transfers of value made to a covered recipient (physician, non-physician practitioner or teaching hospital) that are not made in connection with a research agreement or research protocol. \n",
    "\n",
    "File #2 - OP_DTL_RSRCH_PGYR2023_P01302025_{dateOfFilesExtraction-MMDDYYYY}.csv:\n",
    "This file contains the data set of Research Payments reported for the 2023 program year. Research Payments are defined as payments or other transfers of value made in connection with a research agreement or research protocol.\n",
    "\n",
    "Covered Recipient Profile Supplement File\n",
    "\n",
    "The Covered Recipient Profile Supplement file contains information about physicians and non-physician practitioners who have been indicated as recipients of payments, other transfers of value, or ownership and investment interest in payment records, as well as physicians and non-physician practitioners who have been identified as principal investigators associated with research payment records published by Open Payments.\n",
    "\n",
    "This file contains only those physicians that have at least one published payment record in this cycle of the publication as of May 30, 2024. The criteria used by the Centers for Medicare and Medicaid Services (CMS) to determine which payment records are eligible for publication is available in the Open Payments Methodology and Data Dictionary Document. This document can be found on the Resources page of the Open Payments website (https://www.cms.gov/OpenPayments/Resources). The Methodology and Data Dictionary Document also includes information on the data collection and reporting methodology, data fields included in the files, and any notes or special considerations that users should be aware of. \n"
   ]
  },
  {
   "cell_type": "markdown",
   "metadata": {
    "application/vnd.databricks.v1+cell": {
     "cellMetadata": {},
     "inputWidgets": {},
     "nuid": "2e954dc6-00d9-46f4-902e-69190efaf0ac",
     "showTitle": false,
     "tableResultSettingsMap": {},
     "title": ""
    }
   },
   "source": [
    "Here we have taken in consideration the General Paymenst file, Research file. Since the nature of payments present in the General Payments file are eligible for payment. Moreover, the costs of the research is also eligible for payments. Hence they are considered."
   ]
  },
  {
   "cell_type": "markdown",
   "metadata": {
    "application/vnd.databricks.v1+cell": {
     "cellMetadata": {},
     "inputWidgets": {},
     "nuid": "88997adf-382f-44e0-a773-e0d4d40a6abb",
     "showTitle": false,
     "tableResultSettingsMap": {},
     "title": ""
    }
   },
   "source": [
    "This code runs in a Databricks notebook and uses shell commands to automate the download and extraction of a ZIP file containing Open Payments data from the CMS (Centers for Medicare & Medicaid Services) website. Downloads a ZIP file from the CMS Open Payments website and saves it as openpayments_2023.zip in the /tmp folder on the Databricks driver node. The -L option ensures that if the URL redirects, the download still works. Unzips (extracts) the contents of that ZIP file into a new folder called /tmp/openpayments_2023."
   ]
  },
  {
   "cell_type": "code",
   "execution_count": 0,
   "metadata": {
    "application/vnd.databricks.v1+cell": {
     "cellMetadata": {
      "byteLimit": 2048000,
      "rowLimit": 10000
     },
     "inputWidgets": {},
     "nuid": "0c3f640c-064e-4379-83ec-ddc7cb55a86f",
     "showTitle": false,
     "tableResultSettingsMap": {},
     "title": ""
    }
   },
   "outputs": [
    {
     "output_type": "stream",
     "name": "stderr",
     "output_type": "stream",
     "text": [
      "  % Total    % Received % Xferd  Average Speed   Time    Time     Time  Current\n                                 Dload  Upload   Total   Spent    Left  Speed\n\r  0     0    0     0    0     0      0      0 --:--:-- --:--:-- --:--:--     0\r  1  752M    1 11.6M    0     0  30.4M      0  0:00:24 --:--:--  0:00:24 30.4M\r 16  752M   16  123M    0     0  88.9M      0  0:00:08  0:00:01  0:00:07 89.0M\r 41  752M   41  310M    0     0   130M      0  0:00:05  0:00:02  0:00:03  130M\r 69  752M   69  525M    0     0   155M      0  0:00:04  0:00:03  0:00:01  155M\r 87  752M   87  661M    0     0   150M      0  0:00:04  0:00:04 --:--:--  150M\r100  752M  100  752M    0     0   155M      0  0:00:04  0:00:04 --:--:--  165M\n"
     ]
    },
    {
     "output_type": "stream",
     "name": "stdout",
     "output_type": "stream",
     "text": [
      "Archive:  /tmp/openpayments_2023.zip\n  inflating: /tmp/openpayments_2023/OP_PGYR2023_README_P01302025.txt  \n  inflating: /tmp/openpayments_2023/OP_DTL_OWNRSHP_PGYR2023_P01302025_01212025.csv  \n  inflating: /tmp/openpayments_2023/OP_DTL_GNRL_PGYR2023_P01302025_01212025.csv  \n  inflating: /tmp/openpayments_2023/OP_DTL_RSRCH_PGYR2023_P01302025_01212025.csv  \n  inflating: /tmp/openpayments_2023/OP_REMOVED_DELETED_PGYR2023_P01302025_01212025.csv  \n"
     ]
    }
   ],
   "source": [
    "%%sh\n",
    "# Download the CMS Open Payments ZIP file\n",
    "curl -L https://download.cms.gov/openpayments/PGYR2023_P01302025_01212025.zip -o /tmp/openpayments_2023.zip\n",
    "\n",
    "# Unzip the file to a directory\n",
    "unzip /tmp/openpayments_2023.zip -d /tmp/openpayments_2023"
   ]
  },
  {
   "cell_type": "markdown",
   "metadata": {
    "application/vnd.databricks.v1+cell": {
     "cellMetadata": {},
     "inputWidgets": {},
     "nuid": "2f423d38-029e-4c11-9f82-df6196cb1e77",
     "showTitle": false,
     "tableResultSettingsMap": {},
     "title": ""
    }
   },
   "source": [
    "The line import os loads a built-in Python module called os, which helps work with files and directories.\n",
    "\n",
    "The line os.listdir(\"/tmp/openpayments_2023\") checks the /tmp/openpayments_2023 folder and returns a list of all the files inside it."
   ]
  },
  {
   "cell_type": "code",
   "execution_count": 0,
   "metadata": {
    "application/vnd.databricks.v1+cell": {
     "cellMetadata": {
      "byteLimit": 2048000,
      "rowLimit": 10000
     },
     "inputWidgets": {},
     "nuid": "1acc10d1-726c-4b0a-b1f7-bbf202d981f8",
     "showTitle": false,
     "tableResultSettingsMap": {},
     "title": ""
    }
   },
   "outputs": [
    {
     "output_type": "stream",
     "name": "stdout",
     "output_type": "stream",
     "text": [
      "Out[2]: ['OP_DTL_OWNRSHP_PGYR2023_P01302025_01212025.csv',\n 'OP_DTL_RSRCH_PGYR2023_P01302025_01212025.csv',\n 'OP_REMOVED_DELETED_PGYR2023_P01302025_01212025.csv',\n 'OP_PGYR2023_README_P01302025.txt',\n 'OP_DTL_GNRL_PGYR2023_P01302025_01212025.csv']"
     ]
    }
   ],
   "source": [
    "import os\n",
    "\n",
    "# List the extracted files\n",
    "os.listdir(\"/tmp/openpayments_2023\")"
   ]
  },
  {
   "cell_type": "code",
   "execution_count": 0,
   "metadata": {
    "application/vnd.databricks.v1+cell": {
     "cellMetadata": {
      "byteLimit": 2048000,
      "rowLimit": 10000
     },
     "inputWidgets": {},
     "nuid": "9a9105da-2e7f-48d4-9a5c-3295cb9acf9d",
     "showTitle": false,
     "tableResultSettingsMap": {},
     "title": ""
    }
   },
   "outputs": [],
   "source": [
    "# Reading the CSV file into a Spark DataFrame\n",
    "df = spark.read.csv(\"file:/tmp/openpayments_2023/OP_DTL_GNRL_PGYR2023_P01302025_01212025.csv\", header=True, inferSchema=True)\n",
    "\n",
    "# Saving it as a Delta table\n",
    "df.write \\\n",
    "    .format(\"delta\") \\\n",
    "    .mode(\"overwrite\") \\\n",
    "    .saveAsTable(\"General_2023_OpenPayments\")"
   ]
  },
  {
   "cell_type": "markdown",
   "metadata": {
    "application/vnd.databricks.v1+cell": {
     "cellMetadata": {},
     "inputWidgets": {},
     "nuid": "84952dd4-7ef5-441d-9dfb-38a6dcf4b0dc",
     "showTitle": false,
     "tableResultSettingsMap": {},
     "title": ""
    }
   },
   "source": [
    "The below query for checking whether all the rows have been loaded in the table from the file.[](url)"
   ]
  },
  {
   "cell_type": "code",
   "execution_count": 0,
   "metadata": {
    "application/vnd.databricks.v1+cell": {
     "cellMetadata": {
      "byteLimit": 2048000,
      "implicitDf": true,
      "rowLimit": 10000
     },
     "inputWidgets": {},
     "nuid": "4a93f4aa-c30a-4469-b690-24e0e6d7959f",
     "showTitle": false,
     "tableResultSettingsMap": {},
     "title": ""
    }
   },
   "outputs": [
    {
     "output_type": "display_data",
     "data": {
      "text/html": [
       "<style scoped>\n",
       "  .table-result-container {\n",
       "    max-height: 300px;\n",
       "    overflow: auto;\n",
       "  }\n",
       "  table, th, td {\n",
       "    border: 1px solid black;\n",
       "    border-collapse: collapse;\n",
       "  }\n",
       "  th, td {\n",
       "    padding: 5px;\n",
       "  }\n",
       "  th {\n",
       "    text-align: left;\n",
       "  }\n",
       "</style><div class='table-result-container'><table class='table-result'><thead style='background-color: white'><tr><th>count(1)</th></tr></thead><tbody><tr><td>14607607</td></tr></tbody></table></div>"
      ]
     },
     "metadata": {
      "application/vnd.databricks.v1+output": {
       "addedWidgets": {},
       "aggData": [],
       "aggError": "",
       "aggOverflow": false,
       "aggSchema": [],
       "aggSeriesLimitReached": false,
       "aggType": "",
       "arguments": {},
       "columnCustomDisplayInfos": {},
       "data": [
        [
         14607607
        ]
       ],
       "datasetInfos": [],
       "dbfsResultPath": null,
       "isJsonSchema": true,
       "metadata": {},
       "overflow": false,
       "plotOptions": {
        "customPlotOptions": {},
        "displayType": "table",
        "pivotAggregation": null,
        "pivotColumns": null,
        "xColumns": null,
        "yColumns": null
       },
       "removedWidgets": [],
       "schema": [
        {
         "metadata": "{\"__autoGeneratedAlias\":\"true\"}",
         "name": "count(1)",
         "type": "\"long\""
        }
       ],
       "type": "table"
      }
     },
     "output_type": "display_data"
    }
   ],
   "source": [
    "%sql\n",
    "Select count(*) \n",
    " from General_2023_OpenPayments "
   ]
  },
  {
   "cell_type": "markdown",
   "metadata": {
    "application/vnd.databricks.v1+cell": {
     "cellMetadata": {},
     "inputWidgets": {},
     "nuid": "5eb033d5-1fec-41aa-bf9c-19dffb778150",
     "showTitle": false,
     "tableResultSettingsMap": {},
     "title": ""
    }
   },
   "source": [
    "The below query for checking the different types of Types Covered Recipient Type in th table. Since all the types may not be eligible for reiumbursement."
   ]
  },
  {
   "cell_type": "code",
   "execution_count": 0,
   "metadata": {
    "application/vnd.databricks.v1+cell": {
     "cellMetadata": {
      "byteLimit": 2048000,
      "implicitDf": true,
      "rowLimit": 10000
     },
     "inputWidgets": {},
     "nuid": "ae56e072-93d9-43e9-92b6-03179ba08be6",
     "showTitle": false,
     "tableResultSettingsMap": {},
     "title": ""
    }
   },
   "outputs": [
    {
     "output_type": "display_data",
     "data": {
      "text/html": [
       "<style scoped>\n",
       "  .table-result-container {\n",
       "    max-height: 300px;\n",
       "    overflow: auto;\n",
       "  }\n",
       "  table, th, td {\n",
       "    border: 1px solid black;\n",
       "    border-collapse: collapse;\n",
       "  }\n",
       "  th, td {\n",
       "    padding: 5px;\n",
       "  }\n",
       "  th {\n",
       "    text-align: left;\n",
       "  }\n",
       "</style><div class='table-result-container'><table class='table-result'><thead style='background-color: white'><tr><th>Covered_Recipient_Type</th></tr></thead><tbody><tr><td>Covered Recipient Teaching Hospital</td></tr><tr><td>Covered Recipient Non-Physician Practitioner</td></tr><tr><td>Covered Recipient Physician</td></tr><tr><td>192.95\"</td></tr><tr><td>772.90</td></tr><tr><td>null</td></tr><tr><td>244.25</td></tr><tr><td>736.91\"</td></tr><tr><td>040.29</td></tr><tr><td> MDR document review Round 2. Final copy review CER</td></tr><tr><td>574.58</td></tr><tr><td>No</td></tr><tr><td>744.55\"</td></tr><tr><td>634.56</td></tr><tr><td>596.47\"</td></tr><tr><td>443.28</td></tr><tr><td> MSC333\"</td></tr><tr><td>877.35\"</td></tr><tr><td> St. Louis\"\"\"</td></tr><tr><td> MD 6/13/2023 meal $79.81\"</td></tr><tr><td>DEPT RADIOLOGY</td></tr><tr><td> Elad</td></tr><tr><td> publication</td></tr><tr><td> UPP17-000777</td></tr><tr><td> UPP17-000791 & UPP17-000794\"</td></tr><tr><td> UPP17-000819</td></tr><tr><td> but a distribution.  In 2022 and in the Code of Federal Regulations section 403.904(e)(2) there was/is an option \"\"Current or prospective ownership or investment interest\"\".  This answer is NOT showing in the drop down box for Nature of Payment/Transfer of Value.\"</td></tr><tr><td> UPP17-000791</td></tr><tr><td> Houston</td></tr><tr><td> Dr. Niv</td></tr><tr><td>STE D</td></tr><tr><td>STE L</td></tr><tr><td> ViewAssist\"\"\"</td></tr></tbody></table></div>"
      ]
     },
     "metadata": {
      "application/vnd.databricks.v1+output": {
       "addedWidgets": {},
       "aggData": [],
       "aggError": "",
       "aggOverflow": false,
       "aggSchema": [],
       "aggSeriesLimitReached": false,
       "aggType": "",
       "arguments": {},
       "columnCustomDisplayInfos": {},
       "data": [
        [
         "Covered Recipient Teaching Hospital"
        ],
        [
         "Covered Recipient Non-Physician Practitioner"
        ],
        [
         "Covered Recipient Physician"
        ],
        [
         "192.95\""
        ],
        [
         "772.90"
        ],
        [
         null
        ],
        [
         "244.25"
        ],
        [
         "736.91\""
        ],
        [
         "040.29"
        ],
        [
         " MDR document review Round 2. Final copy review CER"
        ],
        [
         "574.58"
        ],
        [
         "No"
        ],
        [
         "744.55\""
        ],
        [
         "634.56"
        ],
        [
         "596.47\""
        ],
        [
         "443.28"
        ],
        [
         " MSC333\""
        ],
        [
         "877.35\""
        ],
        [
         " St. Louis\"\"\""
        ],
        [
         " MD 6/13/2023 meal $79.81\""
        ],
        [
         "DEPT RADIOLOGY"
        ],
        [
         " Elad"
        ],
        [
         " publication"
        ],
        [
         " UPP17-000777"
        ],
        [
         " UPP17-000791 & UPP17-000794\""
        ],
        [
         " UPP17-000819"
        ],
        [
         " but a distribution.  In 2022 and in the Code of Federal Regulations section 403.904(e)(2) there was/is an option \"\"Current or prospective ownership or investment interest\"\".  This answer is NOT showing in the drop down box for Nature of Payment/Transfer of Value.\""
        ],
        [
         " UPP17-000791"
        ],
        [
         " Houston"
        ],
        [
         " Dr. Niv"
        ],
        [
         "STE D"
        ],
        [
         "STE L"
        ],
        [
         " ViewAssist\"\"\""
        ]
       ],
       "datasetInfos": [],
       "dbfsResultPath": null,
       "isJsonSchema": true,
       "metadata": {},
       "overflow": false,
       "plotOptions": {
        "customPlotOptions": {},
        "displayType": "table",
        "pivotAggregation": null,
        "pivotColumns": null,
        "xColumns": null,
        "yColumns": null
       },
       "removedWidgets": [],
       "schema": [
        {
         "metadata": "{}",
         "name": "Covered_Recipient_Type",
         "type": "\"string\""
        }
       ],
       "type": "table"
      }
     },
     "output_type": "display_data"
    }
   ],
   "source": [
    "%sql\n",
    "Select distinct Covered_Recipient_Type from General_2023_OpenPayments"
   ]
  },
  {
   "cell_type": "markdown",
   "metadata": {
    "application/vnd.databricks.v1+cell": {
     "cellMetadata": {},
     "inputWidgets": {},
     "nuid": "4d610dd2-3d83-4e99-a4e3-c21db83ac55b",
     "showTitle": false,
     "tableResultSettingsMap": {},
     "title": ""
    }
   },
   "source": [
    "The below code is for loading the Research file in a dataframe and then into a table."
   ]
  },
  {
   "cell_type": "code",
   "execution_count": 0,
   "metadata": {
    "application/vnd.databricks.v1+cell": {
     "cellMetadata": {
      "byteLimit": 2048000,
      "rowLimit": 10000
     },
     "inputWidgets": {},
     "nuid": "6482be4c-f067-47c9-b0ac-35c938b94601",
     "showTitle": false,
     "tableResultSettingsMap": {},
     "title": ""
    }
   },
   "outputs": [],
   "source": [
    "# File location and type\n",
    "file_location = \"/FileStore/tables/OP_DTL_RSRCH_PGYR2023_P01302025_01212025-1.csv\"\n",
    "file_type = \"csv\"\n",
    "\n",
    "# CSV options\n",
    "infer_schema = \"false\"\n",
    "first_row_is_header = \"true\"\n",
    "delimiter = \",\"\n",
    "\n",
    "# The applied options are for CSV files. For other file types, these will be ignored.\n",
    "df = spark.read.format(file_type) \\\n",
    "  .option(\"inferSchema\", infer_schema) \\\n",
    "  .option(\"header\", first_row_is_header) \\\n",
    "  .option(\"sep\", delimiter) \\\n",
    "  .load(file_location)\n",
    "\n",
    "#display(df)"
   ]
  },
  {
   "cell_type": "code",
   "execution_count": 0,
   "metadata": {
    "application/vnd.databricks.v1+cell": {
     "cellMetadata": {
      "byteLimit": 2048000,
      "rowLimit": 10000
     },
     "inputWidgets": {},
     "nuid": "bd82bb99-1479-4d5c-be10-8c36df0f1d44",
     "showTitle": false,
     "tableResultSettingsMap": {},
     "title": ""
    }
   },
   "outputs": [],
   "source": [
    "# Create a view or table\n",
    "\n",
    "temp_table_name = \"Research_table\"\n",
    "\n",
    "df.createOrReplaceTempView(temp_table_name)"
   ]
  },
  {
   "cell_type": "markdown",
   "metadata": {
    "application/vnd.databricks.v1+cell": {
     "cellMetadata": {},
     "inputWidgets": {},
     "nuid": "83099360-b0aa-4fc6-9408-8b878385b583",
     "showTitle": false,
     "tableResultSettingsMap": {},
     "title": ""
    }
   },
   "source": [
    "The below query for checking whether all the rows have been loaded in the table from the file.[](url)"
   ]
  },
  {
   "cell_type": "code",
   "execution_count": 0,
   "metadata": {
    "application/vnd.databricks.v1+cell": {
     "cellMetadata": {
      "byteLimit": 2048000,
      "implicitDf": true,
      "rowLimit": 10000
     },
     "inputWidgets": {},
     "nuid": "29b3d98b-04b4-4811-8c2b-3dab9342ea27",
     "showTitle": false,
     "tableResultSettingsMap": {},
     "title": ""
    }
   },
   "outputs": [
    {
     "output_type": "display_data",
     "data": {
      "text/html": [
       "<style scoped>\n",
       "  .table-result-container {\n",
       "    max-height: 300px;\n",
       "    overflow: auto;\n",
       "  }\n",
       "  table, th, td {\n",
       "    border: 1px solid black;\n",
       "    border-collapse: collapse;\n",
       "  }\n",
       "  th, td {\n",
       "    padding: 5px;\n",
       "  }\n",
       "  th {\n",
       "    text-align: left;\n",
       "  }\n",
       "</style><div class='table-result-container'><table class='table-result'><thead style='background-color: white'><tr><th>count(1)</th></tr></thead><tbody><tr><td>1028283</td></tr></tbody></table></div>"
      ]
     },
     "metadata": {
      "application/vnd.databricks.v1+output": {
       "addedWidgets": {},
       "aggData": [],
       "aggError": "",
       "aggOverflow": false,
       "aggSchema": [],
       "aggSeriesLimitReached": false,
       "aggType": "",
       "arguments": {},
       "columnCustomDisplayInfos": {},
       "data": [
        [
         1028283
        ]
       ],
       "datasetInfos": [],
       "dbfsResultPath": null,
       "isJsonSchema": true,
       "metadata": {},
       "overflow": false,
       "plotOptions": {
        "customPlotOptions": {},
        "displayType": "table",
        "pivotAggregation": null,
        "pivotColumns": null,
        "xColumns": null,
        "yColumns": null
       },
       "removedWidgets": [],
       "schema": [
        {
         "metadata": "{\"__autoGeneratedAlias\":\"true\"}",
         "name": "count(1)",
         "type": "\"long\""
        }
       ],
       "type": "table"
      }
     },
     "output_type": "display_data"
    }
   ],
   "source": [
    "%sql\n",
    "Select count(*) from Research_table;"
   ]
  },
  {
   "cell_type": "markdown",
   "metadata": {
    "application/vnd.databricks.v1+cell": {
     "cellMetadata": {},
     "inputWidgets": {},
     "nuid": "06ae175f-c3e1-4b61-b862-897b0dc11572",
     "showTitle": false,
     "tableResultSettingsMap": {},
     "title": ""
    }
   },
   "source": [
    "The below code is for loading the Recepient file in a dataframe and then into a table."
   ]
  },
  {
   "cell_type": "code",
   "execution_count": 0,
   "metadata": {
    "application/vnd.databricks.v1+cell": {
     "cellMetadata": {
      "byteLimit": 2048000,
      "rowLimit": 10000
     },
     "inputWidgets": {},
     "nuid": "b5f66379-6f7f-42ec-8e82-d0e0926a1721",
     "showTitle": false,
     "tableResultSettingsMap": {},
     "title": ""
    }
   },
   "outputs": [],
   "source": [
    "# File location and type\n",
    "file_location = \"/FileStore/tables/OP_CVRD_RCPNT_PRFL_SPLMTL_P01302025_01212025.csv\"\n",
    "file_type = \"csv\"\n",
    "\n",
    "# CSV options\n",
    "infer_schema = \"false\"\n",
    "first_row_is_header = \"true\"\n",
    "delimiter = \",\"\n",
    "\n",
    "# The applied options are for CSV files. For other file types, these will be ignored.\n",
    "df = spark.read.format(file_type) \\\n",
    "  .option(\"inferSchema\", infer_schema) \\\n",
    "  .option(\"header\", first_row_is_header) \\\n",
    "  .option(\"sep\", delimiter) \\\n",
    "  .load(file_location)\n",
    "\n",
    "#display(df)"
   ]
  },
  {
   "cell_type": "code",
   "execution_count": 0,
   "metadata": {
    "application/vnd.databricks.v1+cell": {
     "cellMetadata": {
      "byteLimit": 2048000,
      "rowLimit": 10000
     },
     "inputWidgets": {},
     "nuid": "db9631f6-bb4a-42ca-8a3c-0d48af932331",
     "showTitle": false,
     "tableResultSettingsMap": {},
     "title": ""
    }
   },
   "outputs": [],
   "source": [
    "# Create a view or table\n",
    "\n",
    "temp_table_name = \"Recepient_table\"\n",
    "\n",
    "df.createOrReplaceTempView(temp_table_name)"
   ]
  },
  {
   "cell_type": "markdown",
   "metadata": {
    "application/vnd.databricks.v1+cell": {
     "cellMetadata": {},
     "inputWidgets": {},
     "nuid": "7ca01bf2-46b8-4c09-b5a4-e9c3c8e1d32e",
     "showTitle": false,
     "tableResultSettingsMap": {},
     "title": ""
    }
   },
   "source": [
    "The below query for checking whether all the rows have been loaded in the table from the file.[](url)"
   ]
  },
  {
   "cell_type": "code",
   "execution_count": 0,
   "metadata": {
    "application/vnd.databricks.v1+cell": {
     "cellMetadata": {
      "byteLimit": 2048000,
      "implicitDf": true,
      "rowLimit": 10000
     },
     "inputWidgets": {},
     "nuid": "cba0e1e6-bcfe-4a00-a6a9-c4d73bd235b7",
     "showTitle": false,
     "tableResultSettingsMap": {},
     "title": ""
    }
   },
   "outputs": [
    {
     "output_type": "display_data",
     "data": {
      "text/html": [
       "<style scoped>\n",
       "  .table-result-container {\n",
       "    max-height: 300px;\n",
       "    overflow: auto;\n",
       "  }\n",
       "  table, th, td {\n",
       "    border: 1px solid black;\n",
       "    border-collapse: collapse;\n",
       "  }\n",
       "  th, td {\n",
       "    padding: 5px;\n",
       "  }\n",
       "  th {\n",
       "    text-align: left;\n",
       "  }\n",
       "</style><div class='table-result-container'><table class='table-result'><thead style='background-color: white'><tr><th>count(1)</th></tr></thead><tbody><tr><td>1530413</td></tr></tbody></table></div>"
      ]
     },
     "metadata": {
      "application/vnd.databricks.v1+output": {
       "addedWidgets": {},
       "aggData": [],
       "aggError": "",
       "aggOverflow": false,
       "aggSchema": [],
       "aggSeriesLimitReached": false,
       "aggType": "",
       "arguments": {},
       "columnCustomDisplayInfos": {},
       "data": [
        [
         1530413
        ]
       ],
       "datasetInfos": [],
       "dbfsResultPath": null,
       "isJsonSchema": true,
       "metadata": {},
       "overflow": false,
       "plotOptions": {
        "customPlotOptions": {},
        "displayType": "table",
        "pivotAggregation": null,
        "pivotColumns": null,
        "xColumns": null,
        "yColumns": null
       },
       "removedWidgets": [],
       "schema": [
        {
         "metadata": "{\"__autoGeneratedAlias\":\"true\"}",
         "name": "count(1)",
         "type": "\"long\""
        }
       ],
       "type": "table"
      }
     },
     "output_type": "display_data"
    }
   ],
   "source": [
    "%sql\n",
    "Select count(*) from Recepient_table"
   ]
  },
  {
   "cell_type": "markdown",
   "metadata": {
    "application/vnd.databricks.v1+cell": {
     "cellMetadata": {},
     "inputWidgets": {},
     "nuid": "00aac84c-cf37-4b4a-b1c3-3b8584bebede",
     "showTitle": false,
     "tableResultSettingsMap": {},
     "title": ""
    }
   },
   "source": [
    "The General_2023_OpenPayments is joined with Recepient_table based on the Covered_Recipient_Profile_ID to have the records that are eligible for the reuimbursement."
   ]
  },
  {
   "cell_type": "code",
   "execution_count": 0,
   "metadata": {
    "application/vnd.databricks.v1+cell": {
     "cellMetadata": {
      "byteLimit": 2048000,
      "rowLimit": 10000
     },
     "inputWidgets": {},
     "nuid": "9c2bfb93-d93c-410f-a247-9b170a88dee5",
     "showTitle": false,
     "tableResultSettingsMap": {},
     "title": ""
    }
   },
   "outputs": [],
   "source": [
    "\n",
    "from pyspark.sql.functions import col\n",
    "\n",
    "# Loading the tables tables\n",
    "General_Open_Payments_df = spark.table(\"General_2023_OpenPayments\")\n",
    "recepient_df = spark.table(\"Recepient_table\")\n",
    "\n",
    "# To match the key column types match\n",
    "General_Open_Payments_df = General_Open_Payments_df.withColumn(\"Covered_Recipient_Profile_ID\", col(\"Covered_Recipient_Profile_ID\").cast(\"string\"))\n",
    "recepient_df = recepient_df.withColumn(\"Covered_Recipient_Profile_ID\", col(\"Covered_Recipient_Profile_ID\").cast(\"string\"))\n",
    "\n",
    "# Filtering Research using inner join, but only keeping Research columns\n",
    "General_Open_Payments_df_filtered = General_Open_Payments_df.join(\n",
    "    recepient_df.select(\"Covered_Recipient_Profile_ID\").dropna().distinct(),\n",
    "    on=\"Covered_Recipient_Profile_ID\",\n",
    "    how=\"inner\"\n",
    ").select(General_Open_Payments_df.columns)  # <- Only keeps Research_csv columns\n",
    "\n",
    "# Saving as new table\n",
    "General_Open_Payments_df_filtered.write \\\n",
    "    .format(\"delta\") \\\n",
    "    .mode(\"overwrite\") \\\n",
    "    .saveAsTable(\"General_Open_Payments_df_filtered\")\n"
   ]
  },
  {
   "cell_type": "code",
   "execution_count": 0,
   "metadata": {
    "application/vnd.databricks.v1+cell": {
     "cellMetadata": {
      "byteLimit": 2048000,
      "implicitDf": true,
      "rowLimit": 10000
     },
     "inputWidgets": {},
     "nuid": "7bc8f436-5f5e-47d9-b3db-b8868c41fb60",
     "showTitle": false,
     "tableResultSettingsMap": {},
     "title": ""
    }
   },
   "outputs": [
    {
     "output_type": "display_data",
     "data": {
      "text/html": [
       "<style scoped>\n",
       "  .ansiout {\n",
       "    display: block;\n",
       "    unicode-bidi: embed;\n",
       "    white-space: pre-wrap;\n",
       "    word-wrap: break-word;\n",
       "    word-break: break-all;\n",
       "    font-family: \"Menlo\", \"Monaco\", \"Consolas\", \"Ubuntu Mono\", \"Source Code Pro\", monospace;\n",
       "    font-size: 13px;\n",
       "    color: #555;\n",
       "    margin-left: 4px;\n",
       "    line-height: 19px;\n",
       "  }\n",
       "</style>"
      ]
     },
     "metadata": {
      "application/vnd.databricks.v1+output": {
       "arguments": {},
       "data": "",
       "errorSummary": "Cancelled",
       "errorTraceType": "html",
       "metadata": {},
       "type": "ipynbError"
      }
     },
     "output_type": "display_data"
    }
   ],
   "source": [
    "%sql\n",
    "Select distinct Covered_Recipient_Type\n",
    " from General_Open_Payments_df_filtered"
   ]
  },
  {
   "cell_type": "markdown",
   "metadata": {
    "application/vnd.databricks.v1+cell": {
     "cellMetadata": {},
     "inputWidgets": {},
     "nuid": "5325068e-f30b-4284-a775-5dea6198c51b",
     "showTitle": false,
     "tableResultSettingsMap": {},
     "title": ""
    }
   },
   "source": [
    "The below code is used to filter the unwanted Types from the Covered_Recipient_Type in order to clean the datasets"
   ]
  },
  {
   "cell_type": "code",
   "execution_count": 0,
   "metadata": {
    "application/vnd.databricks.v1+cell": {
     "cellMetadata": {
      "byteLimit": 2048000,
      "rowLimit": 10000
     },
     "inputWidgets": {},
     "nuid": "0ce8c6ed-d932-4f34-9238-dbbcc06c7d97",
     "showTitle": false,
     "tableResultSettingsMap": {},
     "title": ""
    }
   },
   "outputs": [],
   "source": [
    "from pyspark.sql.functions import col\n",
    "\n",
    "# Loading the table into a DataFrame\n",
    "df = spark.table(\"General_Open_Payments_df_filtered\")\n",
    "\n",
    "# Defining allowed values\n",
    "valid_types = [\n",
    "    \"Covered Recipient Physician\",\n",
    "    \"Covered Recipient Non-Physician Practitioner\",\n",
    "    \"Covered Recipient Physician/Covered Recipient Non-Physician Practitioner\"\n",
    "]\n",
    "\n",
    "# Filtering the DataFrame\n",
    "filtered_df = df.filter(col(\"Covered_Recipient_Type\").isin(valid_types))\n",
    "\n",
    "# Overwriting the table with filtered data\n",
    "filtered_df.write.mode(\"overwrite\").saveAsTable(\"General_Open_Payments_df_filtered\")"
   ]
  },
  {
   "cell_type": "code",
   "execution_count": 0,
   "metadata": {
    "application/vnd.databricks.v1+cell": {
     "cellMetadata": {
      "byteLimit": 2048000,
      "implicitDf": true,
      "rowLimit": 10000
     },
     "inputWidgets": {},
     "nuid": "ffbe214c-f78c-4d90-a92b-51a4cae32690",
     "showTitle": false,
     "tableResultSettingsMap": {},
     "title": ""
    }
   },
   "outputs": [
    {
     "output_type": "display_data",
     "data": {
      "text/html": [
       "<style scoped>\n",
       "  .table-result-container {\n",
       "    max-height: 300px;\n",
       "    overflow: auto;\n",
       "  }\n",
       "  table, th, td {\n",
       "    border: 1px solid black;\n",
       "    border-collapse: collapse;\n",
       "  }\n",
       "  th, td {\n",
       "    padding: 5px;\n",
       "  }\n",
       "  th {\n",
       "    text-align: left;\n",
       "  }\n",
       "</style><div class='table-result-container'><table class='table-result'><thead style='background-color: white'><tr><th>Covered_Recipient_Type</th></tr></thead><tbody><tr><td>Covered Recipient Non-Physician Practitioner</td></tr><tr><td>Covered Recipient Physician</td></tr></tbody></table></div>"
      ]
     },
     "metadata": {
      "application/vnd.databricks.v1+output": {
       "addedWidgets": {},
       "aggData": [],
       "aggError": "",
       "aggOverflow": false,
       "aggSchema": [],
       "aggSeriesLimitReached": false,
       "aggType": "",
       "arguments": {},
       "columnCustomDisplayInfos": {},
       "data": [
        [
         "Covered Recipient Non-Physician Practitioner"
        ],
        [
         "Covered Recipient Physician"
        ]
       ],
       "datasetInfos": [],
       "dbfsResultPath": null,
       "isJsonSchema": true,
       "metadata": {},
       "overflow": false,
       "plotOptions": {
        "customPlotOptions": {},
        "displayType": "table",
        "pivotAggregation": null,
        "pivotColumns": null,
        "xColumns": null,
        "yColumns": null
       },
       "removedWidgets": [],
       "schema": [
        {
         "metadata": "{}",
         "name": "Covered_Recipient_Type",
         "type": "\"string\""
        }
       ],
       "type": "table"
      }
     },
     "output_type": "display_data"
    }
   ],
   "source": [
    "%sql\n",
    "Select distinct Covered_Recipient_Type\n",
    " from General_Open_Payments_df_filtered"
   ]
  },
  {
   "cell_type": "markdown",
   "metadata": {
    "application/vnd.databricks.v1+cell": {
     "cellMetadata": {},
     "inputWidgets": {},
     "nuid": "c7fa68c8-6326-4d0f-b284-36a94c14136d",
     "showTitle": false,
     "tableResultSettingsMap": {},
     "title": ""
    }
   },
   "source": [
    "The Research table is joined with Recepient_table based on the Covered_Recipient_Profile_ID to have the records that are eligible for the reuimbursement."
   ]
  },
  {
   "cell_type": "code",
   "execution_count": 0,
   "metadata": {
    "application/vnd.databricks.v1+cell": {
     "cellMetadata": {
      "byteLimit": 2048000,
      "rowLimit": 10000
     },
     "inputWidgets": {},
     "nuid": "23fa2d1b-93a2-43f3-a300-110e1437e533",
     "showTitle": false,
     "tableResultSettingsMap": {},
     "title": ""
    }
   },
   "outputs": [],
   "source": [
    "from pyspark.sql.functions import col\n",
    "\n",
    "# Load tables\n",
    "Research_table_df = spark.table(\"Research_table\")\n",
    "recepient_df = spark.table(\"Recepient_table\")\n",
    "\n",
    "# Ensure key column types match\n",
    "Research_table_df = Research_table_df.withColumn(\"Covered_Recipient_Profile_ID\", col(\"Covered_Recipient_Profile_ID\").cast(\"string\"))\n",
    "recepient_df = recepient_df.withColumn(\"Covered_Recipient_Profile_ID\", col(\"Covered_Recipient_Profile_ID\").cast(\"string\"))\n",
    "\n",
    "# Filter Research using inner join, but only keep Research columns\n",
    "Research_table_df_filtered = Research_table_df.join(\n",
    "    recepient_df.select(\"Covered_Recipient_Profile_ID\").dropna().distinct(),\n",
    "    on=\"Covered_Recipient_Profile_ID\",\n",
    "    how=\"inner\"\n",
    ").select(Research_table_df.columns)  # <- Only keeps Research_csv columns\n",
    "\n",
    "# Save as new table\n",
    "Research_table_df_filtered.write \\\n",
    "    .format(\"delta\") \\\n",
    "    .mode(\"overwrite\") \\\n",
    "    .saveAsTable(\"Research_table_df_filtered\")\n"
   ]
  },
  {
   "cell_type": "markdown",
   "metadata": {
    "application/vnd.databricks.v1+cell": {
     "cellMetadata": {},
     "inputWidgets": {},
     "nuid": "b9c75510-c7e8-482d-978d-f7a43e70c65d",
     "showTitle": false,
     "tableResultSettingsMap": {},
     "title": ""
    }
   },
   "source": [
    "The below query to check the counts eligible for the Reuimbursement from the Research table."
   ]
  },
  {
   "cell_type": "code",
   "execution_count": 0,
   "metadata": {
    "application/vnd.databricks.v1+cell": {
     "cellMetadata": {
      "byteLimit": 2048000,
      "implicitDf": true,
      "rowLimit": 10000
     },
     "inputWidgets": {},
     "nuid": "7adf5904-32d8-4c0b-83e9-2e924ead966e",
     "showTitle": false,
     "tableResultSettingsMap": {},
     "title": ""
    }
   },
   "outputs": [
    {
     "output_type": "display_data",
     "data": {
      "text/html": [
       "<style scoped>\n",
       "  .table-result-container {\n",
       "    max-height: 300px;\n",
       "    overflow: auto;\n",
       "  }\n",
       "  table, th, td {\n",
       "    border: 1px solid black;\n",
       "    border-collapse: collapse;\n",
       "  }\n",
       "  th, td {\n",
       "    padding: 5px;\n",
       "  }\n",
       "  th {\n",
       "    text-align: left;\n",
       "  }\n",
       "</style><div class='table-result-container'><table class='table-result'><thead style='background-color: white'><tr><th>count(1)</th></tr></thead><tbody><tr><td>26273</td></tr></tbody></table></div>"
      ]
     },
     "metadata": {
      "application/vnd.databricks.v1+output": {
       "addedWidgets": {},
       "aggData": [],
       "aggError": "",
       "aggOverflow": false,
       "aggSchema": [],
       "aggSeriesLimitReached": false,
       "aggType": "",
       "arguments": {},
       "columnCustomDisplayInfos": {},
       "data": [
        [
         26273
        ]
       ],
       "datasetInfos": [],
       "dbfsResultPath": null,
       "isJsonSchema": true,
       "metadata": {},
       "overflow": false,
       "plotOptions": {
        "customPlotOptions": {},
        "displayType": "table",
        "pivotAggregation": null,
        "pivotColumns": null,
        "xColumns": null,
        "yColumns": null
       },
       "removedWidgets": [],
       "schema": [
        {
         "metadata": "{\"__autoGeneratedAlias\":\"true\"}",
         "name": "count(1)",
         "type": "\"long\""
        }
       ],
       "type": "table"
      }
     },
     "output_type": "display_data"
    }
   ],
   "source": [
    "%sql\n",
    "Select count(*) from Research_table_df_filtered;"
   ]
  },
  {
   "cell_type": "code",
   "execution_count": 0,
   "metadata": {
    "application/vnd.databricks.v1+cell": {
     "cellMetadata": {
      "byteLimit": 2048000,
      "implicitDf": true,
      "rowLimit": 10000
     },
     "inputWidgets": {},
     "nuid": "aa7f575b-4275-497c-9140-defe9f9d0787",
     "showTitle": false,
     "tableResultSettingsMap": {},
     "title": ""
    }
   },
   "outputs": [
    {
     "output_type": "display_data",
     "data": {
      "text/html": [
       "<style scoped>\n",
       "  .table-result-container {\n",
       "    max-height: 300px;\n",
       "    overflow: auto;\n",
       "  }\n",
       "  table, th, td {\n",
       "    border: 1px solid black;\n",
       "    border-collapse: collapse;\n",
       "  }\n",
       "  th, td {\n",
       "    padding: 5px;\n",
       "  }\n",
       "  th {\n",
       "    text-align: left;\n",
       "  }\n",
       "</style><div class='table-result-container'><table class='table-result'><thead style='background-color: white'><tr><th>Covered_Recipient_Type</th></tr></thead><tbody><tr><td>Covered Recipient Non-Physician Practitioner</td></tr><tr><td>Covered Recipient Physician</td></tr></tbody></table></div>"
      ]
     },
     "metadata": {
      "application/vnd.databricks.v1+output": {
       "addedWidgets": {},
       "aggData": [],
       "aggError": "",
       "aggOverflow": false,
       "aggSchema": [],
       "aggSeriesLimitReached": false,
       "aggType": "",
       "arguments": {},
       "columnCustomDisplayInfos": {},
       "data": [
        [
         "Covered Recipient Non-Physician Practitioner"
        ],
        [
         "Covered Recipient Physician"
        ]
       ],
       "datasetInfos": [],
       "dbfsResultPath": null,
       "isJsonSchema": true,
       "metadata": {},
       "overflow": false,
       "plotOptions": {
        "customPlotOptions": {},
        "displayType": "table",
        "pivotAggregation": null,
        "pivotColumns": null,
        "xColumns": null,
        "yColumns": null
       },
       "removedWidgets": [],
       "schema": [
        {
         "metadata": "{}",
         "name": "Covered_Recipient_Type",
         "type": "\"string\""
        }
       ],
       "type": "table"
      }
     },
     "output_type": "display_data"
    }
   ],
   "source": [
    "%sql\n",
    "Select distinct Covered_Recipient_Type\n",
    " from Research_table_df_filtered"
   ]
  },
  {
   "cell_type": "markdown",
   "metadata": {
    "application/vnd.databricks.v1+cell": {
     "cellMetadata": {},
     "inputWidgets": {},
     "nuid": "882a192e-47ef-421c-9014-ff827f9d8c7c",
     "showTitle": false,
     "tableResultSettingsMap": {},
     "title": ""
    }
   },
   "source": [
    "The below three code blocks is written to create a table with few selected columns that are required for the assignment. Thus it will save execution time. A union is performed on the tables to combine the records based on the y-axis. Thus all the records will be there in one table from where we can answer the questions of the assignment."
   ]
  },
  {
   "cell_type": "code",
   "execution_count": 0,
   "metadata": {
    "application/vnd.databricks.v1+cell": {
     "cellMetadata": {
      "byteLimit": 2048000,
      "rowLimit": 10000
     },
     "inputWidgets": {},
     "nuid": "65b339f5-b54d-4802-b48a-6bfa57ac86f0",
     "showTitle": false,
     "tableResultSettingsMap": {},
     "title": ""
    }
   },
   "outputs": [],
   "source": [
    "from pyspark.sql.functions import col\n",
    "\n",
    "# Select and rename the necessary columns since union will be perfromed so the colum names should be same \n",
    "selected_df = Research_table_df_filtered.select(\n",
    "    \"Covered_Recipient_Profile_ID\",\n",
    "    \"Covered_Recipient_NPI\",\n",
    "    \"Covered_Recipient_First_Name\",\n",
    "    \"Covered_Recipient_Middle_Name\",\n",
    "    \"Covered_Recipient_Last_Name\",\n",
    "    \"Covered_Recipient_Specialty_1\",\n",
    "    \"Total_Amount_of_Payment_USDollars\",\n",
    "    col(\"Form_of_Payment_or_Transfer_of_Value\").alias(\"Nature_of_Payment_or_Transfer_of_Value\")\n",
    ")\n",
    "\n",
    "# Save as a new Delta table with renamed column\n",
    "selected_df.write \\\n",
    "    .format(\"delta\") \\\n",
    "    .mode(\"overwrite\") \\\n",
    "    .saveAsTable(\"Research_Payments_Modified\")"
   ]
  },
  {
   "cell_type": "code",
   "execution_count": 0,
   "metadata": {
    "application/vnd.databricks.v1+cell": {
     "cellMetadata": {
      "byteLimit": 2048000,
      "rowLimit": 10000
     },
     "inputWidgets": {},
     "nuid": "8ce07977-2711-45da-812e-26c031f2422f",
     "showTitle": false,
     "tableResultSettingsMap": {},
     "title": ""
    }
   },
   "outputs": [],
   "source": [
    "# Select only the columns needed\n",
    "selected_df = General_Open_Payments_df_filtered.select(\n",
    "    \"Covered_Recipient_Profile_ID\",\n",
    "    \"Covered_Recipient_NPI\",\n",
    "    \"Covered_Recipient_First_Name\",\n",
    "    \"Covered_Recipient_Middle_Name\",\n",
    "    \"Covered_Recipient_Last_Name\",\n",
    "    \"Covered_Recipient_Specialty_1\",\n",
    "    \"Total_Amount_of_Payment_USDollars\",\n",
    "    \"Nature_of_Payment_or_Transfer_of_Value\"\n",
    ")\n",
    "\n",
    "# Save the selected data as a new Delta table\n",
    "selected_df.write \\\n",
    "    .format(\"delta\") \\\n",
    "    .mode(\"overwrite\") \\\n",
    "    .saveAsTable(\"General_Open_Payments_Modified\")"
   ]
  },
  {
   "cell_type": "markdown",
   "metadata": {
    "application/vnd.databricks.v1+cell": {
     "cellMetadata": {},
     "inputWidgets": {},
     "nuid": "6ead9033-f0d9-4dc2-bb69-ab87cfe52426",
     "showTitle": false,
     "tableResultSettingsMap": {},
     "title": ""
    }
   },
   "source": [
    "The below code is for performing union of the two tables"
   ]
  },
  {
   "cell_type": "code",
   "execution_count": 0,
   "metadata": {
    "application/vnd.databricks.v1+cell": {
     "cellMetadata": {
      "byteLimit": 2048000,
      "rowLimit": 10000
     },
     "inputWidgets": {},
     "nuid": "14e0f2ab-bba5-411a-a4a9-6aa4a1dcad3e",
     "showTitle": false,
     "tableResultSettingsMap": {},
     "title": ""
    }
   },
   "outputs": [],
   "source": [
    "# Loading both tables\n",
    "research_df = spark.table(\"Research_Payments_Modified\")\n",
    "general_df = spark.table(\"General_Open_Payments_Modified\")\n",
    "\n",
    "# Performing the union\n",
    "union_df = research_df.unionByName(general_df)\n",
    "\n",
    "# Showing the result\n",
    "#union_df.show()\n",
    "\n",
    "# Saving the union result as a new Delta table\n",
    "union_df.write \\\n",
    "    .format(\"delta\") \\\n",
    "    .mode(\"overwrite\") \\\n",
    "    .saveAsTable(\"Combined_Research_General_Payments\")"
   ]
  },
  {
   "cell_type": "code",
   "execution_count": 0,
   "metadata": {
    "application/vnd.databricks.v1+cell": {
     "cellMetadata": {
      "byteLimit": 2048000,
      "rowLimit": 10000
     },
     "inputWidgets": {},
     "nuid": "62a39809-10e2-47e1-bf43-c7c00350d1c0",
     "showTitle": false,
     "tableResultSettingsMap": {},
     "title": ""
    }
   },
   "outputs": [
    {
     "output_type": "stream",
     "name": "stdout",
     "output_type": "stream",
     "text": [
      "+--------------------------------------+------+\n|Nature_of_Payment_or_Transfer_of_Value| count|\n+--------------------------------------+------+\n|                  Compensation for ...|161476|\n|                        Consulting Fee|104564|\n|                    Travel and Lodging| 24711|\n|                             Honoraria| 13741|\n|                             Education| 12503|\n|                    Royalty or License| 10573|\n|                  Compensation for ...|  8655|\n|                  Cash or cash equi...|  6156|\n|                                 Grant|  2222|\n|                  In-kind items and...|  2001|\n|                  Long term medical...|   998|\n|                     Food and Beverage|   951|\n|                                  Gift|   578|\n|                          Acquisitions|   562|\n|                      Debt forgiveness|   438|\n|                         Entertainment|    30|\n|                  Charitable Contri...|    23|\n+--------------------------------------+------+\n\n"
     ]
    }
   ],
   "source": [
    "# 1. What is the Nature of Payments with reimbursement amounts greater than $1,000 ordered by count?\n",
    "\n",
    "from pyspark.sql.functions import col\n",
    "\n",
    "# Loading the unified payments table\n",
    "df = spark.table(\"Combined_Research_General_Payments\")\n",
    "\n",
    "# Filtering payments greater than $1,000 and group by Nature of Payment\n",
    "nature_over_1000 = df.filter(col(\"Total_Amount_of_Payment_USDollars\") > 1000) \\\n",
    "    .groupBy(\"Nature_of_Payment_or_Transfer_of_Value\") \\\n",
    "    .count() \\\n",
    "    .orderBy(col(\"count\").desc())\n",
    "\n",
    "# Showing the result\n",
    "nature_over_1000.show()"
   ]
  },
  {
   "cell_type": "markdown",
   "metadata": {
    "application/vnd.databricks.v1+cell": {
     "cellMetadata": {},
     "inputWidgets": {},
     "nuid": "2b10a514-4c20-4e05-ad38-755f2ad8bc08",
     "showTitle": false,
     "tableResultSettingsMap": {},
     "title": ""
    }
   },
   "source": [
    "The top category is \"Compensation for services other than consulting\" with 161,476 occurrences, followed by \"Consulting Fee\" with 104,564 occurrences. Other notable categories include \"Travel and Lodging\" with 24,711, \"Honoraria\" with 13,741, \"Education\" with 12,503, and \"Royalty or License\" with 10,573."
   ]
  },
  {
   "cell_type": "code",
   "execution_count": 0,
   "metadata": {
    "application/vnd.databricks.v1+cell": {
     "cellMetadata": {
      "byteLimit": 2048000,
      "rowLimit": 10000
     },
     "inputWidgets": {},
     "nuid": "d09b945a-85b9-42ff-bfc8-90db1383d19d",
     "showTitle": false,
     "tableResultSettingsMap": {},
     "title": ""
    }
   },
   "outputs": [
    {
     "output_type": "stream",
     "name": "stdout",
     "output_type": "stream",
     "text": [
      "+--------------------------------------+--------+\n|Nature_of_Payment_or_Transfer_of_Value|   count|\n+--------------------------------------+--------+\n|                     Food and Beverage|13378081|\n|                    Travel and Lodging|  545048|\n|                  Compensation for ...|  230121|\n|                        Consulting Fee|  169540|\n|                             Education|  159397|\n|                                  Gift|   31695|\n|                             Honoraria|   20214|\n|                    Royalty or License|   14007|\n|                  In-kind items and...|   13639|\n|                  Cash or cash equi...|   12646|\n+--------------------------------------+--------+\n\n"
     ]
    }
   ],
   "source": [
    "# 2. What are the top ten Nature of Payments by count?\n",
    "from pyspark.sql.functions import col\n",
    "\n",
    "# Load the unified payments table\n",
    "df = spark.table(\"Combined_Research_General_Payments\")\n",
    "\n",
    "# Group by Nature of Payment and count, then get top 10\n",
    "top_nature_by_count = df.groupBy(\"Nature_of_Payment_or_Transfer_of_Value\") \\\n",
    "    .count() \\\n",
    "    .orderBy(col(\"count\").desc()) \\\n",
    "    .limit(10)\n",
    "\n",
    "# Show the result\n",
    "top_nature_by_count.show()"
   ]
  },
  {
   "cell_type": "markdown",
   "metadata": {
    "application/vnd.databricks.v1+cell": {
     "cellMetadata": {},
     "inputWidgets": {},
     "nuid": "1ccdebb1-78c4-4046-b111-715209b22a6b",
     "showTitle": false,
     "tableResultSettingsMap": {},
     "title": ""
    }
   },
   "source": [
    "The top ten nature of payments by count are led by Food and Beverage, which is by far the most frequent, with 13,378,081 instances. This is followed by Travel and Lodging, recorded 545,048 times, and Compensation for services other than consulting, with 230,121 instances. Consulting Fee appears next with 169,540 counts, and Education follows closely with 159,397 instances. Other notable categories include Gift with 31,695 counts, Honoraria with 20,214, and Royalty or License with 14,007.In-kind items and services, reported 13,639 times, and Cash or cash equivalent, which appears 12,646 times. These figures suggest that the majority of payments are related to everyday interactions like meals, travel, and professional services."
   ]
  },
  {
   "cell_type": "code",
   "execution_count": 0,
   "metadata": {
    "application/vnd.databricks.v1+cell": {
     "cellMetadata": {
      "byteLimit": 2048000,
      "rowLimit": 10000
     },
     "inputWidgets": {},
     "nuid": "fb6d608b-9f62-4589-a867-be8b60845598",
     "showTitle": false,
     "tableResultSettingsMap": {},
     "title": ""
    }
   },
   "outputs": [
    {
     "output_type": "stream",
     "name": "stdout",
     "output_type": "stream",
     "text": [
      "+--------------------------------------+--------------------+\n|Nature_of_Payment_or_Transfer_of_Value|        Total_Amount|\n+--------------------------------------+--------------------+\n|                    Royalty or License|      6.2421668879E8|\n|                  Compensation for ...| 5.523960288000003E8|\n|                        Consulting Fee|4.9882258721000195E8|\n|                     Food and Beverage| 3.743433390699808E8|\n|                    Travel and Lodging|1.7943128266999456E8|\n|                          Acquisitions|       7.192577676E7|\n|                  Cash or cash equi...| 6.185926724000004E7|\n|                             Education| 5.541025349000245E7|\n|                             Honoraria| 5.523104170999998E7|\n|                  Compensation for ...|2.8615945760000005E7|\n+--------------------------------------+--------------------+\n\n"
     ]
    }
   ],
   "source": [
    "# 3. What are the top ten Nature of Payments by total amount?\n",
    "from pyspark.sql.functions import col, sum as spark_sum\n",
    "\n",
    "# Load the unified payments table\n",
    "df = spark.table(\"Combined_Research_General_Payments\")\n",
    "\n",
    "# Group by Nature of Payment and sum total amount\n",
    "top_nature_by_amount = df.groupBy(\"Nature_of_Payment_or_Transfer_of_Value\") \\\n",
    "    .agg(spark_sum(\"Total_Amount_of_Payment_USDollars\").alias(\"Total_Amount\")) \\\n",
    "    .orderBy(col(\"Total_Amount\").desc()) \\\n",
    "    .limit(10)\n",
    "\n",
    "# Show the result\n",
    "top_nature_by_amount.show()\n"
   ]
  },
  {
   "cell_type": "markdown",
   "metadata": {
    "application/vnd.databricks.v1+cell": {
     "cellMetadata": {},
     "inputWidgets": {},
     "nuid": "24fec8f0-8e3a-454c-b1ba-a7ad277d4427",
     "showTitle": false,
     "tableResultSettingsMap": {},
     "title": ""
    }
   },
   "source": [
    "The category with the highest total payment amount is Royalty or License, followed by Compensation for services other than consulting. In third place is Consulting Fee.\n",
    "Next is Food and Beverage, followed by Travel and Lodging. Acquisitions comes after that, while Cash or cash equivalent ranks next in line. Education follows, with Honoraria close behind. Finally, another category of Compensation for services completes the top ten.\n",
    "These results indicate that while some categories like Food and Beverage and Travel and Lodging occur more frequently, categories such as Royalty or License and Consulting Fee are associated with higher overall payment amounts."
   ]
  },
  {
   "cell_type": "code",
   "execution_count": 0,
   "metadata": {
    "application/vnd.databricks.v1+cell": {
     "cellMetadata": {
      "byteLimit": 2048000,
      "rowLimit": 10000
     },
     "inputWidgets": {},
     "nuid": "e67e1a4c-3abc-49bf-9dfa-cb0d65b25be3",
     "showTitle": false,
     "tableResultSettingsMap": {},
     "title": ""
    }
   },
   "outputs": [
    {
     "output_type": "stream",
     "name": "stdout",
     "output_type": "stream",
     "text": [
      "+------------------------------------------------------------------------------------------------+--------------------+\n|Covered_Recipient_Specialty_1                                                                   |Total_Amount        |\n+------------------------------------------------------------------------------------------------+--------------------+\n|Allopathic & Osteopathic Physicians|Orthopaedic Surgery                                         |4.0579177970999736E8|\n|Allopathic & Osteopathic Physicians|Internal Medicine                                           |1.3559457535999954E8|\n|Allopathic & Osteopathic Physicians|Psychiatry & Neurology|Neurology                            |9.472031309999979E7 |\n|Allopathic & Osteopathic Physicians|Neurological Surgery                                        |8.697465682000007E7 |\n|Allopathic & Osteopathic Physicians|Dermatology                                                 |8.618354141000035E7 |\n|Allopathic & Osteopathic Physicians|Internal Medicine|Hematology & Oncology                     |7.410592185000055E7 |\n|Allopathic & Osteopathic Physicians|Internal Medicine|Cardiovascular Disease                    |7.236535103000067E7 |\n|Allopathic & Osteopathic Physicians|Orthopaedic Surgery|Adult Reconstructive Orthopaedic Surgery|6.793271677000004E7 |\n|Allopathic & Osteopathic Physicians|Psychiatry & Neurology|Psychiatry                           |6.707210102000068E7 |\n|Allopathic & Osteopathic Physicians|Surgery                                                     |6.283800959000051E7 |\n+------------------------------------------------------------------------------------------------+--------------------+\n\n"
     ]
    }
   ],
   "source": [
    "#4. What are the top ten physician specialties by total amount?\n",
    "\n",
    "from pyspark.sql.functions import col, sum as spark_sum\n",
    "\n",
    "# Load the unified payments table\n",
    "df = spark.table(\"Combined_Research_General_Payments\")\n",
    "\n",
    "# Group by specialty and sum the total payment\n",
    "top_specialties = df.groupBy(\"Covered_Recipient_Specialty_1\") \\\n",
    "    .agg(spark_sum(\"Total_Amount_of_Payment_USDollars\").alias(\"Total_Amount\")) \\\n",
    "    .orderBy(col(\"Total_Amount\").desc()) \\\n",
    "    .limit(10)\n",
    "\n",
    "# Show the result\n",
    "top_specialties.show(truncate=False)"
   ]
  },
  {
   "cell_type": "markdown",
   "metadata": {
    "application/vnd.databricks.v1+cell": {
     "cellMetadata": {},
     "inputWidgets": {},
     "nuid": "1e60da0d-4f15-40f6-b10d-ac79fcdf2c36",
     "showTitle": false,
     "tableResultSettingsMap": {},
     "title": ""
    }
   },
   "source": [
    "According to the results, the physician specialty that received the highest total payment amount is Orthopaedic Surgery, which falls under Allopathic & Osteopathic Physicians. The second highest is Internal Medicine, followed by Neurology, categorized under Psychiatry & Neurology.\n",
    "\n",
    "Next is Neurological Surgery, followed by Dermatology. Specialists in Hematology & Oncology, a branch of Internal Medicine, come next, followed closely by Cardiovascular Disease, also under Internal Medicine.\n",
    "\n",
    "Adult Reconstructive Orthopaedic Surgery, a subspecialty of Orthopaedic Surgery, ranks next, followed by Psychiatry, which falls under Psychiatry & Neurology. Finally, general Surgery specialists complete the top ten.\n",
    "\n",
    "These results show that specialties in surgery, internal medicine, and neurology received the highest overall payment amounts."
   ]
  },
  {
   "cell_type": "code",
   "execution_count": 0,
   "metadata": {
    "application/vnd.databricks.v1+cell": {
     "cellMetadata": {
      "byteLimit": 2048000,
      "rowLimit": 10000
     },
     "inputWidgets": {},
     "nuid": "cf298bd6-36b0-4651-9b88-788a5bbbc14e",
     "showTitle": false,
     "tableResultSettingsMap": {},
     "title": ""
    }
   },
   "outputs": [
    {
     "output_type": "stream",
     "name": "stdout",
     "output_type": "stream",
     "text": [
      "+-------------------+--------------------+\n|Physician_Full_Name|        Total_Amount|\n+-------------------+--------------------+\n|   STEPHEN BURKHART|       3.392202493E7|\n|     WILLIAM BINDER|       2.943410815E7|\n|        KEVIN FOLEY|1.7305782900000002E7|\n|        IVAN OSORIO|       1.606551551E7|\n|     GEORGE MAXWELL|       1.160032024E7|\n|       ROBERT BOOTH|          8459167.19|\n|    NEAL ELATTRACHE|           7810628.2|\n|    AARON ROSENBERG|   6883627.290000001|\n|      ROGER JACKSON|          6615711.26|\n|      PETER BONUTTI|   6385096.170000001|\n+-------------------+--------------------+\n\n"
     ]
    }
   ],
   "source": [
    "# 5. Who are the top ten physicians by total amount?\n",
    "from pyspark.sql.functions import col, sum as spark_sum, concat_ws\n",
    "\n",
    "# Load the unified payments table\n",
    "df = spark.table(\"Combined_Research_General_Payments\")\n",
    "\n",
    "# Create a full name column for readability\n",
    "df = df.withColumn(\n",
    "    \"Physician_Full_Name\",\n",
    "    concat_ws(\" \", col(\"Covered_Recipient_First_Name\"),col(\"Covered_Recipient_Middle_Name\"), col(\"Covered_Recipient_Last_Name\"))\n",
    ")\n",
    "\n",
    "# Group by physician name and sum total payments\n",
    "top_physicians = df.groupBy(\"Physician_Full_Name\") \\\n",
    "    .agg(spark_sum(\"Total_Amount_of_Payment_USDollars\").alias(\"Total_Amount\")) \\\n",
    "    .orderBy(col(\"Total_Amount\").desc()) \\\n",
    "    .limit(10)\n",
    "\n",
    "# Show the result\n",
    "top_physicians.show()"
   ]
  },
  {
   "cell_type": "markdown",
   "metadata": {
    "application/vnd.databricks.v1+cell": {
     "cellMetadata": {},
     "inputWidgets": {},
     "nuid": "3940440e-6f3e-42a5-8a0c-f58118ad0f9a",
     "showTitle": false,
     "tableResultSettingsMap": {},
     "title": ""
    }
   },
   "source": [
    "According to the results, the physician who received the highest total payment amount is Stephen Burkhart. He is followed by William Binder, and in third place is Kevin Foley. Next is Ivan Osorio, followed by George Maxwell.\n",
    "\n",
    "Robert Booth ranks sixth, followed by Neal ElAttrache in seventh place. Aaron Rosenberg is eighth on the list, while Roger Jackson is ninth. Finally, Peter Bonutti completes the top ten."
   ]
  }
 ],
 "metadata": {
  "application/vnd.databricks.v1+notebook": {
   "computePreferences": null,
   "dashboards": [],
   "environmentMetadata": null,
   "language": "python",
   "notebookMetadata": {
    "mostRecentlyExecutedCommandWithImplicitDF": {
     "commandId": 2566207478703145,
     "dataframes": [
      "_sqldf"
     ]
    },
    "pythonIndentUnit": 4
   },
   "notebookName": "Assignment Final",
   "widgets": {}
  }
 },
 "nbformat": 4,
 "nbformat_minor": 0
}
