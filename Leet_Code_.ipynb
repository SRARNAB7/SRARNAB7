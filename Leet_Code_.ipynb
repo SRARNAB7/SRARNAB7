{
  "nbformat": 4,
  "nbformat_minor": 0,
  "metadata": {
    "colab": {
      "provenance": [],
      "authorship_tag": "ABX9TyMJIrAWG7wPnNav3mbFx7gB",
      "include_colab_link": true
    },
    "kernelspec": {
      "name": "python3",
      "display_name": "Python 3"
    },
    "language_info": {
      "name": "python"
    }
  },
  "cells": [
    {
      "cell_type": "markdown",
      "metadata": {
        "id": "view-in-github",
        "colab_type": "text"
      },
      "source": [
        "<a href=\"https://colab.research.google.com/github/SRARNAB7/SRARNAB7/blob/main/Leet_Code_.ipynb\" target=\"_parent\"><img src=\"https://colab.research.google.com/assets/colab-badge.svg\" alt=\"Open In Colab\"/></a>"
      ]
    },
    {
      "cell_type": "code",
      "execution_count": null,
      "metadata": {
        "id": "-lxYii-6jk-Z"
      },
      "outputs": [],
      "source": [
        "#https://www.youtube.com/watch?v=PTYiQ8MRs2M&list=PL14c5UWFp9tQVNk8qtbpc_UFvhidOSopT"
      ]
    },
    {
      "cell_type": "code",
      "source": [
        "#Two Sum Link  https://leetcode.com/problems/two-sum/description/"
      ],
      "metadata": {
        "id": "3uUaCO0IkJyo"
      },
      "execution_count": null,
      "outputs": []
    },
    {
      "cell_type": "markdown",
      "source": [
        "Given an array of integers nums and an integer target, return indices of the two numbers such that they add up to target.\n",
        "\n",
        "You may assume that each input would have exactly one solution, and you may not use the same element twice.\n",
        "\n",
        "You can return the answer in any order.\n",
        "\n",
        "\n",
        "\n",
        "Example 1:\n",
        "\n",
        "Input: nums = [2,7,11,15], target = 9\n",
        "Output: [0,1]\n",
        "Explanation: Because nums[0] + nums[1] == 9, we return [0, 1].\n",
        "Example 2:\n",
        "\n",
        "Input: nums = [3,2,4], target = 6\n",
        "Output: [1,2]\n",
        "Example 3:\n",
        "\n",
        "Input: nums = [3,3], target = 6\n",
        "Output: [0,1]\n",
        "\n",
        "\n",
        "Constraints:\n",
        "\n",
        "2 <= nums.length <= 104\n",
        "-109 <= nums[i] <= 109\n",
        "-109 <= target <= 109\n",
        "Only one valid answer exists."
      ],
      "metadata": {
        "id": "cDKDH8s4kWhi"
      }
    },
    {
      "cell_type": "code",
      "source": [
        "nums = [2,7,11,15]\n",
        "target = 9\n",
        "\n",
        "def twosums(nums, target):\n",
        "  for i in range(len(nums)):\n",
        "    for j in range(i+1,len(nums)):\n",
        "      if(nums[i]+nums[j]== target):\n",
        "        return [i,j]\n"
      ],
      "metadata": {
        "id": "fGr6EZrKkY-3"
      },
      "execution_count": 2,
      "outputs": []
    },
    {
      "cell_type": "code",
      "source": [
        "nums = [2,7,11,15]\n",
        "target = 9\n",
        "\n",
        "twosums(nums, target)"
      ],
      "metadata": {
        "colab": {
          "base_uri": "https://localhost:8080/"
        },
        "id": "dSC2wHFlnl4H",
        "outputId": "d5155c27-7b70-4693-f551-5e42cb57457d"
      },
      "execution_count": 3,
      "outputs": [
        {
          "output_type": "execute_result",
          "data": {
            "text/plain": [
              "[0, 1]"
            ]
          },
          "metadata": {},
          "execution_count": 3
        }
      ]
    },
    {
      "cell_type": "code",
      "source": [
        "def twosums(nums, target): #Order of n2\n",
        "  for i in range(len(nums)):\n",
        "    need= target- nums[i]\n",
        "    if (need in nums and nums.index(need)!= i):\n",
        "      return [i, nums.index(need)]"
      ],
      "metadata": {
        "id": "iN7sGDJgnr_z"
      },
      "execution_count": 4,
      "outputs": []
    },
    {
      "cell_type": "code",
      "source": [
        "nums = [2,7,11,15]\n",
        "target = 9\n",
        "\n",
        "twosums(nums, target)"
      ],
      "metadata": {
        "colab": {
          "base_uri": "https://localhost:8080/"
        },
        "id": "VIt0NTXQqPLo",
        "outputId": "5e1e5e43-e512-4bd6-c7c9-014a12288f93"
      },
      "execution_count": 5,
      "outputs": [
        {
          "output_type": "execute_result",
          "data": {
            "text/plain": [
              "[0, 1]"
            ]
          },
          "metadata": {},
          "execution_count": 5
        }
      ]
    },
    {
      "cell_type": "code",
      "source": [
        "def twosums(nums, target):\n",
        "  d = {}\n",
        "  for i in range(len(nums)):\n",
        "    d[nums[i]]=i\n",
        "  for i in range(len(nums)):\n",
        "    need = target- nums[i]\n",
        "    if(need in d.keys() and d[need]!=i):\n",
        "      return [i,d[need]]"
      ],
      "metadata": {
        "id": "S5A9xsQrqQ1h"
      },
      "execution_count": null,
      "outputs": []
    },
    {
      "cell_type": "code",
      "source": [
        "nums = [2,7,11,15]\n",
        "target = 9\n",
        "\n",
        "twosums(nums, target)"
      ],
      "metadata": {
        "colab": {
          "base_uri": "https://localhost:8080/"
        },
        "id": "RzD_GRs5qQsu",
        "outputId": "e9eeebba-2f92-4708-ba49-f01e9badff91"
      },
      "execution_count": 6,
      "outputs": [
        {
          "output_type": "execute_result",
          "data": {
            "text/plain": [
              "[0, 1]"
            ]
          },
          "metadata": {},
          "execution_count": 6
        }
      ]
    },
    {
      "cell_type": "code",
      "source": [],
      "metadata": {
        "id": "50iRhICnqQjD"
      },
      "execution_count": null,
      "outputs": []
    },
    {
      "cell_type": "code",
      "source": [],
      "metadata": {
        "id": "33sXmHg3qQcw"
      },
      "execution_count": null,
      "outputs": []
    }
  ]
}