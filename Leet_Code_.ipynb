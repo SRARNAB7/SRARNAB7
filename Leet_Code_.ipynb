{
  "nbformat": 4,
  "nbformat_minor": 0,
  "metadata": {
    "colab": {
      "provenance": [],
      "authorship_tag": "ABX9TyP05zm5Kf0vc9miQN5iItfL",
      "include_colab_link": true
    },
    "kernelspec": {
      "name": "python3",
      "display_name": "Python 3"
    },
    "language_info": {
      "name": "python"
    }
  },
  "cells": [
    {
      "cell_type": "markdown",
      "metadata": {
        "id": "view-in-github",
        "colab_type": "text"
      },
      "source": [
        "<a href=\"https://colab.research.google.com/github/SRARNAB7/SRARNAB7/blob/main/Leet_Code_.ipynb\" target=\"_parent\"><img src=\"https://colab.research.google.com/assets/colab-badge.svg\" alt=\"Open In Colab\"/></a>"
      ]
    },
    {
      "cell_type": "code",
      "execution_count": null,
      "metadata": {
        "id": "-lxYii-6jk-Z"
      },
      "outputs": [],
      "source": [
        "#https://www.youtube.com/watch?v=PTYiQ8MRs2M&list=PL14c5UWFp9tQVNk8qtbpc_UFvhidOSopT"
      ]
    },
    {
      "cell_type": "code",
      "source": [
        "#Two Sum Link  https://leetcode.com/problems/two-sum/description/"
      ],
      "metadata": {
        "id": "3uUaCO0IkJyo"
      },
      "execution_count": null,
      "outputs": []
    },
    {
      "cell_type": "markdown",
      "source": [
        "Given an array of integers nums and an integer target, return indices of the two numbers such that they add up to target.\n",
        "\n",
        "You may assume that each input would have exactly one solution, and you may not use the same element twice.\n",
        "\n",
        "You can return the answer in any order.\n",
        "\n",
        "\n",
        "\n",
        "Example 1:\n",
        "\n",
        "Input: nums = [2,7,11,15], target = 9\n",
        "Output: [0,1]\n",
        "Explanation: Because nums[0] + nums[1] == 9, we return [0, 1].\n",
        "Example 2:\n",
        "\n",
        "Input: nums = [3,2,4], target = 6\n",
        "Output: [1,2]\n",
        "Example 3:\n",
        "\n",
        "Input: nums = [3,3], target = 6\n",
        "Output: [0,1]\n",
        "\n",
        "\n",
        "Constraints:\n",
        "\n",
        "2 <= nums.length <= 104\n",
        "-109 <= nums[i] <= 109\n",
        "-109 <= target <= 109\n",
        "Only one valid answer exists."
      ],
      "metadata": {
        "id": "cDKDH8s4kWhi"
      }
    },
    {
      "cell_type": "code",
      "source": [
        "nums = [2,7,11,15]\n",
        "target = 9\n",
        "\n",
        "def twosums(nums, target):\n",
        "  for i in range(len(nums)):\n",
        "    for j in range(i+1,len(nums)):\n",
        "      if(nums[i]+nums[j]== target):\n",
        "        return [i,j]\n"
      ],
      "metadata": {
        "id": "fGr6EZrKkY-3"
      },
      "execution_count": null,
      "outputs": []
    },
    {
      "cell_type": "code",
      "source": [
        "nums = [2,7,11,15]\n",
        "target = 9\n",
        "\n",
        "twosums(nums, target)"
      ],
      "metadata": {
        "colab": {
          "base_uri": "https://localhost:8080/"
        },
        "id": "dSC2wHFlnl4H",
        "outputId": "d5155c27-7b70-4693-f551-5e42cb57457d"
      },
      "execution_count": null,
      "outputs": [
        {
          "output_type": "execute_result",
          "data": {
            "text/plain": [
              "[0, 1]"
            ]
          },
          "metadata": {},
          "execution_count": 3
        }
      ]
    },
    {
      "cell_type": "code",
      "source": [
        "def twosums(nums, target): #Order of n2\n",
        "  for i in range(len(nums)):\n",
        "    need= target- nums[i]\n",
        "    if (need in nums and nums.index(need)!= i):\n",
        "      return [i, nums.index(need)]"
      ],
      "metadata": {
        "id": "iN7sGDJgnr_z"
      },
      "execution_count": null,
      "outputs": []
    },
    {
      "cell_type": "code",
      "source": [
        "nums = [2,7,11,15]\n",
        "target = 9\n",
        "\n",
        "twosums(nums, target)"
      ],
      "metadata": {
        "colab": {
          "base_uri": "https://localhost:8080/"
        },
        "id": "VIt0NTXQqPLo",
        "outputId": "5e1e5e43-e512-4bd6-c7c9-014a12288f93"
      },
      "execution_count": null,
      "outputs": [
        {
          "output_type": "execute_result",
          "data": {
            "text/plain": [
              "[0, 1]"
            ]
          },
          "metadata": {},
          "execution_count": 5
        }
      ]
    },
    {
      "cell_type": "code",
      "source": [
        "def twosums(nums, target):\n",
        "  d = {}\n",
        "  for i in range(len(nums)):\n",
        "    d[nums[i]]=i\n",
        "  for i in range(len(nums)):\n",
        "    need = target- nums[i]\n",
        "    if(need in d.keys() and d[need]!=i):\n",
        "      return [i,d[need]]"
      ],
      "metadata": {
        "id": "S5A9xsQrqQ1h"
      },
      "execution_count": null,
      "outputs": []
    },
    {
      "cell_type": "code",
      "source": [
        "nums = [2,7,11,15]\n",
        "target = 9\n",
        "\n",
        "twosums(nums, target)"
      ],
      "metadata": {
        "colab": {
          "base_uri": "https://localhost:8080/"
        },
        "id": "RzD_GRs5qQsu",
        "outputId": "e9eeebba-2f92-4708-ba49-f01e9badff91"
      },
      "execution_count": null,
      "outputs": [
        {
          "output_type": "execute_result",
          "data": {
            "text/plain": [
              "[0, 1]"
            ]
          },
          "metadata": {},
          "execution_count": 6
        }
      ]
    },
    {
      "cell_type": "markdown",
      "source": [
        "#Reverse Integer | Leetcode Python Solution | **Python**"
      ],
      "metadata": {
        "id": "tvfKjE9KuNiz"
      }
    },
    {
      "cell_type": "code",
      "source": [
        "num= 123\n",
        "\n",
        "def reverse_num(num):\n",
        "  if num>=0:\n",
        "    val = int(str(num)[::-1])\n",
        "  else:\n",
        "    val = -(int(str(abs(num))[::-1]))\n",
        "  if (val <= -2**31 or val >= 2**31-1):\n",
        "    return 0\n",
        "  else:\n",
        "    return val"
      ],
      "metadata": {
        "id": "50iRhICnqQjD"
      },
      "execution_count": null,
      "outputs": []
    },
    {
      "cell_type": "code",
      "source": [
        "num= 123\n",
        "reverse_num(num)"
      ],
      "metadata": {
        "colab": {
          "base_uri": "https://localhost:8080/"
        },
        "id": "33sXmHg3qQcw",
        "outputId": "459202bf-08fb-4aa6-da6c-1968840d68fc"
      },
      "execution_count": null,
      "outputs": [
        {
          "output_type": "execute_result",
          "data": {
            "text/plain": [
              "321"
            ]
          },
          "metadata": {},
          "execution_count": 12
        }
      ]
    },
    {
      "cell_type": "markdown",
      "source": [
        "**Palindrome Number | Leetcode Python Solution | Python**"
      ],
      "metadata": {
        "id": "6TbFZNOK6US-"
      }
    },
    {
      "cell_type": "code",
      "source": [
        "def palindrome_num(x):\n",
        "  if(x<0 or (x%10==0 and x!=0)):\n",
        "    return False\n",
        "  rev = 0\n",
        "\n",
        "  while(x>rev):\n",
        "    last_digit = x%10\n",
        "    rev = rev*10 + last_digit\n",
        "    x= x//10\n",
        "\n",
        "  if(x==rev or x == rev//10):\n",
        "    return True\n"
      ],
      "metadata": {
        "id": "9Oh-31cfz1uX"
      },
      "execution_count": null,
      "outputs": []
    },
    {
      "cell_type": "code",
      "source": [
        "x=10\n",
        "palindrome_num(x)"
      ],
      "metadata": {
        "colab": {
          "base_uri": "https://localhost:8080/"
        },
        "id": "-sLFQAhR8MIV",
        "outputId": "df490635-e6df-441b-d2ab-a5ff55b60bc2"
      },
      "execution_count": null,
      "outputs": [
        {
          "output_type": "execute_result",
          "data": {
            "text/plain": [
              "False"
            ]
          },
          "metadata": {},
          "execution_count": 14
        }
      ]
    },
    {
      "cell_type": "markdown",
      "source": [
        "# *Roman To Integer | Leetcode Python Solution | Python*"
      ],
      "metadata": {
        "id": "RV_WJjWRA1su"
      }
    },
    {
      "cell_type": "code",
      "source": [
        "def romanToInt(s):\n",
        "  translations = {\n",
        "      \"I\" : 1,\n",
        "      \"V\" : 5,\n",
        "      \"X\" : 10,\n",
        "      \"L\" : 50,\n",
        "      \"C\" : 100,\n",
        "      \"D\" : 500,\n",
        "      \"M\" : 1000\n",
        "  }\n",
        "\n",
        "  number = 0\n",
        "\n",
        "  s = s.replace(\"IV\",\"IIII\")\n",
        "  s = s.replace(\"IX\",\"VIIII\")\n",
        "  s = s.replace(\"XL\",\"XXXX\")\n",
        "  s = s.replace(\"XC\",\"LXXXX\")\n",
        "  s = s.replace(\"CD\",\"CCCC\")\n",
        "  s = s.replace(\"CM\",\"DCCCC\")\n",
        "\n",
        "  for char in s:\n",
        "    number += translations[char]\n",
        "  return number"
      ],
      "metadata": {
        "id": "GgD6-20jA5I8"
      },
      "execution_count": null,
      "outputs": []
    },
    {
      "cell_type": "code",
      "source": [
        "s= \"IVIX\"\n",
        "romanToInt(s)"
      ],
      "metadata": {
        "colab": {
          "base_uri": "https://localhost:8080/"
        },
        "id": "G8K3TXHfEZ5d",
        "outputId": "0754577f-7ee5-4b18-b5c4-29e5c8571824"
      },
      "execution_count": null,
      "outputs": [
        {
          "output_type": "execute_result",
          "data": {
            "text/plain": [
              "13"
            ]
          },
          "metadata": {},
          "execution_count": 18
        }
      ]
    },
    {
      "cell_type": "markdown",
      "source": [
        "# **Longest Common Prefix | Leetcode Python Solution | Python**"
      ],
      "metadata": {
        "id": "3xqwv6ahEsZL"
      }
    },
    {
      "cell_type": "code",
      "source": [
        "#https://www.youtube.com/watch?v=sCGyJT86o6k&list=PL14c5UWFp9tQVNk8qtbpc_UFvhidOSopT&index=6"
      ],
      "metadata": {
        "id": "j3OKEMnjEh5l"
      },
      "execution_count": null,
      "outputs": []
    },
    {
      "cell_type": "code",
      "source": [
        "def longCommonPrefix(strs):\n",
        "\n",
        "  prefix = \"\"\n",
        "  for i in strs:\n",
        "     if(len(i) < len(prefix) or prefix == ''):\n",
        "      prefix = i\n",
        "\n",
        "  need = len(strs)\n",
        "  count =0\n",
        "  result = \"\"\n",
        "\n",
        "  while(need!=count):\n",
        "    count = 0\n",
        "    for i in strs:\n",
        "      if(prefix == i[:len(prefix)]):\n",
        "        count+=1\n",
        "    result = prefix\n",
        "    prefix = prefix[:-1]\n",
        "\n",
        "  if(need == count):\n",
        "    return result\n",
        "  else:\n",
        "    return False\n"
      ],
      "metadata": {
        "id": "3d2cMSWUyc5q"
      },
      "execution_count": null,
      "outputs": []
    },
    {
      "cell_type": "code",
      "source": [
        "strs = [\"Flower\",\"Flow\",\"Flight\"]\n",
        "longCommonPrefix(strs)"
      ],
      "metadata": {
        "colab": {
          "base_uri": "https://localhost:8080/",
          "height": 35
        },
        "id": "pQSRxxSA2FGn",
        "outputId": "8871fe6a-4a3d-4ac2-e24a-f37d192ba097"
      },
      "execution_count": null,
      "outputs": [
        {
          "output_type": "execute_result",
          "data": {
            "text/plain": [
              "'Fl'"
            ],
            "application/vnd.google.colaboratory.intrinsic+json": {
              "type": "string"
            }
          },
          "metadata": {},
          "execution_count": 10
        }
      ]
    },
    {
      "cell_type": "markdown",
      "source": [
        "# **Valid Parentheses | Leetcode Python Solution | Python**"
      ],
      "metadata": {
        "id": "dXZDbHW_3D4-"
      }
    },
    {
      "cell_type": "code",
      "source": [
        "def validParentheses(strs):\n",
        "  open_panth = [\"(\",\"{\",\"[\"]\n",
        "  closed_panth = [\")\",\"}\",\"]\"]\n",
        "  d = dict(zip(closed_panth,open_panth))\n",
        "\n",
        "  if(strs[0] in closed_panth or strs[-1] in open_panth):\n",
        "    return False\n",
        "\n",
        "  ind =0\n",
        "  result = []\n",
        "  while (ind < len(strs)):\n",
        "    if (strs[ind] in  open_panth):\n",
        "      result.append(strs[ind])\n",
        "\n",
        "    else:\n",
        "      need = d[strs[ind]]\n",
        "      if (len(result) > 0 and result[-1]== need):\n",
        "        result.pop()\n",
        "      else:\n",
        "        return False\n",
        "    ind+=1\n",
        "  if(len(result)==0):\n",
        "    return True\n",
        "  else:\n",
        "    return False"
      ],
      "metadata": {
        "id": "4iePqAWm3DVy"
      },
      "execution_count": null,
      "outputs": []
    },
    {
      "cell_type": "code",
      "source": [
        "strs = \"(){}[]\"\n",
        "validParentheses(strs)\n"
      ],
      "metadata": {
        "id": "ws61r8UJ3DLG",
        "outputId": "42ebb09b-5351-4ac2-ebbc-c23787df33d2",
        "colab": {
          "base_uri": "https://localhost:8080/"
        }
      },
      "execution_count": null,
      "outputs": [
        {
          "output_type": "execute_result",
          "data": {
            "text/plain": [
              "True"
            ]
          },
          "metadata": {},
          "execution_count": 14
        }
      ]
    },
    {
      "cell_type": "code",
      "source": [
        "def removeDuplicates(nums):\n",
        "     x=0\n",
        "     while(x <len(nums)):\n",
        "         y = x+1\n",
        "         while(y<len(nums) and nums[x]==nums[y]):\n",
        "             nums.pop(y)\n",
        "         x=y\n",
        "     return nums"
      ],
      "metadata": {
        "id": "D0T0G8mC3DAm"
      },
      "execution_count": null,
      "outputs": []
    },
    {
      "cell_type": "code",
      "source": [
        " nums = [1,2,2,3]\n",
        " removeDuplicates(nums)"
      ],
      "metadata": {
        "id": "QEifELzs3CsO",
        "colab": {
          "base_uri": "https://localhost:8080/"
        },
        "outputId": "e925313a-6864-452b-d306-c5f159cda8f5"
      },
      "execution_count": null,
      "outputs": [
        {
          "output_type": "execute_result",
          "data": {
            "text/plain": [
              "[1, 2, 3]"
            ]
          },
          "metadata": {},
          "execution_count": 29
        }
      ]
    },
    {
      "cell_type": "code",
      "source": [
        "#Merge Two Sorted List | Leetcode Python Solution | Python\n",
        "class ListNode:\n",
        "  def __init__(self, val=0, next = None):\n",
        "    self.val = val\n",
        "    self.next = next\n",
        "\n",
        "class Solution:\n",
        "  def mergeTwoLists(self, l1:ListNode, l2:ListNode):\n",
        "    head = ListNode()\n",
        "    tmp1,tmp2,tmp3 = l1,l2,head\n",
        "    while(tmp1 is not None and  tmp2 is not None):\n",
        "      if(tmp1.val <= tmp2.val):\n",
        "        tmp3.next = tmp1\n",
        "        tmp1 = tmp1.next\n",
        "      else:\n",
        "        tmp3.next = tmp2\n",
        "        tmp2 = tmp2.next\n",
        "      tmp3 = tmp3.next\n",
        "\n",
        "    if(tmp1 is not None):\n",
        "      tmp3.next = tmp1\n",
        "\n",
        "    if(tmp2 is not None):\n",
        "      tmp3.next = tmp2\n",
        "\n",
        "    head = head.next\n",
        "    return head"
      ],
      "metadata": {
        "id": "-9_oL8NF-ulo"
      },
      "execution_count": null,
      "outputs": []
    },
    {
      "cell_type": "code",
      "source": [
        "#Remove Elements | Leetcode Python Solution | Python Problem 27\n",
        "\n",
        "def removeElements(nums,val):\n",
        "  i =0\n",
        "  while(i<len(nums)):\n",
        "    if(nums[i]==val):\n",
        "      nums[i],nums[-1] = nums[-1], nums[i]\n",
        "      nums.pop()\n",
        "    else:\n",
        "      i +=1\n",
        "  return len(nums)\n"
      ],
      "metadata": {
        "id": "5F_9mWjA-uc3"
      },
      "execution_count": null,
      "outputs": []
    },
    {
      "cell_type": "code",
      "source": [
        "nums = [1,2,3,4,2,5,6,2,2]\n",
        "val =2\n",
        "removeElements(nums,val)"
      ],
      "metadata": {
        "id": "FbD0bizk-uUm",
        "outputId": "645fd97f-4071-4234-9111-86e7c2d3368f",
        "colab": {
          "base_uri": "https://localhost:8080/"
        }
      },
      "execution_count": null,
      "outputs": [
        {
          "output_type": "execute_result",
          "data": {
            "text/plain": [
              "5"
            ]
          },
          "metadata": {},
          "execution_count": 7
        }
      ]
    },
    {
      "cell_type": "code",
      "source": [
        "#Implement strStr | Leetcode Python Solution | Python Problem 28\n",
        "\n",
        "def strStr(strs, needle):\n",
        "  i = 0\n",
        "  n = len(needle) #2\n",
        "\n",
        "  if(strs== needle):\n",
        "    return 0\n",
        "\n",
        "  while(i+n<len(strs)):\n",
        "    if(strs[i:i+n] == needle):\n",
        "      return i\n",
        "    else:\n",
        "      i+=1\n",
        "\n",
        "  return -1"
      ],
      "metadata": {
        "id": "JvraeLk5-uLd"
      },
      "execution_count": 16,
      "outputs": []
    },
    {
      "cell_type": "code",
      "source": [
        "strs = 'helloddgghh'\n",
        "needle= 'gg'\n",
        "strStr(strs, needle)"
      ],
      "metadata": {
        "id": "HaqWEIVM-uDK",
        "outputId": "6808af2b-a318-40e0-9a0d-5a1b5ea0b524",
        "colab": {
          "base_uri": "https://localhost:8080/"
        }
      },
      "execution_count": 19,
      "outputs": [
        {
          "output_type": "execute_result",
          "data": {
            "text/plain": [
              "7"
            ]
          },
          "metadata": {},
          "execution_count": 19
        }
      ]
    },
    {
      "cell_type": "code",
      "source": [],
      "metadata": {
        "id": "e28wm3cy-t68",
        "outputId": "d639b5d6-697c-49e2-e170-46d1ef268aff",
        "colab": {
          "base_uri": "https://localhost:8080/"
        }
      },
      "execution_count": 17,
      "outputs": [
        {
          "output_type": "execute_result",
          "data": {
            "text/plain": [
              "-1"
            ]
          },
          "metadata": {},
          "execution_count": 17
        }
      ]
    },
    {
      "cell_type": "code",
      "source": [
        "#Search Insert Position | Leetcode Python Solution | Python Problem 35\n",
        "\n",
        "def insertPos(nums, target):\n",
        "\n",
        "  i=0\n",
        "  while(i<len(nums) and target>=nums[i]):\n",
        "    if(target == nums[i]):\n",
        "      return i\n",
        "    i+=1\n",
        "\n",
        "  return i"
      ],
      "metadata": {
        "id": "PAUgswNjkqH8"
      },
      "execution_count": 20,
      "outputs": []
    },
    {
      "cell_type": "code",
      "source": [
        "nums = [3,5,7,8,10]\n",
        "target=9\n",
        "insertPos(nums, target)"
      ],
      "metadata": {
        "id": "2Die6pjZkqEO",
        "outputId": "addd5e8c-ecc0-454c-95dc-f96bf65dc8d2",
        "colab": {
          "base_uri": "https://localhost:8080/"
        }
      },
      "execution_count": 21,
      "outputs": [
        {
          "output_type": "execute_result",
          "data": {
            "text/plain": [
              "4"
            ]
          },
          "metadata": {},
          "execution_count": 21
        }
      ]
    },
    {
      "cell_type": "code",
      "source": [],
      "metadata": {
        "id": "saku0W_ZkqAY"
      },
      "execution_count": null,
      "outputs": []
    },
    {
      "cell_type": "code",
      "source": [],
      "metadata": {
        "id": "uxFE1J8Xkp8w"
      },
      "execution_count": null,
      "outputs": []
    }
  ]
}