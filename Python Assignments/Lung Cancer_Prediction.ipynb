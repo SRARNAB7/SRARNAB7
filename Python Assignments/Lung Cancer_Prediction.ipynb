{
  "nbformat": 4,
  "nbformat_minor": 0,
  "metadata": {
    "colab": {
      "provenance": [],
      "include_colab_link": true
    },
    "kernelspec": {
      "name": "python3",
      "display_name": "Python 3"
    },
    "language_info": {
      "name": "python"
    }
  },
  "cells": [
    {
      "cell_type": "markdown",
      "metadata": {
        "id": "view-in-github",
        "colab_type": "text"
      },
      "source": [
        "<a href=\"https://colab.research.google.com/github/SRARNAB7/arnab_hds/blob/main/final/Final_Project.ipynb\" target=\"_parent\"><img src=\"https://colab.research.google.com/assets/colab-badge.svg\" alt=\"Open In Colab\"/></a>"
      ]
    },
    {
      "cell_type": "markdown",
      "source": [
        "# HDS5210 - Final Project - 2024\n",
        "\n",
        "# Project Description\n",
        "\n",
        "In this project, two different datasets containing lung cancer information were used for identifying risk factors, demographic characteristics and consequences of lung cancer. The first dataset is gathered from an online lung cancer prediction system; detailing demographic characteristics, risk factors, symptoms and signs for 309 patients. The second set include the general cancer profile of the country – incidence rates, mortality and prevalence data and for 35 or more types of cancer.\n",
        "\n",
        "This project uses different statistical techniques and transformations to help identify important patterns. The mandated methodology entails development of risk age-groups, construction of composite health indicators, and, use of various statistical tests. Chi-square tests and  Logistic regression enables the project to describe relationships between chosen variables and make formal statistical hypothesis about lung cancer risks factors.\n",
        "\n",
        "The potential of the project, it holds for the improvement of healthcare approaches in relation to risk assessment and detection at an initial stage. In this research, symptom connectivity mapping—whereby Swallowing Difficulty, Chest pain, fatigue, anxiety, and respiratory problems are connected to lung cancer—is proposed to identify potential early indicators. One of the strengths of the present work lies in the fact that the prevalence of cancer was calculated according to age, and this data can be useful for creating differentiated approaches to early diagnostics.\n",
        "\n",
        "Communicating the findings of the text mining approach relies heavily on data visualization. The project involves several forms of visualization; for age densities there are density plots, for risk factor associations there are correlation matrices, for cancer incidence across the age spectrum there are bar plots and finally for the prevalence of symptoms in cancer patients there are line plots. These enable easy conveying of what the patterns like in the big data to analysts and any other interested persons.\n",
        "\n",
        "The project illuminates the practical potential of linking clinical information on individuals with aggregate data for the population. Such combined methodology enables investigation of the risk indicators and symptoms at person’s level, and, simultaneously, cancer incidence and mortality rates at population level. The research’s results might be useful not only for the patient-management scale and local population needs, but also for general initiatives for saving lives from lung cancer.\n",
        "\n",
        "The patterns of risk factors in the current study equally have simple and surprising trends that enrich our comprehension of lung cancer characters and emphasize the necessity of adopting the multifaceted concept of risk factors. Compared to more familiar systemic risks, such as smoking, some other findings convincingly correlate anxiety and depression with smoking severity, and later aspects may suggest new avenues for interventions.\n",
        "\n",
        "# Dataset 1 -\n",
        "\n",
        "Dataset Link - https://www.kaggle.com/code/sandragracenelson/lung-cancer-prediction/input\n",
        "\n",
        "The effectiveness of cancer prediction system helps the people to know their cancer risk with low cost and it also helps the people to take the appropriate decision based on their cancer risk status. The data is collected from the website online lung cancer prediction system .\n",
        "Total no. of attributes:16\n",
        "No .of instances:284\n",
        "Attribute information:\n",
        "\n",
        "Gender: M(male), F(female)\n",
        "Age: Age of the patient\n",
        "Smoking: YES=2 , NO=1.\n",
        "Yellow fingers: YES=2 , NO=1.\n",
        "Anxiety: YES=2 , NO=1.\n",
        "Peer_pressure: YES=2 , NO=1.\n",
        "Chronic Disease: YES=2 , NO=1.\n",
        "Fatigue: YES=2 , NO=1.\n",
        "Allergy: YES=2 , NO=1.\n",
        "Wheezing: YES=2 , NO=1.\n",
        "Alcohol: YES=2 , NO=1.\n",
        "Coughing: YES=2 , NO=1.\n",
        "Shortness of Breath: YES=2 , NO=1.\n",
        "Swallowing Difficulty: YES=2 , NO=1.\n",
        "Chest pain: YES=2 , NO=1.\n",
        "Lung Cancer: YES , NO."
      ],
      "metadata": {
        "id": "V7NuCjEFMsVj"
      }
    },
    {
      "cell_type": "code",
      "execution_count": 91,
      "metadata": {
        "colab": {
          "base_uri": "https://localhost:8080/"
        },
        "id": "Wph_2mOmLh8f",
        "outputId": "516a1a1a-7ae9-4c94-85f7-1b2115bd4396"
      },
      "outputs": [
        {
          "output_type": "stream",
          "name": "stdout",
          "text": [
            "<class 'pandas.core.frame.DataFrame'>\n",
            "RangeIndex: 309 entries, 0 to 308\n",
            "Data columns (total 16 columns):\n",
            " #   Column                 Non-Null Count  Dtype \n",
            "---  ------                 --------------  ----- \n",
            " 0   GENDER                 309 non-null    object\n",
            " 1   AGE                    309 non-null    int64 \n",
            " 2   SMOKING                309 non-null    int64 \n",
            " 3   YELLOW_FINGERS         309 non-null    int64 \n",
            " 4   ANXIETY                309 non-null    int64 \n",
            " 5   PEER_PRESSURE          309 non-null    int64 \n",
            " 6   CHRONIC DISEASE        309 non-null    int64 \n",
            " 7   FATIGUE                309 non-null    int64 \n",
            " 8   ALLERGY                309 non-null    int64 \n",
            " 9   WHEEZING               309 non-null    int64 \n",
            " 10  ALCOHOL CONSUMING      309 non-null    int64 \n",
            " 11  COUGHING               309 non-null    int64 \n",
            " 12  SHORTNESS OF BREATH    309 non-null    int64 \n",
            " 13  SWALLOWING DIFFICULTY  309 non-null    int64 \n",
            " 14  CHEST PAIN             309 non-null    int64 \n",
            " 15  LUNG_CANCER            309 non-null    object\n",
            "dtypes: int64(14), object(2)\n",
            "memory usage: 38.8+ KB\n"
          ]
        }
      ],
      "source": [
        "import pandas as pd\n",
        "import numpy as np\n",
        "from scipy import stats\n",
        "import seaborn as sns\n",
        "import matplotlib.pyplot as plt\n",
        "from sklearn.metrics import confusion_matrix\n",
        "import statsmodels.api as sm\n",
        "\n",
        "\n",
        "data_1 = pd.read_excel(\"survey lung cancer.xlsx\") # Dataset holding Survey Lung Cancer\n",
        "data_1.info()"
      ]
    },
    {
      "cell_type": "markdown",
      "source": [
        "# Dataset 2 -\n",
        "\n",
        "Dataset link - https://www.kaggle.com/datasets/tejasurya/cancer-data-india\n",
        "\n",
        "https://gco.iarc.fr/today/data/factsheets/populations/356-india-fact-sheets.pdf\n",
        "\n",
        "\n",
        "Cancer is a large group of diseases that can start in almost any organ or tissue of the body when abnormal cells grow uncontrollably, go beyond their usual boundaries to invade adjoining parts of the body and/or spread to other organs.\n",
        "\n",
        "Cancer is the second leading cause of death globally, accounting for an estimated 9.6 million deaths, or one in six deaths, in 2018. Lung, prostate, colorectal, stomach and liver cancer are the most common types of cancer in men, while breast, colorectal, lung, cervical and thyroid cancer are the most common among women. (Source: WHO)\n",
        "\n"
      ],
      "metadata": {
        "id": "CYhU-9R5M5OM"
      }
    },
    {
      "cell_type": "code",
      "source": [
        "data_2 = pd.read_csv(\"cancer_data.csv\") # Dataset holding Cancer Data\n",
        "data_2.info()"
      ],
      "metadata": {
        "colab": {
          "base_uri": "https://localhost:8080/"
        },
        "id": "C73djGTANY7g",
        "outputId": "9e4c8220-7048-4967-a257-be53c9a06260"
      },
      "execution_count": 92,
      "outputs": [
        {
          "output_type": "stream",
          "name": "stdout",
          "text": [
            "<class 'pandas.core.frame.DataFrame'>\n",
            "RangeIndex: 35 entries, 0 to 34\n",
            "Data columns (total 11 columns):\n",
            " #   Column                  Non-Null Count  Dtype  \n",
            "---  ------                  --------------  -----  \n",
            " 0   cancer_type             35 non-null     object \n",
            " 1   new_cases_number        35 non-null     int64  \n",
            " 2   new_cases_rank          35 non-null     int64  \n",
            " 3   new_case_percent        35 non-null     float64\n",
            " 4   new_cases_cum_risk      35 non-null     float64\n",
            " 5   Deaths Number           35 non-null     int64  \n",
            " 6   death_rank              35 non-null     int64  \n",
            " 7   death_percentage        35 non-null     float64\n",
            " 8   Deaths_cum_risk         35 non-null     float64\n",
            " 9   risk_of_prevalence_5yr  35 non-null     int64  \n",
            " 10  per100k_5yr_prevalence  35 non-null     float64\n",
            "dtypes: float64(5), int64(5), object(1)\n",
            "memory usage: 3.1+ KB\n"
          ]
        }
      ]
    },
    {
      "cell_type": "code",
      "source": [
        "# Cleaning the column names for the datasets removing any spaces in the column names\n",
        "data_1.columns = [col.strip() for col in data_1.columns]\n",
        "data_2.columns = [col.strip() for col in data_2.columns]"
      ],
      "metadata": {
        "id": "9bwhh5L4Cv20"
      },
      "execution_count": 93,
      "outputs": []
    },
    {
      "cell_type": "markdown",
      "source": [
        "# First Data Join: Creating age groups and joining with cancer statistics\n",
        "\n",
        "This code transforms AGE into categories in order to make analysis easier and more understandable. By using `pd.cut()`, it divides the ages into four categories: groups, namely; below 30 years, 30-45 years, 45-60 years and over 60 years of age. The meaning of the bins that make up these groups is specified by the `bins` parameter while the `labels` parameter provides meaningful name for each of the group. This grouping is beneficial because grouping ages into categories makes it easier to identify trends missed while working with specific ages such as risk of contracting cancer as one advances in age. To check that the categorization is correct the `.head()` command follows to display the first few entries of the newly created age groups.\n",
        "\n",
        "\n",
        "\n",
        "The first chunk of variants performs a group by operation on the results by ages and calculates the mean of lung cancer occurrence (where ‘YES is equal to 1 and ‘NO’ is equal to 0), smoking, and anxiety by age. The `reset_index()` enables the age group data which was earlier a python index to become a python list and can be used in the next sequences of analysis. This aggregation displays how these health factors differ with the help of age segmentation.\n",
        "\n",
        "This code creates a new column ‘risk_category’ using pandas’ qcut function; it categorises the lung cancer rates resulting from the prior aggregate into three equal playing fields; low, medium and high. This categorization assists to group various ages and determine their levels of risk towards lung cancer in a way that make it easier to compare high risk group to a low risk group.\n",
        "\n",
        "The last code merges the statistics grouped by age_group with two columns from the second data frame named ‘new_cases_number’ and ‘Deaths Number’ using merge function. It is merged using the index on both data frames (left_index=True,right_index=True) but it is a left merge (how=’left’) which means it will retain all records of age_group_stats and adds the matching records from the data_2. This join enables us to match the age group statistics to the over all cancer incidence and mortality."
      ],
      "metadata": {
        "id": "Z37nX7VtXH7i"
      }
    },
    {
      "cell_type": "code",
      "source": [
        "# Creating age groups in survey data\n",
        "data_1['age_group'] = pd.cut(data_1['AGE'],\n",
        "                            bins=[0, 30, 45, 60, 100],\n",
        "                            labels=['<30', '30-45', '45-60', '>60'])\n",
        "\n",
        "data_1['age_group'].head()"
      ],
      "metadata": {
        "colab": {
          "base_uri": "https://localhost:8080/",
          "height": 241
        },
        "id": "y9rx7__aOmHb",
        "outputId": "8e49e23e-ea6c-4dcb-9c3a-c4d195f3f4aa"
      },
      "execution_count": 94,
      "outputs": [
        {
          "output_type": "execute_result",
          "data": {
            "text/plain": [
              "0      >60\n",
              "1      >60\n",
              "2    45-60\n",
              "3      >60\n",
              "4      >60\n",
              "Name: age_group, dtype: category\n",
              "Categories (4, object): ['<30' < '30-45' < '45-60' < '>60']"
            ],
            "text/html": [
              "<div>\n",
              "<style scoped>\n",
              "    .dataframe tbody tr th:only-of-type {\n",
              "        vertical-align: middle;\n",
              "    }\n",
              "\n",
              "    .dataframe tbody tr th {\n",
              "        vertical-align: top;\n",
              "    }\n",
              "\n",
              "    .dataframe thead th {\n",
              "        text-align: right;\n",
              "    }\n",
              "</style>\n",
              "<table border=\"1\" class=\"dataframe\">\n",
              "  <thead>\n",
              "    <tr style=\"text-align: right;\">\n",
              "      <th></th>\n",
              "      <th>age_group</th>\n",
              "    </tr>\n",
              "  </thead>\n",
              "  <tbody>\n",
              "    <tr>\n",
              "      <th>0</th>\n",
              "      <td>&gt;60</td>\n",
              "    </tr>\n",
              "    <tr>\n",
              "      <th>1</th>\n",
              "      <td>&gt;60</td>\n",
              "    </tr>\n",
              "    <tr>\n",
              "      <th>2</th>\n",
              "      <td>45-60</td>\n",
              "    </tr>\n",
              "    <tr>\n",
              "      <th>3</th>\n",
              "      <td>&gt;60</td>\n",
              "    </tr>\n",
              "    <tr>\n",
              "      <th>4</th>\n",
              "      <td>&gt;60</td>\n",
              "    </tr>\n",
              "  </tbody>\n",
              "</table>\n",
              "</div><br><label><b>dtype:</b> category</label>"
            ]
          },
          "metadata": {},
          "execution_count": 94
        }
      ]
    },
    {
      "cell_type": "code",
      "source": [
        "# Aggregating survey data by age group\n",
        "age_group_stats = data_1.groupby('age_group').agg({\n",
        "    'LUNG_CANCER': lambda x: (x == 'YES').mean(),\n",
        "    'SMOKING': 'mean',\n",
        "    'ANXIETY': 'mean'\n",
        "}).reset_index()\n",
        "age_group_stats.head()"
      ],
      "metadata": {
        "colab": {
          "base_uri": "https://localhost:8080/",
          "height": 231
        },
        "id": "fE11BYRlOoOO",
        "outputId": "9dcd2217-5048-4034-d7db-1f932d162a99"
      },
      "execution_count": 95,
      "outputs": [
        {
          "output_type": "stream",
          "name": "stderr",
          "text": [
            "<ipython-input-95-4022a7100dce>:2: FutureWarning: The default of observed=False is deprecated and will be changed to True in a future version of pandas. Pass observed=False to retain current behavior or observed=True to adopt the future default and silence this warning.\n",
            "  age_group_stats = data_1.groupby('age_group').agg({\n"
          ]
        },
        {
          "output_type": "execute_result",
          "data": {
            "text/plain": [
              "  age_group  LUNG_CANCER   SMOKING   ANXIETY\n",
              "0       <30     0.000000  2.000000  1.000000\n",
              "1     30-45     1.000000  1.500000  1.250000\n",
              "2     45-60     0.847458  1.593220  1.457627\n",
              "3       >60     0.892473  1.543011  1.532258"
            ],
            "text/html": [
              "\n",
              "  <div id=\"df-6ed63eca-ccb9-4bf2-9439-cf71a47e8165\" class=\"colab-df-container\">\n",
              "    <div>\n",
              "<style scoped>\n",
              "    .dataframe tbody tr th:only-of-type {\n",
              "        vertical-align: middle;\n",
              "    }\n",
              "\n",
              "    .dataframe tbody tr th {\n",
              "        vertical-align: top;\n",
              "    }\n",
              "\n",
              "    .dataframe thead th {\n",
              "        text-align: right;\n",
              "    }\n",
              "</style>\n",
              "<table border=\"1\" class=\"dataframe\">\n",
              "  <thead>\n",
              "    <tr style=\"text-align: right;\">\n",
              "      <th></th>\n",
              "      <th>age_group</th>\n",
              "      <th>LUNG_CANCER</th>\n",
              "      <th>SMOKING</th>\n",
              "      <th>ANXIETY</th>\n",
              "    </tr>\n",
              "  </thead>\n",
              "  <tbody>\n",
              "    <tr>\n",
              "      <th>0</th>\n",
              "      <td>&lt;30</td>\n",
              "      <td>0.000000</td>\n",
              "      <td>2.000000</td>\n",
              "      <td>1.000000</td>\n",
              "    </tr>\n",
              "    <tr>\n",
              "      <th>1</th>\n",
              "      <td>30-45</td>\n",
              "      <td>1.000000</td>\n",
              "      <td>1.500000</td>\n",
              "      <td>1.250000</td>\n",
              "    </tr>\n",
              "    <tr>\n",
              "      <th>2</th>\n",
              "      <td>45-60</td>\n",
              "      <td>0.847458</td>\n",
              "      <td>1.593220</td>\n",
              "      <td>1.457627</td>\n",
              "    </tr>\n",
              "    <tr>\n",
              "      <th>3</th>\n",
              "      <td>&gt;60</td>\n",
              "      <td>0.892473</td>\n",
              "      <td>1.543011</td>\n",
              "      <td>1.532258</td>\n",
              "    </tr>\n",
              "  </tbody>\n",
              "</table>\n",
              "</div>\n",
              "    <div class=\"colab-df-buttons\">\n",
              "\n",
              "  <div class=\"colab-df-container\">\n",
              "    <button class=\"colab-df-convert\" onclick=\"convertToInteractive('df-6ed63eca-ccb9-4bf2-9439-cf71a47e8165')\"\n",
              "            title=\"Convert this dataframe to an interactive table.\"\n",
              "            style=\"display:none;\">\n",
              "\n",
              "  <svg xmlns=\"http://www.w3.org/2000/svg\" height=\"24px\" viewBox=\"0 -960 960 960\">\n",
              "    <path d=\"M120-120v-720h720v720H120Zm60-500h600v-160H180v160Zm220 220h160v-160H400v160Zm0 220h160v-160H400v160ZM180-400h160v-160H180v160Zm440 0h160v-160H620v160ZM180-180h160v-160H180v160Zm440 0h160v-160H620v160Z\"/>\n",
              "  </svg>\n",
              "    </button>\n",
              "\n",
              "  <style>\n",
              "    .colab-df-container {\n",
              "      display:flex;\n",
              "      gap: 12px;\n",
              "    }\n",
              "\n",
              "    .colab-df-convert {\n",
              "      background-color: #E8F0FE;\n",
              "      border: none;\n",
              "      border-radius: 50%;\n",
              "      cursor: pointer;\n",
              "      display: none;\n",
              "      fill: #1967D2;\n",
              "      height: 32px;\n",
              "      padding: 0 0 0 0;\n",
              "      width: 32px;\n",
              "    }\n",
              "\n",
              "    .colab-df-convert:hover {\n",
              "      background-color: #E2EBFA;\n",
              "      box-shadow: 0px 1px 2px rgba(60, 64, 67, 0.3), 0px 1px 3px 1px rgba(60, 64, 67, 0.15);\n",
              "      fill: #174EA6;\n",
              "    }\n",
              "\n",
              "    .colab-df-buttons div {\n",
              "      margin-bottom: 4px;\n",
              "    }\n",
              "\n",
              "    [theme=dark] .colab-df-convert {\n",
              "      background-color: #3B4455;\n",
              "      fill: #D2E3FC;\n",
              "    }\n",
              "\n",
              "    [theme=dark] .colab-df-convert:hover {\n",
              "      background-color: #434B5C;\n",
              "      box-shadow: 0px 1px 3px 1px rgba(0, 0, 0, 0.15);\n",
              "      filter: drop-shadow(0px 1px 2px rgba(0, 0, 0, 0.3));\n",
              "      fill: #FFFFFF;\n",
              "    }\n",
              "  </style>\n",
              "\n",
              "    <script>\n",
              "      const buttonEl =\n",
              "        document.querySelector('#df-6ed63eca-ccb9-4bf2-9439-cf71a47e8165 button.colab-df-convert');\n",
              "      buttonEl.style.display =\n",
              "        google.colab.kernel.accessAllowed ? 'block' : 'none';\n",
              "\n",
              "      async function convertToInteractive(key) {\n",
              "        const element = document.querySelector('#df-6ed63eca-ccb9-4bf2-9439-cf71a47e8165');\n",
              "        const dataTable =\n",
              "          await google.colab.kernel.invokeFunction('convertToInteractive',\n",
              "                                                    [key], {});\n",
              "        if (!dataTable) return;\n",
              "\n",
              "        const docLinkHtml = 'Like what you see? Visit the ' +\n",
              "          '<a target=\"_blank\" href=https://colab.research.google.com/notebooks/data_table.ipynb>data table notebook</a>'\n",
              "          + ' to learn more about interactive tables.';\n",
              "        element.innerHTML = '';\n",
              "        dataTable['output_type'] = 'display_data';\n",
              "        await google.colab.output.renderOutput(dataTable, element);\n",
              "        const docLink = document.createElement('div');\n",
              "        docLink.innerHTML = docLinkHtml;\n",
              "        element.appendChild(docLink);\n",
              "      }\n",
              "    </script>\n",
              "  </div>\n",
              "\n",
              "\n",
              "<div id=\"df-51fe7d21-bbc9-409c-91af-13718780553a\">\n",
              "  <button class=\"colab-df-quickchart\" onclick=\"quickchart('df-51fe7d21-bbc9-409c-91af-13718780553a')\"\n",
              "            title=\"Suggest charts\"\n",
              "            style=\"display:none;\">\n",
              "\n",
              "<svg xmlns=\"http://www.w3.org/2000/svg\" height=\"24px\"viewBox=\"0 0 24 24\"\n",
              "     width=\"24px\">\n",
              "    <g>\n",
              "        <path d=\"M19 3H5c-1.1 0-2 .9-2 2v14c0 1.1.9 2 2 2h14c1.1 0 2-.9 2-2V5c0-1.1-.9-2-2-2zM9 17H7v-7h2v7zm4 0h-2V7h2v10zm4 0h-2v-4h2v4z\"/>\n",
              "    </g>\n",
              "</svg>\n",
              "  </button>\n",
              "\n",
              "<style>\n",
              "  .colab-df-quickchart {\n",
              "      --bg-color: #E8F0FE;\n",
              "      --fill-color: #1967D2;\n",
              "      --hover-bg-color: #E2EBFA;\n",
              "      --hover-fill-color: #174EA6;\n",
              "      --disabled-fill-color: #AAA;\n",
              "      --disabled-bg-color: #DDD;\n",
              "  }\n",
              "\n",
              "  [theme=dark] .colab-df-quickchart {\n",
              "      --bg-color: #3B4455;\n",
              "      --fill-color: #D2E3FC;\n",
              "      --hover-bg-color: #434B5C;\n",
              "      --hover-fill-color: #FFFFFF;\n",
              "      --disabled-bg-color: #3B4455;\n",
              "      --disabled-fill-color: #666;\n",
              "  }\n",
              "\n",
              "  .colab-df-quickchart {\n",
              "    background-color: var(--bg-color);\n",
              "    border: none;\n",
              "    border-radius: 50%;\n",
              "    cursor: pointer;\n",
              "    display: none;\n",
              "    fill: var(--fill-color);\n",
              "    height: 32px;\n",
              "    padding: 0;\n",
              "    width: 32px;\n",
              "  }\n",
              "\n",
              "  .colab-df-quickchart:hover {\n",
              "    background-color: var(--hover-bg-color);\n",
              "    box-shadow: 0 1px 2px rgba(60, 64, 67, 0.3), 0 1px 3px 1px rgba(60, 64, 67, 0.15);\n",
              "    fill: var(--button-hover-fill-color);\n",
              "  }\n",
              "\n",
              "  .colab-df-quickchart-complete:disabled,\n",
              "  .colab-df-quickchart-complete:disabled:hover {\n",
              "    background-color: var(--disabled-bg-color);\n",
              "    fill: var(--disabled-fill-color);\n",
              "    box-shadow: none;\n",
              "  }\n",
              "\n",
              "  .colab-df-spinner {\n",
              "    border: 2px solid var(--fill-color);\n",
              "    border-color: transparent;\n",
              "    border-bottom-color: var(--fill-color);\n",
              "    animation:\n",
              "      spin 1s steps(1) infinite;\n",
              "  }\n",
              "\n",
              "  @keyframes spin {\n",
              "    0% {\n",
              "      border-color: transparent;\n",
              "      border-bottom-color: var(--fill-color);\n",
              "      border-left-color: var(--fill-color);\n",
              "    }\n",
              "    20% {\n",
              "      border-color: transparent;\n",
              "      border-left-color: var(--fill-color);\n",
              "      border-top-color: var(--fill-color);\n",
              "    }\n",
              "    30% {\n",
              "      border-color: transparent;\n",
              "      border-left-color: var(--fill-color);\n",
              "      border-top-color: var(--fill-color);\n",
              "      border-right-color: var(--fill-color);\n",
              "    }\n",
              "    40% {\n",
              "      border-color: transparent;\n",
              "      border-right-color: var(--fill-color);\n",
              "      border-top-color: var(--fill-color);\n",
              "    }\n",
              "    60% {\n",
              "      border-color: transparent;\n",
              "      border-right-color: var(--fill-color);\n",
              "    }\n",
              "    80% {\n",
              "      border-color: transparent;\n",
              "      border-right-color: var(--fill-color);\n",
              "      border-bottom-color: var(--fill-color);\n",
              "    }\n",
              "    90% {\n",
              "      border-color: transparent;\n",
              "      border-bottom-color: var(--fill-color);\n",
              "    }\n",
              "  }\n",
              "</style>\n",
              "\n",
              "  <script>\n",
              "    async function quickchart(key) {\n",
              "      const quickchartButtonEl =\n",
              "        document.querySelector('#' + key + ' button');\n",
              "      quickchartButtonEl.disabled = true;  // To prevent multiple clicks.\n",
              "      quickchartButtonEl.classList.add('colab-df-spinner');\n",
              "      try {\n",
              "        const charts = await google.colab.kernel.invokeFunction(\n",
              "            'suggestCharts', [key], {});\n",
              "      } catch (error) {\n",
              "        console.error('Error during call to suggestCharts:', error);\n",
              "      }\n",
              "      quickchartButtonEl.classList.remove('colab-df-spinner');\n",
              "      quickchartButtonEl.classList.add('colab-df-quickchart-complete');\n",
              "    }\n",
              "    (() => {\n",
              "      let quickchartButtonEl =\n",
              "        document.querySelector('#df-51fe7d21-bbc9-409c-91af-13718780553a button');\n",
              "      quickchartButtonEl.style.display =\n",
              "        google.colab.kernel.accessAllowed ? 'block' : 'none';\n",
              "    })();\n",
              "  </script>\n",
              "</div>\n",
              "\n",
              "    </div>\n",
              "  </div>\n"
            ],
            "application/vnd.google.colaboratory.intrinsic+json": {
              "type": "dataframe",
              "variable_name": "age_group_stats",
              "summary": "{\n  \"name\": \"age_group_stats\",\n  \"rows\": 4,\n  \"fields\": [\n    {\n      \"column\": \"age_group\",\n      \"properties\": {\n        \"dtype\": \"category\",\n        \"num_unique_values\": 4,\n        \"samples\": [\n          \"30-45\",\n          \">60\",\n          \"<30\"\n        ],\n        \"semantic_type\": \"\",\n        \"description\": \"\"\n      }\n    },\n    {\n      \"column\": \"LUNG_CANCER\",\n      \"properties\": {\n        \"dtype\": \"number\",\n        \"std\": 0.461117329327587,\n        \"min\": 0.0,\n        \"max\": 1.0,\n        \"num_unique_values\": 4,\n        \"samples\": [\n          1.0,\n          0.8924731182795699,\n          0.0\n        ],\n        \"semantic_type\": \"\",\n        \"description\": \"\"\n      }\n    },\n    {\n      \"column\": \"SMOKING\",\n      \"properties\": {\n        \"dtype\": \"number\",\n        \"std\": 0.2304650775747662,\n        \"min\": 1.5,\n        \"max\": 2.0,\n        \"num_unique_values\": 4,\n        \"samples\": [\n          1.5,\n          1.543010752688172,\n          2.0\n        ],\n        \"semantic_type\": \"\",\n        \"description\": \"\"\n      }\n    },\n    {\n      \"column\": \"ANXIETY\",\n      \"properties\": {\n        \"dtype\": \"number\",\n        \"std\": 0.23867160849577307,\n        \"min\": 1.0,\n        \"max\": 1.532258064516129,\n        \"num_unique_values\": 4,\n        \"samples\": [\n          1.25,\n          1.532258064516129,\n          1.0\n        ],\n        \"semantic_type\": \"\",\n        \"description\": \"\"\n      }\n    }\n  ]\n}"
            }
          },
          "metadata": {},
          "execution_count": 95
        }
      ]
    },
    {
      "cell_type": "code",
      "source": [
        "# Adding risk categories\n",
        "age_group_stats['risk_category'] = pd.qcut(age_group_stats['LUNG_CANCER'],\n",
        "                                          q=3, labels=['Low', 'Medium', 'High'])\n",
        "\n",
        "age_group_stats['risk_category'].head()"
      ],
      "metadata": {
        "colab": {
          "base_uri": "https://localhost:8080/",
          "height": 210
        },
        "id": "NNXtBlgDOszM",
        "outputId": "6bd2ac77-974e-441a-f7eb-49a800efbf5c"
      },
      "execution_count": 96,
      "outputs": [
        {
          "output_type": "execute_result",
          "data": {
            "text/plain": [
              "0       Low\n",
              "1      High\n",
              "2    Medium\n",
              "3    Medium\n",
              "Name: risk_category, dtype: category\n",
              "Categories (3, object): ['Low' < 'Medium' < 'High']"
            ],
            "text/html": [
              "<div>\n",
              "<style scoped>\n",
              "    .dataframe tbody tr th:only-of-type {\n",
              "        vertical-align: middle;\n",
              "    }\n",
              "\n",
              "    .dataframe tbody tr th {\n",
              "        vertical-align: top;\n",
              "    }\n",
              "\n",
              "    .dataframe thead th {\n",
              "        text-align: right;\n",
              "    }\n",
              "</style>\n",
              "<table border=\"1\" class=\"dataframe\">\n",
              "  <thead>\n",
              "    <tr style=\"text-align: right;\">\n",
              "      <th></th>\n",
              "      <th>risk_category</th>\n",
              "    </tr>\n",
              "  </thead>\n",
              "  <tbody>\n",
              "    <tr>\n",
              "      <th>0</th>\n",
              "      <td>Low</td>\n",
              "    </tr>\n",
              "    <tr>\n",
              "      <th>1</th>\n",
              "      <td>High</td>\n",
              "    </tr>\n",
              "    <tr>\n",
              "      <th>2</th>\n",
              "      <td>Medium</td>\n",
              "    </tr>\n",
              "    <tr>\n",
              "      <th>3</th>\n",
              "      <td>Medium</td>\n",
              "    </tr>\n",
              "  </tbody>\n",
              "</table>\n",
              "</div><br><label><b>dtype:</b> category</label>"
            ]
          },
          "metadata": {},
          "execution_count": 96
        }
      ]
    },
    {
      "cell_type": "code",
      "source": [
        "#Merging the data\n",
        "combined_data = pd.merge(age_group_stats,\n",
        "                        data_2[['new_cases_number', 'Deaths Number']],\n",
        "                        left_index=True, right_index=True, how='left')\n",
        "\n",
        "combined_data.head()"
      ],
      "metadata": {
        "colab": {
          "base_uri": "https://localhost:8080/",
          "height": 175
        },
        "id": "mkYqbKXEO0vK",
        "outputId": "ee0dd86a-f05e-4ff1-9037-2c98384b9dfa"
      },
      "execution_count": 97,
      "outputs": [
        {
          "output_type": "execute_result",
          "data": {
            "text/plain": [
              "  age_group  LUNG_CANCER   SMOKING   ANXIETY risk_category  new_cases_number  \\\n",
              "0       <30     0.000000  2.000000  1.000000           Low              5452   \n",
              "1     30-45     1.000000  1.500000  1.250000          High             21096   \n",
              "2     45-60     0.847458  1.593220  1.457627        Medium             31460   \n",
              "3       >60     0.892473  1.543011  1.532258        Medium            178361   \n",
              "\n",
              "   Deaths Number  \n",
              "0           2776  \n",
              "1          11154  \n",
              "2          26656  \n",
              "3          90408  "
            ],
            "text/html": [
              "\n",
              "  <div id=\"df-05615645-6301-4b4a-ab27-d949bc86df83\" class=\"colab-df-container\">\n",
              "    <div>\n",
              "<style scoped>\n",
              "    .dataframe tbody tr th:only-of-type {\n",
              "        vertical-align: middle;\n",
              "    }\n",
              "\n",
              "    .dataframe tbody tr th {\n",
              "        vertical-align: top;\n",
              "    }\n",
              "\n",
              "    .dataframe thead th {\n",
              "        text-align: right;\n",
              "    }\n",
              "</style>\n",
              "<table border=\"1\" class=\"dataframe\">\n",
              "  <thead>\n",
              "    <tr style=\"text-align: right;\">\n",
              "      <th></th>\n",
              "      <th>age_group</th>\n",
              "      <th>LUNG_CANCER</th>\n",
              "      <th>SMOKING</th>\n",
              "      <th>ANXIETY</th>\n",
              "      <th>risk_category</th>\n",
              "      <th>new_cases_number</th>\n",
              "      <th>Deaths Number</th>\n",
              "    </tr>\n",
              "  </thead>\n",
              "  <tbody>\n",
              "    <tr>\n",
              "      <th>0</th>\n",
              "      <td>&lt;30</td>\n",
              "      <td>0.000000</td>\n",
              "      <td>2.000000</td>\n",
              "      <td>1.000000</td>\n",
              "      <td>Low</td>\n",
              "      <td>5452</td>\n",
              "      <td>2776</td>\n",
              "    </tr>\n",
              "    <tr>\n",
              "      <th>1</th>\n",
              "      <td>30-45</td>\n",
              "      <td>1.000000</td>\n",
              "      <td>1.500000</td>\n",
              "      <td>1.250000</td>\n",
              "      <td>High</td>\n",
              "      <td>21096</td>\n",
              "      <td>11154</td>\n",
              "    </tr>\n",
              "    <tr>\n",
              "      <th>2</th>\n",
              "      <td>45-60</td>\n",
              "      <td>0.847458</td>\n",
              "      <td>1.593220</td>\n",
              "      <td>1.457627</td>\n",
              "      <td>Medium</td>\n",
              "      <td>31460</td>\n",
              "      <td>26656</td>\n",
              "    </tr>\n",
              "    <tr>\n",
              "      <th>3</th>\n",
              "      <td>&gt;60</td>\n",
              "      <td>0.892473</td>\n",
              "      <td>1.543011</td>\n",
              "      <td>1.532258</td>\n",
              "      <td>Medium</td>\n",
              "      <td>178361</td>\n",
              "      <td>90408</td>\n",
              "    </tr>\n",
              "  </tbody>\n",
              "</table>\n",
              "</div>\n",
              "    <div class=\"colab-df-buttons\">\n",
              "\n",
              "  <div class=\"colab-df-container\">\n",
              "    <button class=\"colab-df-convert\" onclick=\"convertToInteractive('df-05615645-6301-4b4a-ab27-d949bc86df83')\"\n",
              "            title=\"Convert this dataframe to an interactive table.\"\n",
              "            style=\"display:none;\">\n",
              "\n",
              "  <svg xmlns=\"http://www.w3.org/2000/svg\" height=\"24px\" viewBox=\"0 -960 960 960\">\n",
              "    <path d=\"M120-120v-720h720v720H120Zm60-500h600v-160H180v160Zm220 220h160v-160H400v160Zm0 220h160v-160H400v160ZM180-400h160v-160H180v160Zm440 0h160v-160H620v160ZM180-180h160v-160H180v160Zm440 0h160v-160H620v160Z\"/>\n",
              "  </svg>\n",
              "    </button>\n",
              "\n",
              "  <style>\n",
              "    .colab-df-container {\n",
              "      display:flex;\n",
              "      gap: 12px;\n",
              "    }\n",
              "\n",
              "    .colab-df-convert {\n",
              "      background-color: #E8F0FE;\n",
              "      border: none;\n",
              "      border-radius: 50%;\n",
              "      cursor: pointer;\n",
              "      display: none;\n",
              "      fill: #1967D2;\n",
              "      height: 32px;\n",
              "      padding: 0 0 0 0;\n",
              "      width: 32px;\n",
              "    }\n",
              "\n",
              "    .colab-df-convert:hover {\n",
              "      background-color: #E2EBFA;\n",
              "      box-shadow: 0px 1px 2px rgba(60, 64, 67, 0.3), 0px 1px 3px 1px rgba(60, 64, 67, 0.15);\n",
              "      fill: #174EA6;\n",
              "    }\n",
              "\n",
              "    .colab-df-buttons div {\n",
              "      margin-bottom: 4px;\n",
              "    }\n",
              "\n",
              "    [theme=dark] .colab-df-convert {\n",
              "      background-color: #3B4455;\n",
              "      fill: #D2E3FC;\n",
              "    }\n",
              "\n",
              "    [theme=dark] .colab-df-convert:hover {\n",
              "      background-color: #434B5C;\n",
              "      box-shadow: 0px 1px 3px 1px rgba(0, 0, 0, 0.15);\n",
              "      filter: drop-shadow(0px 1px 2px rgba(0, 0, 0, 0.3));\n",
              "      fill: #FFFFFF;\n",
              "    }\n",
              "  </style>\n",
              "\n",
              "    <script>\n",
              "      const buttonEl =\n",
              "        document.querySelector('#df-05615645-6301-4b4a-ab27-d949bc86df83 button.colab-df-convert');\n",
              "      buttonEl.style.display =\n",
              "        google.colab.kernel.accessAllowed ? 'block' : 'none';\n",
              "\n",
              "      async function convertToInteractive(key) {\n",
              "        const element = document.querySelector('#df-05615645-6301-4b4a-ab27-d949bc86df83');\n",
              "        const dataTable =\n",
              "          await google.colab.kernel.invokeFunction('convertToInteractive',\n",
              "                                                    [key], {});\n",
              "        if (!dataTable) return;\n",
              "\n",
              "        const docLinkHtml = 'Like what you see? Visit the ' +\n",
              "          '<a target=\"_blank\" href=https://colab.research.google.com/notebooks/data_table.ipynb>data table notebook</a>'\n",
              "          + ' to learn more about interactive tables.';\n",
              "        element.innerHTML = '';\n",
              "        dataTable['output_type'] = 'display_data';\n",
              "        await google.colab.output.renderOutput(dataTable, element);\n",
              "        const docLink = document.createElement('div');\n",
              "        docLink.innerHTML = docLinkHtml;\n",
              "        element.appendChild(docLink);\n",
              "      }\n",
              "    </script>\n",
              "  </div>\n",
              "\n",
              "\n",
              "<div id=\"df-5e2d30c6-abb4-413d-87c8-6fa034bdbf8c\">\n",
              "  <button class=\"colab-df-quickchart\" onclick=\"quickchart('df-5e2d30c6-abb4-413d-87c8-6fa034bdbf8c')\"\n",
              "            title=\"Suggest charts\"\n",
              "            style=\"display:none;\">\n",
              "\n",
              "<svg xmlns=\"http://www.w3.org/2000/svg\" height=\"24px\"viewBox=\"0 0 24 24\"\n",
              "     width=\"24px\">\n",
              "    <g>\n",
              "        <path d=\"M19 3H5c-1.1 0-2 .9-2 2v14c0 1.1.9 2 2 2h14c1.1 0 2-.9 2-2V5c0-1.1-.9-2-2-2zM9 17H7v-7h2v7zm4 0h-2V7h2v10zm4 0h-2v-4h2v4z\"/>\n",
              "    </g>\n",
              "</svg>\n",
              "  </button>\n",
              "\n",
              "<style>\n",
              "  .colab-df-quickchart {\n",
              "      --bg-color: #E8F0FE;\n",
              "      --fill-color: #1967D2;\n",
              "      --hover-bg-color: #E2EBFA;\n",
              "      --hover-fill-color: #174EA6;\n",
              "      --disabled-fill-color: #AAA;\n",
              "      --disabled-bg-color: #DDD;\n",
              "  }\n",
              "\n",
              "  [theme=dark] .colab-df-quickchart {\n",
              "      --bg-color: #3B4455;\n",
              "      --fill-color: #D2E3FC;\n",
              "      --hover-bg-color: #434B5C;\n",
              "      --hover-fill-color: #FFFFFF;\n",
              "      --disabled-bg-color: #3B4455;\n",
              "      --disabled-fill-color: #666;\n",
              "  }\n",
              "\n",
              "  .colab-df-quickchart {\n",
              "    background-color: var(--bg-color);\n",
              "    border: none;\n",
              "    border-radius: 50%;\n",
              "    cursor: pointer;\n",
              "    display: none;\n",
              "    fill: var(--fill-color);\n",
              "    height: 32px;\n",
              "    padding: 0;\n",
              "    width: 32px;\n",
              "  }\n",
              "\n",
              "  .colab-df-quickchart:hover {\n",
              "    background-color: var(--hover-bg-color);\n",
              "    box-shadow: 0 1px 2px rgba(60, 64, 67, 0.3), 0 1px 3px 1px rgba(60, 64, 67, 0.15);\n",
              "    fill: var(--button-hover-fill-color);\n",
              "  }\n",
              "\n",
              "  .colab-df-quickchart-complete:disabled,\n",
              "  .colab-df-quickchart-complete:disabled:hover {\n",
              "    background-color: var(--disabled-bg-color);\n",
              "    fill: var(--disabled-fill-color);\n",
              "    box-shadow: none;\n",
              "  }\n",
              "\n",
              "  .colab-df-spinner {\n",
              "    border: 2px solid var(--fill-color);\n",
              "    border-color: transparent;\n",
              "    border-bottom-color: var(--fill-color);\n",
              "    animation:\n",
              "      spin 1s steps(1) infinite;\n",
              "  }\n",
              "\n",
              "  @keyframes spin {\n",
              "    0% {\n",
              "      border-color: transparent;\n",
              "      border-bottom-color: var(--fill-color);\n",
              "      border-left-color: var(--fill-color);\n",
              "    }\n",
              "    20% {\n",
              "      border-color: transparent;\n",
              "      border-left-color: var(--fill-color);\n",
              "      border-top-color: var(--fill-color);\n",
              "    }\n",
              "    30% {\n",
              "      border-color: transparent;\n",
              "      border-left-color: var(--fill-color);\n",
              "      border-top-color: var(--fill-color);\n",
              "      border-right-color: var(--fill-color);\n",
              "    }\n",
              "    40% {\n",
              "      border-color: transparent;\n",
              "      border-right-color: var(--fill-color);\n",
              "      border-top-color: var(--fill-color);\n",
              "    }\n",
              "    60% {\n",
              "      border-color: transparent;\n",
              "      border-right-color: var(--fill-color);\n",
              "    }\n",
              "    80% {\n",
              "      border-color: transparent;\n",
              "      border-right-color: var(--fill-color);\n",
              "      border-bottom-color: var(--fill-color);\n",
              "    }\n",
              "    90% {\n",
              "      border-color: transparent;\n",
              "      border-bottom-color: var(--fill-color);\n",
              "    }\n",
              "  }\n",
              "</style>\n",
              "\n",
              "  <script>\n",
              "    async function quickchart(key) {\n",
              "      const quickchartButtonEl =\n",
              "        document.querySelector('#' + key + ' button');\n",
              "      quickchartButtonEl.disabled = true;  // To prevent multiple clicks.\n",
              "      quickchartButtonEl.classList.add('colab-df-spinner');\n",
              "      try {\n",
              "        const charts = await google.colab.kernel.invokeFunction(\n",
              "            'suggestCharts', [key], {});\n",
              "      } catch (error) {\n",
              "        console.error('Error during call to suggestCharts:', error);\n",
              "      }\n",
              "      quickchartButtonEl.classList.remove('colab-df-spinner');\n",
              "      quickchartButtonEl.classList.add('colab-df-quickchart-complete');\n",
              "    }\n",
              "    (() => {\n",
              "      let quickchartButtonEl =\n",
              "        document.querySelector('#df-5e2d30c6-abb4-413d-87c8-6fa034bdbf8c button');\n",
              "      quickchartButtonEl.style.display =\n",
              "        google.colab.kernel.accessAllowed ? 'block' : 'none';\n",
              "    })();\n",
              "  </script>\n",
              "</div>\n",
              "\n",
              "    </div>\n",
              "  </div>\n"
            ],
            "application/vnd.google.colaboratory.intrinsic+json": {
              "type": "dataframe",
              "variable_name": "combined_data",
              "summary": "{\n  \"name\": \"combined_data\",\n  \"rows\": 4,\n  \"fields\": [\n    {\n      \"column\": \"age_group\",\n      \"properties\": {\n        \"dtype\": \"category\",\n        \"num_unique_values\": 4,\n        \"samples\": [\n          \"30-45\",\n          \">60\",\n          \"<30\"\n        ],\n        \"semantic_type\": \"\",\n        \"description\": \"\"\n      }\n    },\n    {\n      \"column\": \"LUNG_CANCER\",\n      \"properties\": {\n        \"dtype\": \"number\",\n        \"std\": 0.461117329327587,\n        \"min\": 0.0,\n        \"max\": 1.0,\n        \"num_unique_values\": 4,\n        \"samples\": [\n          1.0,\n          0.8924731182795699,\n          0.0\n        ],\n        \"semantic_type\": \"\",\n        \"description\": \"\"\n      }\n    },\n    {\n      \"column\": \"SMOKING\",\n      \"properties\": {\n        \"dtype\": \"number\",\n        \"std\": 0.2304650775747662,\n        \"min\": 1.5,\n        \"max\": 2.0,\n        \"num_unique_values\": 4,\n        \"samples\": [\n          1.5,\n          1.543010752688172,\n          2.0\n        ],\n        \"semantic_type\": \"\",\n        \"description\": \"\"\n      }\n    },\n    {\n      \"column\": \"ANXIETY\",\n      \"properties\": {\n        \"dtype\": \"number\",\n        \"std\": 0.23867160849577307,\n        \"min\": 1.0,\n        \"max\": 1.532258064516129,\n        \"num_unique_values\": 4,\n        \"samples\": [\n          1.25,\n          1.532258064516129,\n          1.0\n        ],\n        \"semantic_type\": \"\",\n        \"description\": \"\"\n      }\n    },\n    {\n      \"column\": \"risk_category\",\n      \"properties\": {\n        \"dtype\": \"category\",\n        \"num_unique_values\": 3,\n        \"samples\": [\n          \"Low\",\n          \"High\",\n          \"Medium\"\n        ],\n        \"semantic_type\": \"\",\n        \"description\": \"\"\n      }\n    },\n    {\n      \"column\": \"new_cases_number\",\n      \"properties\": {\n        \"dtype\": \"number\",\n        \"std\": 80227,\n        \"min\": 5452,\n        \"max\": 178361,\n        \"num_unique_values\": 4,\n        \"samples\": [\n          21096,\n          178361,\n          5452\n        ],\n        \"semantic_type\": \"\",\n        \"description\": \"\"\n      }\n    },\n    {\n      \"column\": \"Deaths Number\",\n      \"properties\": {\n        \"dtype\": \"number\",\n        \"std\": 39692,\n        \"min\": 2776,\n        \"max\": 90408,\n        \"num_unique_values\": 4,\n        \"samples\": [\n          11154,\n          90408,\n          2776\n        ],\n        \"semantic_type\": \"\",\n        \"description\": \"\"\n      }\n    }\n  ]\n}"
            }
          },
          "metadata": {},
          "execution_count": 97
        }
      ]
    },
    {
      "cell_type": "markdown",
      "source": [
        "Interpretation- The proportion of individuals with lung cancer increases with age, which aligns with the higher new cases and deaths in older age groups. Smoking levels remain consistently high across all age groups, which correlates with lung cancer presence.Anxiety levels increase slightly with age, suggesting a potential link between psychological stress and lung cancer diagnosis. The >60 age group bears the greatest burden in terms of both new cases and deaths, highlighting it as a high-risk group for lung cancer."
      ],
      "metadata": {
        "id": "e9O5GVpIJ7Qw"
      }
    },
    {
      "cell_type": "markdown",
      "source": [
        "# Data Transformations\n",
        "\n",
        "1. This code takes the data of ‘LUNG_CANCER’ column as ‘YES’ or ‘NO’ an converts it into number where ‘YES’ would be 1 and ‘NO’ would be 0 to build a new variable called ‘cancer_numeric’. The conversion is performed in case that LUNG_CANCER is equal to ‘YES’ and then compare with True/False values then convert the integers using astype(int). This conversion is important in mathematical computation as well as in most statistical analysis where researchers need numerical data rather than categorical data.\n",
        "\n",
        "2. The ‘smoking_severity’ calculation multiplies the ‘SMOKING’ value by ‘YELLOW_FINGERS’ (coerced to float) in essence generating a synthetical variable. This is better than simply adding yellow fingers and cancers together since a person with yellow fingers is more likely to be a heavy smoker as compared to others who have no yellow fingers at all.\n",
        "\n",
        "3. Respiratory_score is derived as a simple mean of three respiratory symptoms that include WHEEZING, SHORTNESS OF BREATH, and COUGHING for every individual. The axis equals one, calculates the mean across rows horizontally. As different from the above, this combined score of respiratory health is obtained by taking the average of these related symptoms for easier assessment of respiratory condition.\n",
        "\n",
        "4. The ‘health_index’ again, similar to the respiratory score, is obtained by averaging values of FATIGUE, ALLERGY and CHRONIC DISEASE from the same people. That way, it becomes possible to obtain a single score which would imply overall health and which encapsulates several health aspects.\n",
        "\n",
        "5. The ‘anxiety_risk’ score is a product of ‘ANXIETY’ and ‘PEER_PRESSURE’ divided by one to ensure the latter is a float. This smearing indicates that it is possible to enhance influence among the peers, or else, anxiety levels, possibly giving a proportionate evaluation of psychological stress that is louder than the impact of the two aspects only."
      ],
      "metadata": {
        "id": "LeMs6uygXm04"
      }
    },
    {
      "cell_type": "code",
      "source": [
        "def convert_to_binary(data, column_name, positive_value, new_column_name):\n",
        "    \"\"\"\n",
        "    Converts a categorical column into a binary numeric column.\n",
        "\n",
        "    Parameters:\n",
        "    - data (DataFrame): Input Pandas DataFrame.\n",
        "    - column_name (str): Column to be converted.\n",
        "    - positive_value: Value in the column to be treated as 1 (True).\n",
        "    - new_column_name (str): Name of the new binary column.\n",
        "\n",
        "    Returns:\n",
        "    - DataFrame: Updated DataFrame with the new binary column.\n",
        "    \"\"\"\n",
        "    data[new_column_name] = (data[column_name] == positive_value).astype(int)\n",
        "    return data"
      ],
      "metadata": {
        "id": "XG2_Q0Bq63eW"
      },
      "execution_count": 98,
      "outputs": []
    },
    {
      "cell_type": "code",
      "source": [
        "data_1 = convert_to_binary(data_1, column_name='LUNG_CANCER', positive_value='YES', new_column_name='cancer_numeric')\n"
      ],
      "metadata": {
        "id": "kH6ZLUb966HK"
      },
      "execution_count": 99,
      "outputs": []
    },
    {
      "cell_type": "code",
      "source": [
        "data_1['cancer_numeric'].head()"
      ],
      "metadata": {
        "colab": {
          "base_uri": "https://localhost:8080/",
          "height": 241
        },
        "id": "1_rJAXaw71ZB",
        "outputId": "f1474bef-b750-412c-b187-207a93110b95"
      },
      "execution_count": 100,
      "outputs": [
        {
          "output_type": "execute_result",
          "data": {
            "text/plain": [
              "0    1\n",
              "1    1\n",
              "2    0\n",
              "3    0\n",
              "4    0\n",
              "Name: cancer_numeric, dtype: int64"
            ],
            "text/html": [
              "<div>\n",
              "<style scoped>\n",
              "    .dataframe tbody tr th:only-of-type {\n",
              "        vertical-align: middle;\n",
              "    }\n",
              "\n",
              "    .dataframe tbody tr th {\n",
              "        vertical-align: top;\n",
              "    }\n",
              "\n",
              "    .dataframe thead th {\n",
              "        text-align: right;\n",
              "    }\n",
              "</style>\n",
              "<table border=\"1\" class=\"dataframe\">\n",
              "  <thead>\n",
              "    <tr style=\"text-align: right;\">\n",
              "      <th></th>\n",
              "      <th>cancer_numeric</th>\n",
              "    </tr>\n",
              "  </thead>\n",
              "  <tbody>\n",
              "    <tr>\n",
              "      <th>0</th>\n",
              "      <td>1</td>\n",
              "    </tr>\n",
              "    <tr>\n",
              "      <th>1</th>\n",
              "      <td>1</td>\n",
              "    </tr>\n",
              "    <tr>\n",
              "      <th>2</th>\n",
              "      <td>0</td>\n",
              "    </tr>\n",
              "    <tr>\n",
              "      <th>3</th>\n",
              "      <td>0</td>\n",
              "    </tr>\n",
              "    <tr>\n",
              "      <th>4</th>\n",
              "      <td>0</td>\n",
              "    </tr>\n",
              "  </tbody>\n",
              "</table>\n",
              "</div><br><label><b>dtype:</b> int64</label>"
            ]
          },
          "metadata": {},
          "execution_count": 100
        }
      ]
    },
    {
      "cell_type": "code",
      "source": [
        "data_1['smoking_severity'] = data_1['SMOKING'] * data_1['YELLOW_FINGERS'].astype(float)\n",
        "data_1['smoking_severity'].head()"
      ],
      "metadata": {
        "colab": {
          "base_uri": "https://localhost:8080/",
          "height": 241
        },
        "id": "DCVG0vTPO8pI",
        "outputId": "b9062ceb-a200-413c-a64b-ed251e9b5969"
      },
      "execution_count": 101,
      "outputs": [
        {
          "output_type": "execute_result",
          "data": {
            "text/plain": [
              "0    2.0\n",
              "1    2.0\n",
              "2    1.0\n",
              "3    4.0\n",
              "4    2.0\n",
              "Name: smoking_severity, dtype: float64"
            ],
            "text/html": [
              "<div>\n",
              "<style scoped>\n",
              "    .dataframe tbody tr th:only-of-type {\n",
              "        vertical-align: middle;\n",
              "    }\n",
              "\n",
              "    .dataframe tbody tr th {\n",
              "        vertical-align: top;\n",
              "    }\n",
              "\n",
              "    .dataframe thead th {\n",
              "        text-align: right;\n",
              "    }\n",
              "</style>\n",
              "<table border=\"1\" class=\"dataframe\">\n",
              "  <thead>\n",
              "    <tr style=\"text-align: right;\">\n",
              "      <th></th>\n",
              "      <th>smoking_severity</th>\n",
              "    </tr>\n",
              "  </thead>\n",
              "  <tbody>\n",
              "    <tr>\n",
              "      <th>0</th>\n",
              "      <td>2.0</td>\n",
              "    </tr>\n",
              "    <tr>\n",
              "      <th>1</th>\n",
              "      <td>2.0</td>\n",
              "    </tr>\n",
              "    <tr>\n",
              "      <th>2</th>\n",
              "      <td>1.0</td>\n",
              "    </tr>\n",
              "    <tr>\n",
              "      <th>3</th>\n",
              "      <td>4.0</td>\n",
              "    </tr>\n",
              "    <tr>\n",
              "      <th>4</th>\n",
              "      <td>2.0</td>\n",
              "    </tr>\n",
              "  </tbody>\n",
              "</table>\n",
              "</div><br><label><b>dtype:</b> float64</label>"
            ]
          },
          "metadata": {},
          "execution_count": 101
        }
      ]
    },
    {
      "cell_type": "code",
      "source": [
        "data_1['respiratory_score'] = data_1[['WHEEZING', 'SHORTNESS OF BREATH',\n",
        "                                    'COUGHING']].mean(axis=1)\n",
        "data_1['respiratory_score'].head()"
      ],
      "metadata": {
        "colab": {
          "base_uri": "https://localhost:8080/",
          "height": 241
        },
        "id": "IqcUyu_5O_dZ",
        "outputId": "ef51316e-31f0-43d4-c410-71f1bd741f56"
      },
      "execution_count": 102,
      "outputs": [
        {
          "output_type": "execute_result",
          "data": {
            "text/plain": [
              "0    2.000000\n",
              "1    1.333333\n",
              "2    2.000000\n",
              "3    1.000000\n",
              "4    2.000000\n",
              "Name: respiratory_score, dtype: float64"
            ],
            "text/html": [
              "<div>\n",
              "<style scoped>\n",
              "    .dataframe tbody tr th:only-of-type {\n",
              "        vertical-align: middle;\n",
              "    }\n",
              "\n",
              "    .dataframe tbody tr th {\n",
              "        vertical-align: top;\n",
              "    }\n",
              "\n",
              "    .dataframe thead th {\n",
              "        text-align: right;\n",
              "    }\n",
              "</style>\n",
              "<table border=\"1\" class=\"dataframe\">\n",
              "  <thead>\n",
              "    <tr style=\"text-align: right;\">\n",
              "      <th></th>\n",
              "      <th>respiratory_score</th>\n",
              "    </tr>\n",
              "  </thead>\n",
              "  <tbody>\n",
              "    <tr>\n",
              "      <th>0</th>\n",
              "      <td>2.000000</td>\n",
              "    </tr>\n",
              "    <tr>\n",
              "      <th>1</th>\n",
              "      <td>1.333333</td>\n",
              "    </tr>\n",
              "    <tr>\n",
              "      <th>2</th>\n",
              "      <td>2.000000</td>\n",
              "    </tr>\n",
              "    <tr>\n",
              "      <th>3</th>\n",
              "      <td>1.000000</td>\n",
              "    </tr>\n",
              "    <tr>\n",
              "      <th>4</th>\n",
              "      <td>2.000000</td>\n",
              "    </tr>\n",
              "  </tbody>\n",
              "</table>\n",
              "</div><br><label><b>dtype:</b> float64</label>"
            ]
          },
          "metadata": {},
          "execution_count": 102
        }
      ]
    },
    {
      "cell_type": "code",
      "source": [
        "data_1['health_index'] = data_1[['FATIGUE', 'ALLERGY',\n",
        "                                'CHRONIC DISEASE']].mean(axis=1)\n",
        "data_1['health_index'].head()"
      ],
      "metadata": {
        "colab": {
          "base_uri": "https://localhost:8080/",
          "height": 241
        },
        "id": "SmcbC1dTPAmF",
        "outputId": "f9df01b6-73e7-43c1-9818-1fc308d88895"
      },
      "execution_count": 103,
      "outputs": [
        {
          "output_type": "execute_result",
          "data": {
            "text/plain": [
              "0    1.333333\n",
              "1    2.000000\n",
              "2    1.333333\n",
              "3    1.000000\n",
              "4    1.000000\n",
              "Name: health_index, dtype: float64"
            ],
            "text/html": [
              "<div>\n",
              "<style scoped>\n",
              "    .dataframe tbody tr th:only-of-type {\n",
              "        vertical-align: middle;\n",
              "    }\n",
              "\n",
              "    .dataframe tbody tr th {\n",
              "        vertical-align: top;\n",
              "    }\n",
              "\n",
              "    .dataframe thead th {\n",
              "        text-align: right;\n",
              "    }\n",
              "</style>\n",
              "<table border=\"1\" class=\"dataframe\">\n",
              "  <thead>\n",
              "    <tr style=\"text-align: right;\">\n",
              "      <th></th>\n",
              "      <th>health_index</th>\n",
              "    </tr>\n",
              "  </thead>\n",
              "  <tbody>\n",
              "    <tr>\n",
              "      <th>0</th>\n",
              "      <td>1.333333</td>\n",
              "    </tr>\n",
              "    <tr>\n",
              "      <th>1</th>\n",
              "      <td>2.000000</td>\n",
              "    </tr>\n",
              "    <tr>\n",
              "      <th>2</th>\n",
              "      <td>1.333333</td>\n",
              "    </tr>\n",
              "    <tr>\n",
              "      <th>3</th>\n",
              "      <td>1.000000</td>\n",
              "    </tr>\n",
              "    <tr>\n",
              "      <th>4</th>\n",
              "      <td>1.000000</td>\n",
              "    </tr>\n",
              "  </tbody>\n",
              "</table>\n",
              "</div><br><label><b>dtype:</b> float64</label>"
            ]
          },
          "metadata": {},
          "execution_count": 103
        }
      ]
    },
    {
      "cell_type": "code",
      "source": [
        "data_1['anxiety_risk'] = data_1['ANXIETY'] * data_1['PEER_PRESSURE'].astype(float)\n",
        "data_1['anxiety_risk'].head()"
      ],
      "metadata": {
        "colab": {
          "base_uri": "https://localhost:8080/",
          "height": 241
        },
        "id": "o27nQip_PQz3",
        "outputId": "2c5f0c7c-d9d5-4514-d11c-eaeea9ca5b48"
      },
      "execution_count": 104,
      "outputs": [
        {
          "output_type": "execute_result",
          "data": {
            "text/plain": [
              "0    2.0\n",
              "1    1.0\n",
              "2    2.0\n",
              "3    2.0\n",
              "4    1.0\n",
              "Name: anxiety_risk, dtype: float64"
            ],
            "text/html": [
              "<div>\n",
              "<style scoped>\n",
              "    .dataframe tbody tr th:only-of-type {\n",
              "        vertical-align: middle;\n",
              "    }\n",
              "\n",
              "    .dataframe tbody tr th {\n",
              "        vertical-align: top;\n",
              "    }\n",
              "\n",
              "    .dataframe thead th {\n",
              "        text-align: right;\n",
              "    }\n",
              "</style>\n",
              "<table border=\"1\" class=\"dataframe\">\n",
              "  <thead>\n",
              "    <tr style=\"text-align: right;\">\n",
              "      <th></th>\n",
              "      <th>anxiety_risk</th>\n",
              "    </tr>\n",
              "  </thead>\n",
              "  <tbody>\n",
              "    <tr>\n",
              "      <th>0</th>\n",
              "      <td>2.0</td>\n",
              "    </tr>\n",
              "    <tr>\n",
              "      <th>1</th>\n",
              "      <td>1.0</td>\n",
              "    </tr>\n",
              "    <tr>\n",
              "      <th>2</th>\n",
              "      <td>2.0</td>\n",
              "    </tr>\n",
              "    <tr>\n",
              "      <th>3</th>\n",
              "      <td>2.0</td>\n",
              "    </tr>\n",
              "    <tr>\n",
              "      <th>4</th>\n",
              "      <td>1.0</td>\n",
              "    </tr>\n",
              "  </tbody>\n",
              "</table>\n",
              "</div><br><label><b>dtype:</b> float64</label>"
            ]
          },
          "metadata": {},
          "execution_count": 104
        }
      ]
    },
    {
      "cell_type": "markdown",
      "source": [
        "# Create risk profiles through aggregation\n",
        "\n",
        "This code creates risk profiles by grouping the data by GENDER and calculating the mean values of multiple health indicators ('smoking_severity', 'respiratory_score', 'health_index', 'anxiety_risk', and 'cancer_numeric') for each gender group. The groupby('GENDER') splits the data into male and female groups, then .agg() applies the mean calculation to each specified column within those groups. The reset_index() converts the gender from an index back to a regular column. This aggregation effectively creates a summary profile for each gender, showing how different health risks and conditions vary between males and females, which can be valuable for understanding gender-specific health patterns and risks."
      ],
      "metadata": {
        "id": "xusknXt-YLXV"
      }
    },
    {
      "cell_type": "code",
      "source": [
        "#Creating risk profiles through aggregation\n",
        "risk_profiles = data_1.groupby('GENDER').agg({\n",
        "    'smoking_severity': 'mean',\n",
        "    'respiratory_score': 'mean',\n",
        "    'health_index': 'mean',\n",
        "    'anxiety_risk': 'mean',\n",
        "    'cancer_numeric': 'mean'\n",
        "}).reset_index()\n",
        "\n",
        "risk_profiles.head()"
      ],
      "metadata": {
        "colab": {
          "base_uri": "https://localhost:8080/",
          "height": 112
        },
        "id": "Yp8SaXMpPTGR",
        "outputId": "d03c75b7-753e-4beb-c5e8-5a89c3c1142a"
      },
      "execution_count": 105,
      "outputs": [
        {
          "output_type": "execute_result",
          "data": {
            "text/plain": [
              "  GENDER  smoking_severity  respiratory_score  health_index  anxiety_risk  \\\n",
              "0      F          2.659864           1.555556      1.600907      2.646259   \n",
              "1      M          2.259259           1.625514      1.557613      1.993827   \n",
              "\n",
              "   cancer_numeric  \n",
              "0        0.850340  \n",
              "1        0.895062  "
            ],
            "text/html": [
              "\n",
              "  <div id=\"df-ff79a07b-a8d0-49e1-a7dd-88e2b410a0e7\" class=\"colab-df-container\">\n",
              "    <div>\n",
              "<style scoped>\n",
              "    .dataframe tbody tr th:only-of-type {\n",
              "        vertical-align: middle;\n",
              "    }\n",
              "\n",
              "    .dataframe tbody tr th {\n",
              "        vertical-align: top;\n",
              "    }\n",
              "\n",
              "    .dataframe thead th {\n",
              "        text-align: right;\n",
              "    }\n",
              "</style>\n",
              "<table border=\"1\" class=\"dataframe\">\n",
              "  <thead>\n",
              "    <tr style=\"text-align: right;\">\n",
              "      <th></th>\n",
              "      <th>GENDER</th>\n",
              "      <th>smoking_severity</th>\n",
              "      <th>respiratory_score</th>\n",
              "      <th>health_index</th>\n",
              "      <th>anxiety_risk</th>\n",
              "      <th>cancer_numeric</th>\n",
              "    </tr>\n",
              "  </thead>\n",
              "  <tbody>\n",
              "    <tr>\n",
              "      <th>0</th>\n",
              "      <td>F</td>\n",
              "      <td>2.659864</td>\n",
              "      <td>1.555556</td>\n",
              "      <td>1.600907</td>\n",
              "      <td>2.646259</td>\n",
              "      <td>0.850340</td>\n",
              "    </tr>\n",
              "    <tr>\n",
              "      <th>1</th>\n",
              "      <td>M</td>\n",
              "      <td>2.259259</td>\n",
              "      <td>1.625514</td>\n",
              "      <td>1.557613</td>\n",
              "      <td>1.993827</td>\n",
              "      <td>0.895062</td>\n",
              "    </tr>\n",
              "  </tbody>\n",
              "</table>\n",
              "</div>\n",
              "    <div class=\"colab-df-buttons\">\n",
              "\n",
              "  <div class=\"colab-df-container\">\n",
              "    <button class=\"colab-df-convert\" onclick=\"convertToInteractive('df-ff79a07b-a8d0-49e1-a7dd-88e2b410a0e7')\"\n",
              "            title=\"Convert this dataframe to an interactive table.\"\n",
              "            style=\"display:none;\">\n",
              "\n",
              "  <svg xmlns=\"http://www.w3.org/2000/svg\" height=\"24px\" viewBox=\"0 -960 960 960\">\n",
              "    <path d=\"M120-120v-720h720v720H120Zm60-500h600v-160H180v160Zm220 220h160v-160H400v160Zm0 220h160v-160H400v160ZM180-400h160v-160H180v160Zm440 0h160v-160H620v160ZM180-180h160v-160H180v160Zm440 0h160v-160H620v160Z\"/>\n",
              "  </svg>\n",
              "    </button>\n",
              "\n",
              "  <style>\n",
              "    .colab-df-container {\n",
              "      display:flex;\n",
              "      gap: 12px;\n",
              "    }\n",
              "\n",
              "    .colab-df-convert {\n",
              "      background-color: #E8F0FE;\n",
              "      border: none;\n",
              "      border-radius: 50%;\n",
              "      cursor: pointer;\n",
              "      display: none;\n",
              "      fill: #1967D2;\n",
              "      height: 32px;\n",
              "      padding: 0 0 0 0;\n",
              "      width: 32px;\n",
              "    }\n",
              "\n",
              "    .colab-df-convert:hover {\n",
              "      background-color: #E2EBFA;\n",
              "      box-shadow: 0px 1px 2px rgba(60, 64, 67, 0.3), 0px 1px 3px 1px rgba(60, 64, 67, 0.15);\n",
              "      fill: #174EA6;\n",
              "    }\n",
              "\n",
              "    .colab-df-buttons div {\n",
              "      margin-bottom: 4px;\n",
              "    }\n",
              "\n",
              "    [theme=dark] .colab-df-convert {\n",
              "      background-color: #3B4455;\n",
              "      fill: #D2E3FC;\n",
              "    }\n",
              "\n",
              "    [theme=dark] .colab-df-convert:hover {\n",
              "      background-color: #434B5C;\n",
              "      box-shadow: 0px 1px 3px 1px rgba(0, 0, 0, 0.15);\n",
              "      filter: drop-shadow(0px 1px 2px rgba(0, 0, 0, 0.3));\n",
              "      fill: #FFFFFF;\n",
              "    }\n",
              "  </style>\n",
              "\n",
              "    <script>\n",
              "      const buttonEl =\n",
              "        document.querySelector('#df-ff79a07b-a8d0-49e1-a7dd-88e2b410a0e7 button.colab-df-convert');\n",
              "      buttonEl.style.display =\n",
              "        google.colab.kernel.accessAllowed ? 'block' : 'none';\n",
              "\n",
              "      async function convertToInteractive(key) {\n",
              "        const element = document.querySelector('#df-ff79a07b-a8d0-49e1-a7dd-88e2b410a0e7');\n",
              "        const dataTable =\n",
              "          await google.colab.kernel.invokeFunction('convertToInteractive',\n",
              "                                                    [key], {});\n",
              "        if (!dataTable) return;\n",
              "\n",
              "        const docLinkHtml = 'Like what you see? Visit the ' +\n",
              "          '<a target=\"_blank\" href=https://colab.research.google.com/notebooks/data_table.ipynb>data table notebook</a>'\n",
              "          + ' to learn more about interactive tables.';\n",
              "        element.innerHTML = '';\n",
              "        dataTable['output_type'] = 'display_data';\n",
              "        await google.colab.output.renderOutput(dataTable, element);\n",
              "        const docLink = document.createElement('div');\n",
              "        docLink.innerHTML = docLinkHtml;\n",
              "        element.appendChild(docLink);\n",
              "      }\n",
              "    </script>\n",
              "  </div>\n",
              "\n",
              "\n",
              "<div id=\"df-db3d71fa-49cb-447a-b8c9-e6b374d5e7ab\">\n",
              "  <button class=\"colab-df-quickchart\" onclick=\"quickchart('df-db3d71fa-49cb-447a-b8c9-e6b374d5e7ab')\"\n",
              "            title=\"Suggest charts\"\n",
              "            style=\"display:none;\">\n",
              "\n",
              "<svg xmlns=\"http://www.w3.org/2000/svg\" height=\"24px\"viewBox=\"0 0 24 24\"\n",
              "     width=\"24px\">\n",
              "    <g>\n",
              "        <path d=\"M19 3H5c-1.1 0-2 .9-2 2v14c0 1.1.9 2 2 2h14c1.1 0 2-.9 2-2V5c0-1.1-.9-2-2-2zM9 17H7v-7h2v7zm4 0h-2V7h2v10zm4 0h-2v-4h2v4z\"/>\n",
              "    </g>\n",
              "</svg>\n",
              "  </button>\n",
              "\n",
              "<style>\n",
              "  .colab-df-quickchart {\n",
              "      --bg-color: #E8F0FE;\n",
              "      --fill-color: #1967D2;\n",
              "      --hover-bg-color: #E2EBFA;\n",
              "      --hover-fill-color: #174EA6;\n",
              "      --disabled-fill-color: #AAA;\n",
              "      --disabled-bg-color: #DDD;\n",
              "  }\n",
              "\n",
              "  [theme=dark] .colab-df-quickchart {\n",
              "      --bg-color: #3B4455;\n",
              "      --fill-color: #D2E3FC;\n",
              "      --hover-bg-color: #434B5C;\n",
              "      --hover-fill-color: #FFFFFF;\n",
              "      --disabled-bg-color: #3B4455;\n",
              "      --disabled-fill-color: #666;\n",
              "  }\n",
              "\n",
              "  .colab-df-quickchart {\n",
              "    background-color: var(--bg-color);\n",
              "    border: none;\n",
              "    border-radius: 50%;\n",
              "    cursor: pointer;\n",
              "    display: none;\n",
              "    fill: var(--fill-color);\n",
              "    height: 32px;\n",
              "    padding: 0;\n",
              "    width: 32px;\n",
              "  }\n",
              "\n",
              "  .colab-df-quickchart:hover {\n",
              "    background-color: var(--hover-bg-color);\n",
              "    box-shadow: 0 1px 2px rgba(60, 64, 67, 0.3), 0 1px 3px 1px rgba(60, 64, 67, 0.15);\n",
              "    fill: var(--button-hover-fill-color);\n",
              "  }\n",
              "\n",
              "  .colab-df-quickchart-complete:disabled,\n",
              "  .colab-df-quickchart-complete:disabled:hover {\n",
              "    background-color: var(--disabled-bg-color);\n",
              "    fill: var(--disabled-fill-color);\n",
              "    box-shadow: none;\n",
              "  }\n",
              "\n",
              "  .colab-df-spinner {\n",
              "    border: 2px solid var(--fill-color);\n",
              "    border-color: transparent;\n",
              "    border-bottom-color: var(--fill-color);\n",
              "    animation:\n",
              "      spin 1s steps(1) infinite;\n",
              "  }\n",
              "\n",
              "  @keyframes spin {\n",
              "    0% {\n",
              "      border-color: transparent;\n",
              "      border-bottom-color: var(--fill-color);\n",
              "      border-left-color: var(--fill-color);\n",
              "    }\n",
              "    20% {\n",
              "      border-color: transparent;\n",
              "      border-left-color: var(--fill-color);\n",
              "      border-top-color: var(--fill-color);\n",
              "    }\n",
              "    30% {\n",
              "      border-color: transparent;\n",
              "      border-left-color: var(--fill-color);\n",
              "      border-top-color: var(--fill-color);\n",
              "      border-right-color: var(--fill-color);\n",
              "    }\n",
              "    40% {\n",
              "      border-color: transparent;\n",
              "      border-right-color: var(--fill-color);\n",
              "      border-top-color: var(--fill-color);\n",
              "    }\n",
              "    60% {\n",
              "      border-color: transparent;\n",
              "      border-right-color: var(--fill-color);\n",
              "    }\n",
              "    80% {\n",
              "      border-color: transparent;\n",
              "      border-right-color: var(--fill-color);\n",
              "      border-bottom-color: var(--fill-color);\n",
              "    }\n",
              "    90% {\n",
              "      border-color: transparent;\n",
              "      border-bottom-color: var(--fill-color);\n",
              "    }\n",
              "  }\n",
              "</style>\n",
              "\n",
              "  <script>\n",
              "    async function quickchart(key) {\n",
              "      const quickchartButtonEl =\n",
              "        document.querySelector('#' + key + ' button');\n",
              "      quickchartButtonEl.disabled = true;  // To prevent multiple clicks.\n",
              "      quickchartButtonEl.classList.add('colab-df-spinner');\n",
              "      try {\n",
              "        const charts = await google.colab.kernel.invokeFunction(\n",
              "            'suggestCharts', [key], {});\n",
              "      } catch (error) {\n",
              "        console.error('Error during call to suggestCharts:', error);\n",
              "      }\n",
              "      quickchartButtonEl.classList.remove('colab-df-spinner');\n",
              "      quickchartButtonEl.classList.add('colab-df-quickchart-complete');\n",
              "    }\n",
              "    (() => {\n",
              "      let quickchartButtonEl =\n",
              "        document.querySelector('#df-db3d71fa-49cb-447a-b8c9-e6b374d5e7ab button');\n",
              "      quickchartButtonEl.style.display =\n",
              "        google.colab.kernel.accessAllowed ? 'block' : 'none';\n",
              "    })();\n",
              "  </script>\n",
              "</div>\n",
              "\n",
              "    </div>\n",
              "  </div>\n"
            ],
            "application/vnd.google.colaboratory.intrinsic+json": {
              "type": "dataframe",
              "variable_name": "risk_profiles",
              "summary": "{\n  \"name\": \"risk_profiles\",\n  \"rows\": 2,\n  \"fields\": [\n    {\n      \"column\": \"GENDER\",\n      \"properties\": {\n        \"dtype\": \"string\",\n        \"num_unique_values\": 2,\n        \"samples\": [\n          \"M\",\n          \"F\"\n        ],\n        \"semantic_type\": \"\",\n        \"description\": \"\"\n      }\n    },\n    {\n      \"column\": \"smoking_severity\",\n      \"properties\": {\n        \"dtype\": \"number\",\n        \"std\": 0.283270290271255,\n        \"min\": 2.259259259259259,\n        \"max\": 2.6598639455782314,\n        \"num_unique_values\": 2,\n        \"samples\": [\n          2.259259259259259,\n          2.6598639455782314\n        ],\n        \"semantic_type\": \"\",\n        \"description\": \"\"\n      }\n    },\n    {\n      \"column\": \"respiratory_score\",\n      \"properties\": {\n        \"dtype\": \"number\",\n        \"std\": 0.049468375638564904,\n        \"min\": 1.5555555555555556,\n        \"max\": 1.6255144032921809,\n        \"num_unique_values\": 2,\n        \"samples\": [\n          1.6255144032921809,\n          1.5555555555555556\n        ],\n        \"semantic_type\": \"\",\n        \"description\": \"\"\n      }\n    },\n    {\n      \"column\": \"health_index\",\n      \"properties\": {\n        \"dtype\": \"number\",\n        \"std\": 0.030613382523025687,\n        \"min\": 1.5576131687242798,\n        \"max\": 1.6009070294784582,\n        \"num_unique_values\": 2,\n        \"samples\": [\n          1.5576131687242798,\n          1.6009070294784582\n        ],\n        \"semantic_type\": \"\",\n        \"description\": \"\"\n      }\n    },\n    {\n      \"column\": \"anxiety_risk\",\n      \"properties\": {\n        \"dtype\": \"number\",\n        \"std\": 0.46133862682856264,\n        \"min\": 1.9938271604938271,\n        \"max\": 2.6462585034013606,\n        \"num_unique_values\": 2,\n        \"samples\": [\n          1.9938271604938271,\n          2.6462585034013606\n        ],\n        \"semantic_type\": \"\",\n        \"description\": \"\"\n      }\n    },\n    {\n      \"column\": \"cancer_numeric\",\n      \"properties\": {\n        \"dtype\": \"number\",\n        \"std\": 0.031622941209526904,\n        \"min\": 0.8503401360544217,\n        \"max\": 0.8950617283950617,\n        \"num_unique_values\": 2,\n        \"samples\": [\n          0.8950617283950617,\n          0.8503401360544217\n        ],\n        \"semantic_type\": \"\",\n        \"description\": \"\"\n      }\n    }\n  ]\n}"
            }
          },
          "metadata": {},
          "execution_count": 105
        }
      ]
    },
    {
      "cell_type": "markdown",
      "source": [
        "Smoking and Anxiety:\n",
        "Females show a higher smoking severity and anxiety risk, which could potentially be contributing factors for lung cancer.\n",
        "Respiratory Health:\n",
        "\n",
        "Males have worse respiratory scores, which might correlate with higher exposure to respiratory risks (e.g., smoking, environment).\n",
        "Cancer Risk:\n",
        "\n",
        "Males have a slightly elevated cancer_numeric score, aligning with observations in real-world data where males are often at higher lung cancer risk."
      ],
      "metadata": {
        "id": "m6UNTZJis0O8"
      }
    },
    {
      "cell_type": "markdown",
      "source": [
        "# Risk factors by age group\n",
        "\n",
        "This code performs three operations: First, it evaluates age related descriptive measures of mean and standard error using groupby() and agg(). Second, it combines them with previously generated risk profiles by using the pd.merge() function where the data is merged while matching on the variable GENDER. Third, it forms a pivot table to present a new form of data to display, how the values, SMOKING and ANXIETY, change with index, age groups, and columns, risk categories with mean as the function. The pivot table is particularly helpful in that it creates a cross-tabulation that enables to analyze how each risk factor changes corresponding to the age and risk categories at the same time."
      ],
      "metadata": {
        "id": "K9I2PhSUYSlB"
      }
    },
    {
      "cell_type": "code",
      "source": [
        "age_risk = data_1.groupby('GENDER')['AGE'].agg(['mean', 'std']).reset_index()\n",
        "risk_profiles = pd.merge(risk_profiles, age_risk, on='GENDER')\n",
        "\n",
        "# Risk factors by age group\n",
        "risk_pivot = pd.pivot_table(combined_data,\n",
        "                           values=['SMOKING', 'ANXIETY'],\n",
        "                           index='age_group',\n",
        "                           columns='risk_category',\n",
        "                           aggfunc='mean')\n",
        "\n",
        "risk_pivot.head()"
      ],
      "metadata": {
        "colab": {
          "base_uri": "https://localhost:8080/",
          "height": 293
        },
        "id": "LpWxGT5DPdEt",
        "outputId": "3e3bc406-c255-45b4-d6b5-50f48b120273"
      },
      "execution_count": 109,
      "outputs": [
        {
          "output_type": "stream",
          "name": "stderr",
          "text": [
            "<ipython-input-109-db16a6b7988b>:5: FutureWarning: The default value of observed=False is deprecated and will change to observed=True in a future version of pandas. Specify observed=False to silence this warning and retain the current behavior\n",
            "  risk_pivot = pd.pivot_table(combined_data,\n"
          ]
        },
        {
          "output_type": "execute_result",
          "data": {
            "text/plain": [
              "              ANXIETY                 SMOKING               \n",
              "risk_category     Low    Medium  High     Low    Medium High\n",
              "age_group                                                   \n",
              "<30               1.0       NaN   NaN     2.0       NaN  NaN\n",
              "30-45             NaN       NaN  1.25     NaN       NaN  1.5\n",
              "45-60             NaN  1.457627   NaN     NaN  1.593220  NaN\n",
              ">60               NaN  1.532258   NaN     NaN  1.543011  NaN"
            ],
            "text/html": [
              "\n",
              "  <div id=\"df-d2ea7159-da88-488e-85e3-19df667475b0\" class=\"colab-df-container\">\n",
              "    <div>\n",
              "<style scoped>\n",
              "    .dataframe tbody tr th:only-of-type {\n",
              "        vertical-align: middle;\n",
              "    }\n",
              "\n",
              "    .dataframe tbody tr th {\n",
              "        vertical-align: top;\n",
              "    }\n",
              "\n",
              "    .dataframe thead tr th {\n",
              "        text-align: left;\n",
              "    }\n",
              "\n",
              "    .dataframe thead tr:last-of-type th {\n",
              "        text-align: right;\n",
              "    }\n",
              "</style>\n",
              "<table border=\"1\" class=\"dataframe\">\n",
              "  <thead>\n",
              "    <tr>\n",
              "      <th></th>\n",
              "      <th colspan=\"3\" halign=\"left\">ANXIETY</th>\n",
              "      <th colspan=\"3\" halign=\"left\">SMOKING</th>\n",
              "    </tr>\n",
              "    <tr>\n",
              "      <th>risk_category</th>\n",
              "      <th>Low</th>\n",
              "      <th>Medium</th>\n",
              "      <th>High</th>\n",
              "      <th>Low</th>\n",
              "      <th>Medium</th>\n",
              "      <th>High</th>\n",
              "    </tr>\n",
              "    <tr>\n",
              "      <th>age_group</th>\n",
              "      <th></th>\n",
              "      <th></th>\n",
              "      <th></th>\n",
              "      <th></th>\n",
              "      <th></th>\n",
              "      <th></th>\n",
              "    </tr>\n",
              "  </thead>\n",
              "  <tbody>\n",
              "    <tr>\n",
              "      <th>&lt;30</th>\n",
              "      <td>1.0</td>\n",
              "      <td>NaN</td>\n",
              "      <td>NaN</td>\n",
              "      <td>2.0</td>\n",
              "      <td>NaN</td>\n",
              "      <td>NaN</td>\n",
              "    </tr>\n",
              "    <tr>\n",
              "      <th>30-45</th>\n",
              "      <td>NaN</td>\n",
              "      <td>NaN</td>\n",
              "      <td>1.25</td>\n",
              "      <td>NaN</td>\n",
              "      <td>NaN</td>\n",
              "      <td>1.5</td>\n",
              "    </tr>\n",
              "    <tr>\n",
              "      <th>45-60</th>\n",
              "      <td>NaN</td>\n",
              "      <td>1.457627</td>\n",
              "      <td>NaN</td>\n",
              "      <td>NaN</td>\n",
              "      <td>1.593220</td>\n",
              "      <td>NaN</td>\n",
              "    </tr>\n",
              "    <tr>\n",
              "      <th>&gt;60</th>\n",
              "      <td>NaN</td>\n",
              "      <td>1.532258</td>\n",
              "      <td>NaN</td>\n",
              "      <td>NaN</td>\n",
              "      <td>1.543011</td>\n",
              "      <td>NaN</td>\n",
              "    </tr>\n",
              "  </tbody>\n",
              "</table>\n",
              "</div>\n",
              "    <div class=\"colab-df-buttons\">\n",
              "\n",
              "  <div class=\"colab-df-container\">\n",
              "    <button class=\"colab-df-convert\" onclick=\"convertToInteractive('df-d2ea7159-da88-488e-85e3-19df667475b0')\"\n",
              "            title=\"Convert this dataframe to an interactive table.\"\n",
              "            style=\"display:none;\">\n",
              "\n",
              "  <svg xmlns=\"http://www.w3.org/2000/svg\" height=\"24px\" viewBox=\"0 -960 960 960\">\n",
              "    <path d=\"M120-120v-720h720v720H120Zm60-500h600v-160H180v160Zm220 220h160v-160H400v160Zm0 220h160v-160H400v160ZM180-400h160v-160H180v160Zm440 0h160v-160H620v160ZM180-180h160v-160H180v160Zm440 0h160v-160H620v160Z\"/>\n",
              "  </svg>\n",
              "    </button>\n",
              "\n",
              "  <style>\n",
              "    .colab-df-container {\n",
              "      display:flex;\n",
              "      gap: 12px;\n",
              "    }\n",
              "\n",
              "    .colab-df-convert {\n",
              "      background-color: #E8F0FE;\n",
              "      border: none;\n",
              "      border-radius: 50%;\n",
              "      cursor: pointer;\n",
              "      display: none;\n",
              "      fill: #1967D2;\n",
              "      height: 32px;\n",
              "      padding: 0 0 0 0;\n",
              "      width: 32px;\n",
              "    }\n",
              "\n",
              "    .colab-df-convert:hover {\n",
              "      background-color: #E2EBFA;\n",
              "      box-shadow: 0px 1px 2px rgba(60, 64, 67, 0.3), 0px 1px 3px 1px rgba(60, 64, 67, 0.15);\n",
              "      fill: #174EA6;\n",
              "    }\n",
              "\n",
              "    .colab-df-buttons div {\n",
              "      margin-bottom: 4px;\n",
              "    }\n",
              "\n",
              "    [theme=dark] .colab-df-convert {\n",
              "      background-color: #3B4455;\n",
              "      fill: #D2E3FC;\n",
              "    }\n",
              "\n",
              "    [theme=dark] .colab-df-convert:hover {\n",
              "      background-color: #434B5C;\n",
              "      box-shadow: 0px 1px 3px 1px rgba(0, 0, 0, 0.15);\n",
              "      filter: drop-shadow(0px 1px 2px rgba(0, 0, 0, 0.3));\n",
              "      fill: #FFFFFF;\n",
              "    }\n",
              "  </style>\n",
              "\n",
              "    <script>\n",
              "      const buttonEl =\n",
              "        document.querySelector('#df-d2ea7159-da88-488e-85e3-19df667475b0 button.colab-df-convert');\n",
              "      buttonEl.style.display =\n",
              "        google.colab.kernel.accessAllowed ? 'block' : 'none';\n",
              "\n",
              "      async function convertToInteractive(key) {\n",
              "        const element = document.querySelector('#df-d2ea7159-da88-488e-85e3-19df667475b0');\n",
              "        const dataTable =\n",
              "          await google.colab.kernel.invokeFunction('convertToInteractive',\n",
              "                                                    [key], {});\n",
              "        if (!dataTable) return;\n",
              "\n",
              "        const docLinkHtml = 'Like what you see? Visit the ' +\n",
              "          '<a target=\"_blank\" href=https://colab.research.google.com/notebooks/data_table.ipynb>data table notebook</a>'\n",
              "          + ' to learn more about interactive tables.';\n",
              "        element.innerHTML = '';\n",
              "        dataTable['output_type'] = 'display_data';\n",
              "        await google.colab.output.renderOutput(dataTable, element);\n",
              "        const docLink = document.createElement('div');\n",
              "        docLink.innerHTML = docLinkHtml;\n",
              "        element.appendChild(docLink);\n",
              "      }\n",
              "    </script>\n",
              "  </div>\n",
              "\n",
              "\n",
              "<div id=\"df-c6280a9f-24ac-40a2-95ed-a62a591f66f2\">\n",
              "  <button class=\"colab-df-quickchart\" onclick=\"quickchart('df-c6280a9f-24ac-40a2-95ed-a62a591f66f2')\"\n",
              "            title=\"Suggest charts\"\n",
              "            style=\"display:none;\">\n",
              "\n",
              "<svg xmlns=\"http://www.w3.org/2000/svg\" height=\"24px\"viewBox=\"0 0 24 24\"\n",
              "     width=\"24px\">\n",
              "    <g>\n",
              "        <path d=\"M19 3H5c-1.1 0-2 .9-2 2v14c0 1.1.9 2 2 2h14c1.1 0 2-.9 2-2V5c0-1.1-.9-2-2-2zM9 17H7v-7h2v7zm4 0h-2V7h2v10zm4 0h-2v-4h2v4z\"/>\n",
              "    </g>\n",
              "</svg>\n",
              "  </button>\n",
              "\n",
              "<style>\n",
              "  .colab-df-quickchart {\n",
              "      --bg-color: #E8F0FE;\n",
              "      --fill-color: #1967D2;\n",
              "      --hover-bg-color: #E2EBFA;\n",
              "      --hover-fill-color: #174EA6;\n",
              "      --disabled-fill-color: #AAA;\n",
              "      --disabled-bg-color: #DDD;\n",
              "  }\n",
              "\n",
              "  [theme=dark] .colab-df-quickchart {\n",
              "      --bg-color: #3B4455;\n",
              "      --fill-color: #D2E3FC;\n",
              "      --hover-bg-color: #434B5C;\n",
              "      --hover-fill-color: #FFFFFF;\n",
              "      --disabled-bg-color: #3B4455;\n",
              "      --disabled-fill-color: #666;\n",
              "  }\n",
              "\n",
              "  .colab-df-quickchart {\n",
              "    background-color: var(--bg-color);\n",
              "    border: none;\n",
              "    border-radius: 50%;\n",
              "    cursor: pointer;\n",
              "    display: none;\n",
              "    fill: var(--fill-color);\n",
              "    height: 32px;\n",
              "    padding: 0;\n",
              "    width: 32px;\n",
              "  }\n",
              "\n",
              "  .colab-df-quickchart:hover {\n",
              "    background-color: var(--hover-bg-color);\n",
              "    box-shadow: 0 1px 2px rgba(60, 64, 67, 0.3), 0 1px 3px 1px rgba(60, 64, 67, 0.15);\n",
              "    fill: var(--button-hover-fill-color);\n",
              "  }\n",
              "\n",
              "  .colab-df-quickchart-complete:disabled,\n",
              "  .colab-df-quickchart-complete:disabled:hover {\n",
              "    background-color: var(--disabled-bg-color);\n",
              "    fill: var(--disabled-fill-color);\n",
              "    box-shadow: none;\n",
              "  }\n",
              "\n",
              "  .colab-df-spinner {\n",
              "    border: 2px solid var(--fill-color);\n",
              "    border-color: transparent;\n",
              "    border-bottom-color: var(--fill-color);\n",
              "    animation:\n",
              "      spin 1s steps(1) infinite;\n",
              "  }\n",
              "\n",
              "  @keyframes spin {\n",
              "    0% {\n",
              "      border-color: transparent;\n",
              "      border-bottom-color: var(--fill-color);\n",
              "      border-left-color: var(--fill-color);\n",
              "    }\n",
              "    20% {\n",
              "      border-color: transparent;\n",
              "      border-left-color: var(--fill-color);\n",
              "      border-top-color: var(--fill-color);\n",
              "    }\n",
              "    30% {\n",
              "      border-color: transparent;\n",
              "      border-left-color: var(--fill-color);\n",
              "      border-top-color: var(--fill-color);\n",
              "      border-right-color: var(--fill-color);\n",
              "    }\n",
              "    40% {\n",
              "      border-color: transparent;\n",
              "      border-right-color: var(--fill-color);\n",
              "      border-top-color: var(--fill-color);\n",
              "    }\n",
              "    60% {\n",
              "      border-color: transparent;\n",
              "      border-right-color: var(--fill-color);\n",
              "    }\n",
              "    80% {\n",
              "      border-color: transparent;\n",
              "      border-right-color: var(--fill-color);\n",
              "      border-bottom-color: var(--fill-color);\n",
              "    }\n",
              "    90% {\n",
              "      border-color: transparent;\n",
              "      border-bottom-color: var(--fill-color);\n",
              "    }\n",
              "  }\n",
              "</style>\n",
              "\n",
              "  <script>\n",
              "    async function quickchart(key) {\n",
              "      const quickchartButtonEl =\n",
              "        document.querySelector('#' + key + ' button');\n",
              "      quickchartButtonEl.disabled = true;  // To prevent multiple clicks.\n",
              "      quickchartButtonEl.classList.add('colab-df-spinner');\n",
              "      try {\n",
              "        const charts = await google.colab.kernel.invokeFunction(\n",
              "            'suggestCharts', [key], {});\n",
              "      } catch (error) {\n",
              "        console.error('Error during call to suggestCharts:', error);\n",
              "      }\n",
              "      quickchartButtonEl.classList.remove('colab-df-spinner');\n",
              "      quickchartButtonEl.classList.add('colab-df-quickchart-complete');\n",
              "    }\n",
              "    (() => {\n",
              "      let quickchartButtonEl =\n",
              "        document.querySelector('#df-c6280a9f-24ac-40a2-95ed-a62a591f66f2 button');\n",
              "      quickchartButtonEl.style.display =\n",
              "        google.colab.kernel.accessAllowed ? 'block' : 'none';\n",
              "    })();\n",
              "  </script>\n",
              "</div>\n",
              "\n",
              "    </div>\n",
              "  </div>\n"
            ],
            "application/vnd.google.colaboratory.intrinsic+json": {
              "type": "dataframe",
              "variable_name": "risk_pivot",
              "summary": "{\n  \"name\": \"risk_pivot\",\n  \"rows\": 4,\n  \"fields\": [\n    {\n      \"column\": [\n        \"age_group\",\n        \"\"\n      ],\n      \"properties\": {\n        \"dtype\": \"category\",\n        \"num_unique_values\": 4,\n        \"samples\": [\n          \"30-45\",\n          \">60\",\n          \"<30\"\n        ],\n        \"semantic_type\": \"\",\n        \"description\": \"\"\n      }\n    },\n    {\n      \"column\": [\n        \"ANXIETY\",\n        \"Low\"\n      ],\n      \"properties\": {\n        \"dtype\": \"number\",\n        \"std\": null,\n        \"min\": 1.0,\n        \"max\": 1.0,\n        \"num_unique_values\": 1,\n        \"samples\": [\n          1.0\n        ],\n        \"semantic_type\": \"\",\n        \"description\": \"\"\n      }\n    },\n    {\n      \"column\": [\n        \"ANXIETY\",\n        \"Medium\"\n      ],\n      \"properties\": {\n        \"dtype\": \"number\",\n        \"std\": 0.05277204791250074,\n        \"min\": 1.4576271186440677,\n        \"max\": 1.532258064516129,\n        \"num_unique_values\": 2,\n        \"samples\": [\n          1.532258064516129\n        ],\n        \"semantic_type\": \"\",\n        \"description\": \"\"\n      }\n    },\n    {\n      \"column\": [\n        \"ANXIETY\",\n        \"High\"\n      ],\n      \"properties\": {\n        \"dtype\": \"number\",\n        \"std\": null,\n        \"min\": 1.25,\n        \"max\": 1.25,\n        \"num_unique_values\": 1,\n        \"samples\": [\n          1.25\n        ],\n        \"semantic_type\": \"\",\n        \"description\": \"\"\n      }\n    },\n    {\n      \"column\": [\n        \"SMOKING\",\n        \"Low\"\n      ],\n      \"properties\": {\n        \"dtype\": \"number\",\n        \"std\": null,\n        \"min\": 2.0,\n        \"max\": 2.0,\n        \"num_unique_values\": 1,\n        \"samples\": [\n          2.0\n        ],\n        \"semantic_type\": \"\",\n        \"description\": \"\"\n      }\n    },\n    {\n      \"column\": [\n        \"SMOKING\",\n        \"Medium\"\n      ],\n      \"properties\": {\n        \"dtype\": \"number\",\n        \"std\": 0.03550353894967995,\n        \"min\": 1.543010752688172,\n        \"max\": 1.5932203389830508,\n        \"num_unique_values\": 2,\n        \"samples\": [\n          1.543010752688172\n        ],\n        \"semantic_type\": \"\",\n        \"description\": \"\"\n      }\n    },\n    {\n      \"column\": [\n        \"SMOKING\",\n        \"High\"\n      ],\n      \"properties\": {\n        \"dtype\": \"number\",\n        \"std\": null,\n        \"min\": 1.5,\n        \"max\": 1.5,\n        \"num_unique_values\": 1,\n        \"samples\": [\n          1.5\n        ],\n        \"semantic_type\": \"\",\n        \"description\": \"\"\n      }\n    }\n  ]\n}"
            }
          },
          "metadata": {},
          "execution_count": 109
        }
      ]
    },
    {
      "cell_type": "markdown",
      "source": [
        "Interpretaion- Smoking and Anxiety Increase with age, especially in the Medium risk category for older age groups.\n",
        "The High risk category data is only visible for the 30-45 group.\n",
        "The <30 group has a notable smoking rate but low anxiety under the Low risk category."
      ],
      "metadata": {
        "id": "lVYOJjTldph1"
      }
    },
    {
      "cell_type": "markdown",
      "source": [
        "# Mortality analysis\n",
        "\n",
        "This code forms a pivot table to handle mortality data by summarizing the ‘Deaths Number’ and the ‘new_cases_number’ (values) under various ‘Risk Typ’ (index) values, with the mean and sum of the key for each risk type Carrie. The former gives rise to a table that contains two levels of data that are hierarchical with the first level identified as the ‘value’ – here, the means and sums of – and the second identified as the variables including ‘Deaths Number’ and ‘new_cases_number’ . This organization makes it possible to assess the mean as well as the total effects of deaths and new cases related to the rates in different risk categories, which gives an understanding of the specific fluctuations of the mortality and new case rates depending on the risk level."
      ],
      "metadata": {
        "id": "sSUgZhO3YdZQ"
      }
    },
    {
      "cell_type": "code",
      "source": [
        "#Mortality analysis\n",
        "mortality_pivot = pd.pivot_table(combined_data,\n",
        "                               values=['Deaths Number', 'new_cases_number'],\n",
        "                               index='risk_category',\n",
        "                               aggfunc=['mean', 'sum'])\n",
        "mortality_pivot.head()"
      ],
      "metadata": {
        "colab": {
          "base_uri": "https://localhost:8080/",
          "height": 298
        },
        "id": "MUL7E87yPiuE",
        "outputId": "2083120a-26d9-467c-f651-89314a03fa9d"
      },
      "execution_count": 110,
      "outputs": [
        {
          "output_type": "stream",
          "name": "stderr",
          "text": [
            "<ipython-input-110-c12ca23f1d18>:2: FutureWarning: The default value of observed=False is deprecated and will change to observed=True in a future version of pandas. Specify observed=False to silence this warning and retain the current behavior\n",
            "  mortality_pivot = pd.pivot_table(combined_data,\n",
            "<ipython-input-110-c12ca23f1d18>:2: FutureWarning: The default value of observed=False is deprecated and will change to observed=True in a future version of pandas. Specify observed=False to silence this warning and retain the current behavior\n",
            "  mortality_pivot = pd.pivot_table(combined_data,\n"
          ]
        },
        {
          "output_type": "execute_result",
          "data": {
            "text/plain": [
              "                       mean                            sum                 \n",
              "              Deaths Number new_cases_number Deaths Number new_cases_number\n",
              "risk_category                                                              \n",
              "Low                  2776.0           5452.0          2776             5452\n",
              "Medium              58532.0         104910.5        117064           209821\n",
              "High                11154.0          21096.0         11154            21096"
            ],
            "text/html": [
              "\n",
              "  <div id=\"df-677a7ad7-e122-40af-be8e-299f713c5437\" class=\"colab-df-container\">\n",
              "    <div>\n",
              "<style scoped>\n",
              "    .dataframe tbody tr th:only-of-type {\n",
              "        vertical-align: middle;\n",
              "    }\n",
              "\n",
              "    .dataframe tbody tr th {\n",
              "        vertical-align: top;\n",
              "    }\n",
              "\n",
              "    .dataframe thead tr th {\n",
              "        text-align: left;\n",
              "    }\n",
              "\n",
              "    .dataframe thead tr:last-of-type th {\n",
              "        text-align: right;\n",
              "    }\n",
              "</style>\n",
              "<table border=\"1\" class=\"dataframe\">\n",
              "  <thead>\n",
              "    <tr>\n",
              "      <th></th>\n",
              "      <th colspan=\"2\" halign=\"left\">mean</th>\n",
              "      <th colspan=\"2\" halign=\"left\">sum</th>\n",
              "    </tr>\n",
              "    <tr>\n",
              "      <th></th>\n",
              "      <th>Deaths Number</th>\n",
              "      <th>new_cases_number</th>\n",
              "      <th>Deaths Number</th>\n",
              "      <th>new_cases_number</th>\n",
              "    </tr>\n",
              "    <tr>\n",
              "      <th>risk_category</th>\n",
              "      <th></th>\n",
              "      <th></th>\n",
              "      <th></th>\n",
              "      <th></th>\n",
              "    </tr>\n",
              "  </thead>\n",
              "  <tbody>\n",
              "    <tr>\n",
              "      <th>Low</th>\n",
              "      <td>2776.0</td>\n",
              "      <td>5452.0</td>\n",
              "      <td>2776</td>\n",
              "      <td>5452</td>\n",
              "    </tr>\n",
              "    <tr>\n",
              "      <th>Medium</th>\n",
              "      <td>58532.0</td>\n",
              "      <td>104910.5</td>\n",
              "      <td>117064</td>\n",
              "      <td>209821</td>\n",
              "    </tr>\n",
              "    <tr>\n",
              "      <th>High</th>\n",
              "      <td>11154.0</td>\n",
              "      <td>21096.0</td>\n",
              "      <td>11154</td>\n",
              "      <td>21096</td>\n",
              "    </tr>\n",
              "  </tbody>\n",
              "</table>\n",
              "</div>\n",
              "    <div class=\"colab-df-buttons\">\n",
              "\n",
              "  <div class=\"colab-df-container\">\n",
              "    <button class=\"colab-df-convert\" onclick=\"convertToInteractive('df-677a7ad7-e122-40af-be8e-299f713c5437')\"\n",
              "            title=\"Convert this dataframe to an interactive table.\"\n",
              "            style=\"display:none;\">\n",
              "\n",
              "  <svg xmlns=\"http://www.w3.org/2000/svg\" height=\"24px\" viewBox=\"0 -960 960 960\">\n",
              "    <path d=\"M120-120v-720h720v720H120Zm60-500h600v-160H180v160Zm220 220h160v-160H400v160Zm0 220h160v-160H400v160ZM180-400h160v-160H180v160Zm440 0h160v-160H620v160ZM180-180h160v-160H180v160Zm440 0h160v-160H620v160Z\"/>\n",
              "  </svg>\n",
              "    </button>\n",
              "\n",
              "  <style>\n",
              "    .colab-df-container {\n",
              "      display:flex;\n",
              "      gap: 12px;\n",
              "    }\n",
              "\n",
              "    .colab-df-convert {\n",
              "      background-color: #E8F0FE;\n",
              "      border: none;\n",
              "      border-radius: 50%;\n",
              "      cursor: pointer;\n",
              "      display: none;\n",
              "      fill: #1967D2;\n",
              "      height: 32px;\n",
              "      padding: 0 0 0 0;\n",
              "      width: 32px;\n",
              "    }\n",
              "\n",
              "    .colab-df-convert:hover {\n",
              "      background-color: #E2EBFA;\n",
              "      box-shadow: 0px 1px 2px rgba(60, 64, 67, 0.3), 0px 1px 3px 1px rgba(60, 64, 67, 0.15);\n",
              "      fill: #174EA6;\n",
              "    }\n",
              "\n",
              "    .colab-df-buttons div {\n",
              "      margin-bottom: 4px;\n",
              "    }\n",
              "\n",
              "    [theme=dark] .colab-df-convert {\n",
              "      background-color: #3B4455;\n",
              "      fill: #D2E3FC;\n",
              "    }\n",
              "\n",
              "    [theme=dark] .colab-df-convert:hover {\n",
              "      background-color: #434B5C;\n",
              "      box-shadow: 0px 1px 3px 1px rgba(0, 0, 0, 0.15);\n",
              "      filter: drop-shadow(0px 1px 2px rgba(0, 0, 0, 0.3));\n",
              "      fill: #FFFFFF;\n",
              "    }\n",
              "  </style>\n",
              "\n",
              "    <script>\n",
              "      const buttonEl =\n",
              "        document.querySelector('#df-677a7ad7-e122-40af-be8e-299f713c5437 button.colab-df-convert');\n",
              "      buttonEl.style.display =\n",
              "        google.colab.kernel.accessAllowed ? 'block' : 'none';\n",
              "\n",
              "      async function convertToInteractive(key) {\n",
              "        const element = document.querySelector('#df-677a7ad7-e122-40af-be8e-299f713c5437');\n",
              "        const dataTable =\n",
              "          await google.colab.kernel.invokeFunction('convertToInteractive',\n",
              "                                                    [key], {});\n",
              "        if (!dataTable) return;\n",
              "\n",
              "        const docLinkHtml = 'Like what you see? Visit the ' +\n",
              "          '<a target=\"_blank\" href=https://colab.research.google.com/notebooks/data_table.ipynb>data table notebook</a>'\n",
              "          + ' to learn more about interactive tables.';\n",
              "        element.innerHTML = '';\n",
              "        dataTable['output_type'] = 'display_data';\n",
              "        await google.colab.output.renderOutput(dataTable, element);\n",
              "        const docLink = document.createElement('div');\n",
              "        docLink.innerHTML = docLinkHtml;\n",
              "        element.appendChild(docLink);\n",
              "      }\n",
              "    </script>\n",
              "  </div>\n",
              "\n",
              "\n",
              "<div id=\"df-2c3d9833-dfe7-4a00-b4e2-a9f6a86b68bd\">\n",
              "  <button class=\"colab-df-quickchart\" onclick=\"quickchart('df-2c3d9833-dfe7-4a00-b4e2-a9f6a86b68bd')\"\n",
              "            title=\"Suggest charts\"\n",
              "            style=\"display:none;\">\n",
              "\n",
              "<svg xmlns=\"http://www.w3.org/2000/svg\" height=\"24px\"viewBox=\"0 0 24 24\"\n",
              "     width=\"24px\">\n",
              "    <g>\n",
              "        <path d=\"M19 3H5c-1.1 0-2 .9-2 2v14c0 1.1.9 2 2 2h14c1.1 0 2-.9 2-2V5c0-1.1-.9-2-2-2zM9 17H7v-7h2v7zm4 0h-2V7h2v10zm4 0h-2v-4h2v4z\"/>\n",
              "    </g>\n",
              "</svg>\n",
              "  </button>\n",
              "\n",
              "<style>\n",
              "  .colab-df-quickchart {\n",
              "      --bg-color: #E8F0FE;\n",
              "      --fill-color: #1967D2;\n",
              "      --hover-bg-color: #E2EBFA;\n",
              "      --hover-fill-color: #174EA6;\n",
              "      --disabled-fill-color: #AAA;\n",
              "      --disabled-bg-color: #DDD;\n",
              "  }\n",
              "\n",
              "  [theme=dark] .colab-df-quickchart {\n",
              "      --bg-color: #3B4455;\n",
              "      --fill-color: #D2E3FC;\n",
              "      --hover-bg-color: #434B5C;\n",
              "      --hover-fill-color: #FFFFFF;\n",
              "      --disabled-bg-color: #3B4455;\n",
              "      --disabled-fill-color: #666;\n",
              "  }\n",
              "\n",
              "  .colab-df-quickchart {\n",
              "    background-color: var(--bg-color);\n",
              "    border: none;\n",
              "    border-radius: 50%;\n",
              "    cursor: pointer;\n",
              "    display: none;\n",
              "    fill: var(--fill-color);\n",
              "    height: 32px;\n",
              "    padding: 0;\n",
              "    width: 32px;\n",
              "  }\n",
              "\n",
              "  .colab-df-quickchart:hover {\n",
              "    background-color: var(--hover-bg-color);\n",
              "    box-shadow: 0 1px 2px rgba(60, 64, 67, 0.3), 0 1px 3px 1px rgba(60, 64, 67, 0.15);\n",
              "    fill: var(--button-hover-fill-color);\n",
              "  }\n",
              "\n",
              "  .colab-df-quickchart-complete:disabled,\n",
              "  .colab-df-quickchart-complete:disabled:hover {\n",
              "    background-color: var(--disabled-bg-color);\n",
              "    fill: var(--disabled-fill-color);\n",
              "    box-shadow: none;\n",
              "  }\n",
              "\n",
              "  .colab-df-spinner {\n",
              "    border: 2px solid var(--fill-color);\n",
              "    border-color: transparent;\n",
              "    border-bottom-color: var(--fill-color);\n",
              "    animation:\n",
              "      spin 1s steps(1) infinite;\n",
              "  }\n",
              "\n",
              "  @keyframes spin {\n",
              "    0% {\n",
              "      border-color: transparent;\n",
              "      border-bottom-color: var(--fill-color);\n",
              "      border-left-color: var(--fill-color);\n",
              "    }\n",
              "    20% {\n",
              "      border-color: transparent;\n",
              "      border-left-color: var(--fill-color);\n",
              "      border-top-color: var(--fill-color);\n",
              "    }\n",
              "    30% {\n",
              "      border-color: transparent;\n",
              "      border-left-color: var(--fill-color);\n",
              "      border-top-color: var(--fill-color);\n",
              "      border-right-color: var(--fill-color);\n",
              "    }\n",
              "    40% {\n",
              "      border-color: transparent;\n",
              "      border-right-color: var(--fill-color);\n",
              "      border-top-color: var(--fill-color);\n",
              "    }\n",
              "    60% {\n",
              "      border-color: transparent;\n",
              "      border-right-color: var(--fill-color);\n",
              "    }\n",
              "    80% {\n",
              "      border-color: transparent;\n",
              "      border-right-color: var(--fill-color);\n",
              "      border-bottom-color: var(--fill-color);\n",
              "    }\n",
              "    90% {\n",
              "      border-color: transparent;\n",
              "      border-bottom-color: var(--fill-color);\n",
              "    }\n",
              "  }\n",
              "</style>\n",
              "\n",
              "  <script>\n",
              "    async function quickchart(key) {\n",
              "      const quickchartButtonEl =\n",
              "        document.querySelector('#' + key + ' button');\n",
              "      quickchartButtonEl.disabled = true;  // To prevent multiple clicks.\n",
              "      quickchartButtonEl.classList.add('colab-df-spinner');\n",
              "      try {\n",
              "        const charts = await google.colab.kernel.invokeFunction(\n",
              "            'suggestCharts', [key], {});\n",
              "      } catch (error) {\n",
              "        console.error('Error during call to suggestCharts:', error);\n",
              "      }\n",
              "      quickchartButtonEl.classList.remove('colab-df-spinner');\n",
              "      quickchartButtonEl.classList.add('colab-df-quickchart-complete');\n",
              "    }\n",
              "    (() => {\n",
              "      let quickchartButtonEl =\n",
              "        document.querySelector('#df-2c3d9833-dfe7-4a00-b4e2-a9f6a86b68bd button');\n",
              "      quickchartButtonEl.style.display =\n",
              "        google.colab.kernel.accessAllowed ? 'block' : 'none';\n",
              "    })();\n",
              "  </script>\n",
              "</div>\n",
              "\n",
              "    </div>\n",
              "  </div>\n"
            ],
            "application/vnd.google.colaboratory.intrinsic+json": {
              "type": "dataframe",
              "variable_name": "mortality_pivot",
              "summary": "{\n  \"name\": \"mortality_pivot\",\n  \"rows\": 3,\n  \"fields\": [\n    {\n      \"column\": [\n        \"risk_category\",\n        \"\"\n      ],\n      \"properties\": {\n        \"dtype\": \"category\",\n        \"num_unique_values\": 3,\n        \"samples\": [\n          \"Low\",\n          \"Medium\",\n          \"High\"\n        ],\n        \"semantic_type\": \"\",\n        \"description\": \"\"\n      }\n    },\n    {\n      \"column\": [\n        \"mean\",\n        \"Deaths Number\"\n      ],\n      \"properties\": {\n        \"dtype\": \"number\",\n        \"std\": 30065.4766135513,\n        \"min\": 2776.0,\n        \"max\": 58532.0,\n        \"num_unique_values\": 3,\n        \"samples\": [\n          2776.0,\n          58532.0,\n          11154.0\n        ],\n        \"semantic_type\": \"\",\n        \"description\": \"\"\n      }\n    },\n    {\n      \"column\": [\n        \"mean\",\n        \"new_cases_number\"\n      ],\n      \"properties\": {\n        \"dtype\": \"number\",\n        \"std\": 53481.45842018521,\n        \"min\": 5452.0,\n        \"max\": 104910.5,\n        \"num_unique_values\": 3,\n        \"samples\": [\n          5452.0,\n          104910.5,\n          21096.0\n        ],\n        \"semantic_type\": \"\",\n        \"description\": \"\"\n      }\n    },\n    {\n      \"column\": [\n        \"sum\",\n        \"Deaths Number\"\n      ],\n      \"properties\": {\n        \"dtype\": \"number\",\n        \"std\": 63703,\n        \"min\": 2776,\n        \"max\": 117064,\n        \"num_unique_values\": 3,\n        \"samples\": [\n          2776,\n          117064,\n          11154\n        ],\n        \"semantic_type\": \"\",\n        \"description\": \"\"\n      }\n    },\n    {\n      \"column\": [\n        \"sum\",\n        \"new_cases_number\"\n      ],\n      \"properties\": {\n        \"dtype\": \"number\",\n        \"std\": 113745,\n        \"min\": 5452,\n        \"max\": 209821,\n        \"num_unique_values\": 3,\n        \"samples\": [\n          5452,\n          209821,\n          21096\n        ],\n        \"semantic_type\": \"\",\n        \"description\": \"\"\n      }\n    }\n  ]\n}"
            }
          },
          "metadata": {},
          "execution_count": 110
        }
      ]
    },
    {
      "cell_type": "markdown",
      "source": [
        "Medium-risk individuals(inclues Age Groups >60 and age Groups 45-60) contribute the highest number of new cases and deaths, both on average and in total. This indicates that moderate levels of risk factors like smoking and anxiety with higher age groups are strongly associated with lung cancer incidence and mortality."
      ],
      "metadata": {
        "id": "9UfDWfiINjEw"
      }
    },
    {
      "cell_type": "markdown",
      "source": [
        "# Visualizations\n",
        "\n",
        "# Age Distribution by Cancer Status\n",
        "\n",
        "In particular, compares the histograms of density plots for cancer and non-cancer patients based on their age. The highest forced probability for both the groups emerges for people of 60 years; however, the red curve solid line of cancer patients gives more floor area off to the right of the graph implying that cancer is prevalent in elderly patient populations. The distribution also has a small secondary maximum point at age 20-30 for both groups, yet the rate in early ages is significantly less than the first group."
      ],
      "metadata": {
        "id": "AZd6hi-fYi2t"
      }
    },
    {
      "cell_type": "code",
      "source": [
        "plt.figure(figsize=(10, 6))\n",
        "sns.kdeplot(data=data_1[data_1['LUNG_CANCER'] == 'YES']['AGE'],\n",
        "            label='Cancer')\n",
        "sns.kdeplot(data=data_1[data_1['LUNG_CANCER'] == 'NO']['AGE'],\n",
        "            label='No Cancer')\n",
        "plt.title('Age Distribution by Cancer Status')\n",
        "plt.xlabel('Age')\n",
        "plt.ylabel('Density')\n",
        "plt.legend()\n",
        "plt.show()"
      ],
      "metadata": {
        "colab": {
          "base_uri": "https://localhost:8080/",
          "height": 564
        },
        "id": "q8o5D2o8Pnkv",
        "outputId": "e6b244f8-9fa2-4799-b3ea-fbed6371a256"
      },
      "execution_count": 111,
      "outputs": [
        {
          "output_type": "display_data",
          "data": {
            "text/plain": [
              "<Figure size 1000x600 with 1 Axes>"
            ],
            "image/png": "[encoded data removed]"
          },
          "metadata": {}
        }
      ]
    },
    {
      "cell_type": "markdown",
      "source": [
        "# **Lung Cancer Associated with Peer Pressure**"
      ],
      "metadata": {
        "id": "HMC3fi5VO87F"
      }
    },
    {
      "cell_type": "code",
      "source": [
        "counts = data_1.groupby(['PEER_PRESSURE', 'LUNG_CANCER']).size().unstack()\n",
        "\n",
        "# Plot the bar plot\n",
        "counts.plot(kind='bar', figsize=(8, 5))\n",
        "plt.title('Bar Plot of PEER_PRESSURE and LUNG_CANCER')\n",
        "plt.ylabel('Count')\n",
        "plt.xlabel('PEER_PRESSURE')\n",
        "plt.legend(title='LUNG_CANCER')\n",
        "plt.show()"
      ],
      "metadata": {
        "colab": {
          "base_uri": "https://localhost:8080/",
          "height": 482
        },
        "id": "9ObmWlyRx5v5",
        "outputId": "da2d164e-b21c-41af-ff3a-83ac5c777b83"
      },
      "execution_count": 112,
      "outputs": [
        {
          "output_type": "display_data",
          "data": {
            "text/plain": [
              "<Figure size 800x500 with 1 Axes>"
            ],
            "image/png": "[encoded data removed]"
          },
          "metadata": {}
        }
      ]
    },
    {
      "cell_type": "markdown",
      "source": [
        "Interpretation- Higher peer pressure (level 2) is associated with a larger number of lung cancer cases.\n",
        "This suggests that peer pressure may influence risky behaviors (e.g., smoking) that are strongly associated with lung cancer."
      ],
      "metadata": {
        "id": "x8sAyBgMxkIk"
      }
    },
    {
      "cell_type": "markdown",
      "source": [
        "# **Lung Cancer Among Genders**"
      ],
      "metadata": {
        "id": "vuAUyKsjPQZI"
      }
    },
    {
      "cell_type": "code",
      "source": [
        "counts = data_1.groupby(['GENDER', 'LUNG_CANCER']).size().unstack()\n",
        "\n",
        "# Plot the bar plot\n",
        "counts.plot(kind='bar', figsize=(8, 5))\n",
        "plt.title('Bar Plot of GENDER and LUNG_CANCER')\n",
        "plt.ylabel('Count')\n",
        "plt.xlabel('GENDER')\n",
        "plt.legend(title='LUNG_CANCER')\n",
        "plt.show()"
      ],
      "metadata": {
        "colab": {
          "base_uri": "https://localhost:8080/",
          "height": 485
        },
        "id": "zJCPlLxbyNj4",
        "outputId": "61fef1a1-f481-426c-b5a3-d7a87069981e"
      },
      "execution_count": 113,
      "outputs": [
        {
          "output_type": "display_data",
          "data": {
            "text/plain": [
              "<Figure size 800x500 with 1 Axes>"
            ],
            "image/png": "[encoded data removed]"
          },
          "metadata": {}
        }
      ]
    },
    {
      "cell_type": "markdown",
      "source": [
        "The majority of both males and females in the dataset have lung cancer.\n",
        "Males appear to have a higher count of lung cancer cases than females, which aligns with real-world trends where males are often at higher risk due to lifestyle factors such as smoking. This graph highlights the higher prevalence of lung cancer in both genders, with a slightly greater count among males, emphasizing the need for further investigation into risk factors."
      ],
      "metadata": {
        "id": "EidKIPUzx9Cp"
      }
    },
    {
      "cell_type": "markdown",
      "source": [
        "# Risk Factor Correlation Matrix\n",
        "\n",
        "A correlation matrix heatmap represents possible relationships between different risk factors. The highest positive coefficient is .52 between smoking_severity and anxiety_risk We see weakest negative correlations between the respiratory_score and the variables; smoking_severity (-.18) and anxiety_risk (-.27). The colour is proportional to the degree of correlation, and a positive correlation is indicated by red while a negative correlation is indicated blue."
      ],
      "metadata": {
        "id": "zfM9JpZlY0f2"
      }
    },
    {
      "cell_type": "code",
      "source": [
        "# Risk Factor Correlation Matrix\n",
        "plt.figure(figsize=(10, 8))\n",
        "correlation_matrix = data_1[['smoking_severity', 'respiratory_score',\n",
        "                            'health_index', 'anxiety_risk',\n",
        "                            'cancer_numeric']].corr()\n",
        "sns.heatmap(correlation_matrix, annot=True, cmap='coolwarm', center=0)\n",
        "plt.title('Risk Factor Correlation Matrix')\n",
        "plt.show()"
      ],
      "metadata": {
        "colab": {
          "base_uri": "https://localhost:8080/",
          "height": 699
        },
        "id": "hTQ93by3P2Qb",
        "outputId": "b7ce31bc-d698-4d88-af1f-6f31eb7cc805"
      },
      "execution_count": 114,
      "outputs": [
        {
          "output_type": "display_data",
          "data": {
            "text/plain": [
              "<Figure size 1000x800 with 2 Axes>"
            ],
            "image/png": "[encoded data removed]"
          },
          "metadata": {}
        }
      ]
    },
    {
      "cell_type": "markdown",
      "source": [
        "Interpretation-\n",
        "Smoking Severity and Anxiety:\n",
        "There is a notable relationship between smoking and anxiety, suggesting potential behavioral or psychological links.\n",
        "Cancer Risk and Health Metrics:\n",
        "\n",
        "Cancer risk (cancer_numeric) shows moderate relationships with both health_index and respiratory_score, highlighting the importance of general and respiratory health in cancer outcomes.\n",
        "Weak Relationships:\n",
        "\n",
        "Some variables, like health_index and anxiety_risk, have near-zero correlation, indicating they are largely independent.\n",
        "\n",
        "Smoking severity and anxiety levels are moderately linked, suggesting combined risks."
      ],
      "metadata": {
        "id": "_iIJG59PPbQg"
      }
    },
    {
      "cell_type": "markdown",
      "source": [
        "# Number of Lung Cancer Cases by Age Group\n",
        "\n",
        "A bar graph illustrating the cases of Lung cancer by Age group and it is evident that the lung cancer cases rise as the age progresses increases. The >60 age group presents a high incidence of cases, 160, while the 45-60 age group presented about 100 cases, the actual other groups are significantly below at least the <30 group or 30-45 group."
      ],
      "metadata": {
        "id": "-MImo8Y4Y5kV"
      }
    },
    {
      "cell_type": "code",
      "source": [
        "plt.figure(figsize=(10, 6))\n",
        "age_cancer_counts = data_1.groupby('age_group')['LUNG_CANCER'].apply(lambda x: (x == 'YES').sum())\n",
        "age_cancer_counts.plot(kind='bar')\n",
        "plt.title('Number of Lung Cancer Cases by Age Group')\n",
        "plt.xlabel('Age Group')\n",
        "plt.ylabel('Number of Cancer Cases')\n",
        "plt.xticks(rotation=45)\n",
        "plt.tight_layout()\n",
        "plt.show()"
      ],
      "metadata": {
        "colab": {
          "base_uri": "https://localhost:8080/",
          "height": 583
        },
        "id": "E8UQ_kztQB1Z",
        "outputId": "adb91d0f-56b1-4ae3-e35f-f2ad820c095f"
      },
      "execution_count": 115,
      "outputs": [
        {
          "output_type": "stream",
          "name": "stderr",
          "text": [
            "<ipython-input-115-ea2a0d381637>:2: FutureWarning: The default of observed=False is deprecated and will be changed to True in a future version of pandas. Pass observed=False to retain current behavior or observed=True to adopt the future default and silence this warning.\n",
            "  age_cancer_counts = data_1.groupby('age_group')['LUNG_CANCER'].apply(lambda x: (x == 'YES').sum())\n"
          ]
        },
        {
          "output_type": "display_data",
          "data": {
            "text/plain": [
              "<Figure size 1000x600 with 1 Axes>"
            ],
            "image/png": "[encoded data removed]"
          },
          "metadata": {}
        }
      ]
    },
    {
      "cell_type": "markdown",
      "source": [
        "Interpretation- Lung cancer cases rise as the age progresses increases. It suggests that with age the severity or the tendency of the lung cancer increases."
      ],
      "metadata": {
        "id": "OZDYIG3XPvxx"
      }
    },
    {
      "cell_type": "markdown",
      "source": [
        "# **Lung Cancer Association with Smoking**"
      ],
      "metadata": {
        "id": "uOnJD0fDPitW"
      }
    },
    {
      "cell_type": "code",
      "source": [
        "import seaborn as sns\n",
        "\n",
        "# Creating a crosstab for heatmap\n",
        "cross_tab = pd.crosstab(data_1['LUNG_CANCER'], data_1['SMOKING'])\n",
        "\n",
        "# Heatmap Plot\n",
        "sns.heatmap(cross_tab, annot=True, fmt=\"d\", cmap=\"YlGnBu\")\n",
        "plt.title(\"Heatmap of Lung Cancer vs Smoking\")\n",
        "plt.xlabel(\"Smoking\")\n",
        "plt.ylabel(\"Lung Cancer (YES/NO)\")\n",
        "plt.show()"
      ],
      "metadata": {
        "colab": {
          "base_uri": "https://localhost:8080/",
          "height": 472
        },
        "id": "E-LzSLlYAyQr",
        "outputId": "9be093dc-341a-4880-f9b4-904c38d59219"
      },
      "execution_count": 116,
      "outputs": [
        {
          "output_type": "display_data",
          "data": {
            "text/plain": [
              "<Figure size 640x480 with 2 Axes>"
            ],
            "image/png": "[encoded data removed]"
          },
          "metadata": {}
        }
      ]
    },
    {
      "cell_type": "markdown",
      "source": [
        "Impact of Smoking on Lung Cancer:\n",
        "The heatmap confirms that individuals with higher smoking levels are more likely to have lung cancer compared to those who do not smoke.\n",
        "This relationship strongly suggests that smoking is a significant risk factor for lung cancer.\n",
        "\n",
        "Disparity Between YES and NO Cases:\n",
        "The number of individuals with lung cancer (YES) far exceeds those without lung cancer (NO), regardless of smoking levels. This indicates a class imbalance in the data, where lung cancer cases dominate."
      ],
      "metadata": {
        "id": "KaVXBcmczYRL"
      }
    },
    {
      "cell_type": "markdown",
      "source": [
        "# **Lung Cancer Association with Chest Pain**"
      ],
      "metadata": {
        "id": "nxpHFL66QAVh"
      }
    },
    {
      "cell_type": "code",
      "source": [
        "import seaborn as sns\n",
        "\n",
        "# Creating a crosstab for heatmap\n",
        "cross_tab = pd.crosstab(data_1['LUNG_CANCER'], data_1['CHEST PAIN'])\n",
        "\n",
        "# Heatmap Plot\n",
        "sns.heatmap(cross_tab, annot=True, fmt=\"d\", cmap=\"YlGnBu\")\n",
        "plt.title(\"Heatmap of Lung Cancer vs Chest Pain\")\n",
        "plt.xlabel(\"Chest Pain\")\n",
        "plt.ylabel(\"Lung Cancer (YES/NO)\")\n",
        "plt.show()"
      ],
      "metadata": {
        "colab": {
          "base_uri": "https://localhost:8080/",
          "height": 472
        },
        "id": "BRu58z_-Duvd",
        "outputId": "aed8bc1e-866c-4506-a4e0-5b37825fc56e"
      },
      "execution_count": 117,
      "outputs": [
        {
          "output_type": "display_data",
          "data": {
            "text/plain": [
              "<Figure size 640x480 with 2 Axes>"
            ],
            "image/png": "[encoded data removed]"
          },
          "metadata": {}
        }
      ]
    },
    {
      "cell_type": "markdown",
      "source": [
        "Chest Pain and Lung Cancer:\n",
        "The heatmap shows a clear positive association between higher levels of chest pain and the presence of lung cancer (YES).\n",
        "Individuals experiencing higher chest pain are more likely to have lung cancer.\n",
        "\n",
        "Non-Lung Cancer Cases:\n",
        "The number of individuals without lung cancer (NO) is consistently low across both Chest Pain levels, further highlighting the dominance of lung cancer cases in this dataset."
      ],
      "metadata": {
        "id": "09LLFo8d1S3v"
      }
    },
    {
      "cell_type": "markdown",
      "source": [
        "# **Lung Cancer Association with Swallowing Difficulty**"
      ],
      "metadata": {
        "id": "VI2cTnTLQIjn"
      }
    },
    {
      "cell_type": "code",
      "source": [
        "import seaborn as sns\n",
        "\n",
        "# Creating a crosstab for heatmap\n",
        "cross_tab = pd.crosstab(data_1['LUNG_CANCER'], data_1['SWALLOWING DIFFICULTY'])\n",
        "\n",
        "# Heatmap Plot\n",
        "sns.heatmap(cross_tab, annot=True, fmt=\"d\", cmap=\"YlGnBu\")\n",
        "plt.title(\"Heatmap of Lung Cancer vs Swallowing Difficulty\")\n",
        "plt.xlabel(\"Swallowing Difficulty\")\n",
        "plt.ylabel(\"Lung Cancer (YES/NO)\")\n",
        "plt.show()"
      ],
      "metadata": {
        "colab": {
          "base_uri": "https://localhost:8080/",
          "height": 472
        },
        "id": "osp6OCiKGFLK",
        "outputId": "c79a3bab-98ec-4d64-f078-aac6daf9d1b1"
      },
      "execution_count": 118,
      "outputs": [
        {
          "output_type": "display_data",
          "data": {
            "text/plain": [
              "<Figure size 640x480 with 2 Axes>"
            ],
            "image/png": "[encoded data removed]"
          },
          "metadata": {}
        }
      ]
    },
    {
      "cell_type": "markdown",
      "source": [
        "Swallowing Difficulty as a Key Symptom:\n",
        "The data shows a strong association between increasing swallowing difficulty and the presence of lung cancer.\n",
        "Higher levels of swallowing difficulty are correlated with a higher proportion of lung cancer cases.\n",
        "\n",
        "Small Non-Lung Cancer Group:\n",
        "The number of individuals without lung cancer (NO) is very small across both levels of swallowing difficulty, especially at Level 2.\n",
        "This indicates that swallowing difficulty is a potentially significant symptom or predictor for lung cancer."
      ],
      "metadata": {
        "id": "DuDMXgkT1uEN"
      }
    },
    {
      "cell_type": "markdown",
      "source": [
        "# Average Risk Factors in Cancer Patients\n",
        "\n",
        "A line plot is implemented to compare the performance (or, rather, average scores) of various factors (ANXIETY, FATIGUE, WHEEZING, and COUGHING) of cancer patients. FATIGUE means the highest three scores among the patients at about 1.7, then COUGHING mean about 1.625 and ANXIETY mean about 1.525 which indicates that FATIGUE might be the most severe complaint with the patients."
      ],
      "metadata": {
        "id": "tZTF4kAHZA8S"
      }
    },
    {
      "cell_type": "code",
      "source": [
        "plt.figure(figsize=(10, 6))\n",
        "risk_factors = ['ANXIETY', 'FATIGUE', 'WHEEZING', 'COUGHING']\n",
        "avg_risks = data_1[data_1['LUNG_CANCER'] == 'YES'][risk_factors].mean()\n",
        "avg_risks.plot(kind='line', marker='o')\n",
        "plt.title('Average Risk Factors in Lung Cancer Patients')\n",
        "plt.xlabel('Risk Factors')\n",
        "plt.ylabel('Average Score')\n",
        "plt.grid(True)\n",
        "plt.xticks(rotation=45)\n",
        "plt.tight_layout()\n",
        "plt.show()"
      ],
      "metadata": {
        "colab": {
          "base_uri": "https://localhost:8080/",
          "height": 527
        },
        "id": "f9vfwiaiQKR3",
        "outputId": "8a607134-d15f-4710-aee3-e9d185437fa4"
      },
      "execution_count": 119,
      "outputs": [
        {
          "output_type": "display_data",
          "data": {
            "text/plain": [
              "<Figure size 1000x600 with 1 Axes>"
            ],
            "image/png": "[encoded data removed]"
          },
          "metadata": {}
        }
      ]
    },
    {
      "cell_type": "markdown",
      "source": [
        "Interpretation-\n",
        "\n",
        "Fatigue is Dominant:\n",
        "Among the four risk factors, fatigue has the highest average score, suggesting it is a key symptom or risk factor experienced by lung cancer patients.\n",
        "\n",
        "Coughing and Wheezing are Common:\n",
        "Both symptoms have moderate average scores, indicating their relevance in lung cancer patients.These respiratory issues are consistent with lung cancer's effects on the respiratory system.\n",
        "\n",
        "Anxiety is the Least Severe:\n",
        "Anxiety, while present, has the lowest average score, suggesting it may be less impactful compared to physical symptoms like fatigue and respiratory issues."
      ],
      "metadata": {
        "id": "N1zcyVL4RKuw"
      }
    },
    {
      "cell_type": "markdown",
      "source": [
        "# Descriptive Statistics\n",
        "\n",
        "The descriptive_stats function defines more detailed average characteristic numerical value statistics for a numerically-specified variable by giving over a dictionary containing mean, median, standard deviation, variance, skew, kurtosis, inter-quartile range, range, and quartiles. When used in connection with the AGE variable, it gives a full statistical analysis of the age distribution in the dataset."
      ],
      "metadata": {
        "id": "gNBn6-yYZTHz"
      }
    },
    {
      "cell_type": "code",
      "source": [
        "def descriptive_stats(data: pd.Series) -> dict:\n",
        "    \"\"\"\n",
        "    Calculate comprehensive descriptive statistics for a given variable.\n",
        "\n",
        "    Parameters:\n",
        "    data: Series of numerical data to analyze\n",
        "\n",
        "    Returns:\n",
        "    Dictionary containing descriptive statistics\n",
        "    \"\"\"\n",
        "    stats_dict = {\n",
        "        'mean': np.mean(data),\n",
        "        'median': np.median(data),\n",
        "        'std': np.std(data),\n",
        "        'var': np.var(data),\n",
        "        'skew': stats.skew(data),\n",
        "        'kurtosis': stats.kurtosis(data),\n",
        "        'iqr': stats.iqr(data),\n",
        "        'range': np.ptp(data),\n",
        "        'q1': np.percentile(data, 25),\n",
        "        'q3': np.percentile(data, 75)\n",
        "    }\n",
        "    return stats_dict"
      ],
      "metadata": {
        "id": "uqgGtm4UQZJ1"
      },
      "execution_count": 120,
      "outputs": []
    },
    {
      "cell_type": "code",
      "source": [
        "age_stats = descriptive_stats(data_1['AGE'])\n",
        "for stat, value in age_stats.items():\n",
        "    print(f\"{stat}: {value:.2f}\")\n"
      ],
      "metadata": {
        "colab": {
          "base_uri": "https://localhost:8080/"
        },
        "id": "ZmsHSs84QtTj",
        "outputId": "6ab2d361-024f-4676-b32f-7b573fdfd528"
      },
      "execution_count": 81,
      "outputs": [
        {
          "output_type": "stream",
          "name": "stdout",
          "text": [
            "mean: 62.67\n",
            "median: 62.00\n",
            "std: 8.20\n",
            "var: 67.19\n",
            "skew: -0.39\n",
            "kurtosis: 1.70\n",
            "iqr: 12.00\n",
            "range: 66.00\n",
            "q1: 57.00\n",
            "q3: 69.00\n"
          ]
        }
      ]
    },
    {
      "cell_type": "markdown",
      "source": [
        "Interpretation-\n",
        "The average age of the individuals is around 62.67 years, with a median of 62, showing a roughly symmetric distribution.\n",
        "The ages are moderately spread out with a standard deviation of 8.2 years and a range of 66 years.\n",
        "The slight negative skew suggests a minor concentration of younger individuals.\n",
        "The kurtosis value indicates the presence of some extreme values, potentially older or younger individuals.\n",
        "Most individuals fall between 57 (Q1) and 69 (Q3) years.\n",
        "\n",
        "The age group primarily consists of older adults, which aligns with lung cancer being more prevalent in older populations."
      ],
      "metadata": {
        "id": "5cMOKT33UD4_"
      }
    },
    {
      "cell_type": "markdown",
      "source": [
        "# Correlation Analysis\n",
        "\n",
        "The correlation_analysis function estimates the correlation matrix for any number of numerical variables using the selected method (pearson, spearman, kendall). Put on the numerical columns, (AGE, SMOKING, ANXIETY, FATIGUE, WHEEZING, COUGHING) it depicts how these variables are correlated, -1 representing perfect negative correlation, 1 representing perfect positive correlation."
      ],
      "metadata": {
        "id": "mT3TLTuoZj4L"
      }
    },
    {
      "cell_type": "code",
      "source": [
        "def correlation_analysis(data: pd.DataFrame, method='pearson') -> pd.DataFrame:\n",
        "    \"\"\"\n",
        "    Perform correlation analysis between numerical variables.\n",
        "\n",
        "    Parameters:\n",
        "    data: DataFrame containing numerical variables\n",
        "    method: Correlation method ('pearson', 'spearman', or 'kendall')\n",
        "\n",
        "    Returns:\n",
        "    DataFrame with correlation matrix\n",
        "    \"\"\"\n",
        "    correlation_matrix = data.corr(method=method)\n",
        "    return correlation_matrix"
      ],
      "metadata": {
        "id": "tUzuWKNzQgTI"
      },
      "execution_count": 121,
      "outputs": []
    },
    {
      "cell_type": "code",
      "source": [
        "numerical_columns = ['AGE', 'SMOKING', 'ANXIETY', 'FATIGUE', 'WHEEZING', 'COUGHING']\n",
        "numerical_data = data_1[numerical_columns]\n",
        "\n",
        "correlation_results = correlation_analysis(numerical_data, method='pearson')\n",
        "print(correlation_results)"
      ],
      "metadata": {
        "colab": {
          "base_uri": "https://localhost:8080/"
        },
        "id": "Aimn4kIuQ-F3",
        "outputId": "44973c67-eba8-4ca5-a88c-bb20b0ec470b"
      },
      "execution_count": 122,
      "outputs": [
        {
          "output_type": "stream",
          "name": "stdout",
          "text": [
            "               AGE   SMOKING   ANXIETY   FATIGUE  WHEEZING  COUGHING\n",
            "AGE       1.000000 -0.084475  0.053170  0.012614  0.055011  0.169950\n",
            "SMOKING  -0.084475  1.000000  0.160267 -0.029575 -0.129426 -0.129471\n",
            "ANXIETY   0.053170  0.160267  1.000000 -0.188538 -0.191807 -0.225644\n",
            "FATIGUE   0.012614 -0.029575 -0.188538  1.000000  0.141937  0.146856\n",
            "WHEEZING  0.055011 -0.129426 -0.191807  0.141937  1.000000  0.374265\n",
            "COUGHING  0.169950 -0.129471 -0.225644  0.146856  0.374265  1.000000\n"
          ]
        }
      ]
    },
    {
      "cell_type": "markdown",
      "source": [
        "Respiratory Symptoms:\n",
        "WHEEZING and COUGHING are moderately correlated, suggesting they often co-occur in patients, likely due to respiratory conditions.\n",
        "\n",
        "Smoking and Anxiety:\n",
        "There is a weak positive correlation between smoking and anxiety, implying that smoking behavior might be associated with stress or anxiety levels.\n",
        "\n",
        "Age Impact:\n",
        "AGE has a weak positive correlation with COUGHING, suggesting that older individuals may experience slightly more respiratory symptoms.\n",
        "Low Correlations:\n",
        "\n",
        "Most correlations are weak, suggesting that the variables (AGE, SMOKING, etc.) are fairly independent of one another, with no strong linear relationships."
      ],
      "metadata": {
        "id": "gZl3mNzRWCLe"
      }
    },
    {
      "cell_type": "markdown",
      "source": [
        "# Chi Square Test\n",
        "\n",
        " Chi_square_test does a test of independence test using the chi-square hypothesis test to compare the two categorical variables and it returns a dictionary of the test statistic, p-value, the degrees of freedom, contingency table and the expected frequency. It is used whenever working with SMOKING and LUNG_CANCER variables and it checks whether the given smoking status is statistically significant for the occurrence of lung cancer."
      ],
      "metadata": {
        "id": "dC7ZvAKGZnS8"
      }
    },
    {
      "cell_type": "code",
      "source": [
        "def chi_square_test(variable1: pd.Series, variable2: pd.Series) -> dict:\n",
        "    \"\"\"\n",
        "    Perform chi-square test of independence between two categorical variables.\n",
        "\n",
        "    Parameters:\n",
        "    variable1, variable2: Categorical variables to test\n",
        "\n",
        "    Returns:\n",
        "    Dictionary with chi-square statistic, p-value, and contingency table\n",
        "    \"\"\"\n",
        "    contingency_table = pd.crosstab(variable1, variable2)\n",
        "    chi2, p_value, dof, expected = stats.chi2_contingency(contingency_table)\n",
        "\n",
        "    results = {\n",
        "        'chi2_statistic': chi2,\n",
        "        'p_value': p_value,\n",
        "        'degrees_of_freedom': dof,\n",
        "        'contingency_table': contingency_table,\n",
        "        'expected_frequencies': expected\n",
        "    }\n",
        "    return results"
      ],
      "metadata": {
        "id": "yc2_BEU3QiOK"
      },
      "execution_count": 123,
      "outputs": []
    },
    {
      "cell_type": "markdown",
      "source": [
        "# ***Chi Square Test for Smoking and Lung Cancer ***"
      ],
      "metadata": {
        "id": "u4OUDw1gWvnA"
      }
    },
    {
      "cell_type": "code",
      "source": [
        "smoking_cancer_chi = chi_square_test(data_1['SMOKING'], data_1['LUNG_CANCER'])\n",
        "print(f\"Chi-square statistic: {smoking_cancer_chi['chi2_statistic']:.2f}\")\n",
        "print(f\"p-value: {smoking_cancer_chi['p_value']:.4f}\")\n",
        "print(\"\\nContingency Table:\")\n",
        "print(smoking_cancer_chi['contingency_table'])"
      ],
      "metadata": {
        "colab": {
          "base_uri": "https://localhost:8080/"
        },
        "id": "822SisDGRFY6",
        "outputId": "6339674e-fb6e-45bd-a7b9-ab9021ffdc72"
      },
      "execution_count": 124,
      "outputs": [
        {
          "output_type": "stream",
          "name": "stdout",
          "text": [
            "Chi-square statistic: 0.72\n",
            "p-value: 0.3953\n",
            "\n",
            "Contingency Table:\n",
            "LUNG_CANCER  NO  YES\n",
            "SMOKING             \n",
            "1            20  115\n",
            "2            19  155\n"
          ]
        }
      ]
    },
    {
      "cell_type": "markdown",
      "source": [
        "Interpretation:\n",
        "Null Hypothesis (H₀): There is no association between smoking severity and the presence of lung cancer.\n",
        "\n",
        "p-value = 0.3953: Since the p-value is greater than 0.05 (common significance level), we fail to reject the null hypothesis. This suggests that there is no statistically significant relationship between smoking severity and lung cancer in this dataset.\n",
        "\n",
        "Chi-Square Statistic = 0.72: The low value of the Chi-Square statistic supports the conclusion that any observed differences in the contingency table are likely due to chance.\n"
      ],
      "metadata": {
        "id": "aAFL8f_EXAS6"
      }
    },
    {
      "cell_type": "markdown",
      "source": [
        "# ***Chi Square Test for Gender and Lung Cancer ***"
      ],
      "metadata": {
        "id": "3pSyRg0CXLhw"
      }
    },
    {
      "cell_type": "code",
      "source": [
        "gender_cancer_chi = chi_square_test(data_1['GENDER'], data_1['LUNG_CANCER'])\n",
        "print(f\"Chi-square statistic: {gender_cancer_chi['chi2_statistic']:.2f}\")\n",
        "print(f\"p-value: {gender_cancer_chi['p_value']:.4f}\")\n",
        "print(\"\\nContingency Table:\")\n",
        "print(gender_cancer_chi['contingency_table'])"
      ],
      "metadata": {
        "colab": {
          "base_uri": "https://localhost:8080/"
        },
        "id": "RyC40r0RAmVm",
        "outputId": "ab95f8d4-740a-4eb5-cf76-550602350bed"
      },
      "execution_count": 125,
      "outputs": [
        {
          "output_type": "stream",
          "name": "stdout",
          "text": [
            "Chi-square statistic: 1.02\n",
            "p-value: 0.3122\n",
            "\n",
            "Contingency Table:\n",
            "LUNG_CANCER  NO  YES\n",
            "GENDER              \n",
            "F            22  125\n",
            "M            17  145\n"
          ]
        }
      ]
    },
    {
      "cell_type": "markdown",
      "source": [
        "Null Hypothesis (H₀): There is no association between Gender and the presence of lung cancer.\n",
        "The p-value (0.3122) indicates that there is no significant association between GENDER and the occurrence of LUNG_CANCER.\n",
        "We fail to reject the null hypothesis, which assumes that gender has no impact on lung cancer outcomes."
      ],
      "metadata": {
        "id": "mkVBMfGKIWhb"
      }
    },
    {
      "cell_type": "markdown",
      "source": [
        "# ***Chi Square Test for Fatigue and Lung Cancer ***"
      ],
      "metadata": {
        "id": "r5qFR4OfXS-n"
      }
    },
    {
      "cell_type": "code",
      "source": [
        "fatigue_cancer_chi = chi_square_test(data_1['FATIGUE'], data_1['LUNG_CANCER'])\n",
        "print(f\"Chi-square statistic: {fatigue_cancer_chi['chi2_statistic']:.2f}\")\n",
        "print(f\"p-value: {fatigue_cancer_chi['p_value']:.4f}\")\n",
        "print(\"\\nContingency Table:\")\n",
        "print(fatigue_cancer_chi['contingency_table'])"
      ],
      "metadata": {
        "colab": {
          "base_uri": "https://localhost:8080/"
        },
        "id": "vlNRgW2iA7jh",
        "outputId": "b80076b6-ff2f-4b09-9af8-44cf3d4e87b8"
      },
      "execution_count": 126,
      "outputs": [
        {
          "output_type": "stream",
          "name": "stdout",
          "text": [
            "Chi-square statistic: 6.08\n",
            "p-value: 0.0137\n",
            "\n",
            "Contingency Table:\n",
            "LUNG_CANCER  NO  YES\n",
            "FATIGUE             \n",
            "1            20   81\n",
            "2            19  189\n"
          ]
        }
      ]
    },
    {
      "cell_type": "markdown",
      "source": [
        "Null Hypothesis (H₀): There is no association between FATIGUE and the presence of lung cancer.\n",
        "The p-value (0.0137) indicates that there is a significant association between FATIGUE levels and lung cancer occurrence.\n",
        "This means FATIGUE levels are likely related to the presence of lung cancer. We reject the null hypothesis and conclude that FATIGUE is significantly associated with Lung Cancer."
      ],
      "metadata": {
        "id": "kYAw3Pv_IoGL"
      }
    },
    {
      "cell_type": "markdown",
      "source": [
        "# ***Chi Square Test for Fatigue and Lung Cancer ***"
      ],
      "metadata": {
        "id": "kHJvl5gLYfQO"
      }
    },
    {
      "cell_type": "code",
      "source": [
        "chest_pain_cancer_chi = chi_square_test(data_1['CHEST PAIN'], data_1['LUNG_CANCER'])\n",
        "print(f\"Chi-square statistic: {chest_pain_cancer_chi['chi2_statistic']:.2f}\")\n",
        "print(f\"p-value: {chest_pain_cancer_chi['p_value']:.4f}\")\n",
        "print(\"\\nContingency Table:\")\n",
        "print(chest_pain_cancer_chi['contingency_table'])"
      ],
      "metadata": {
        "colab": {
          "base_uri": "https://localhost:8080/"
        },
        "id": "q-BnbmnlBNJq",
        "outputId": "8e83ab2b-9ab9-446b-df6c-7b824a9642ad"
      },
      "execution_count": 127,
      "outputs": [
        {
          "output_type": "stream",
          "name": "stdout",
          "text": [
            "Chi-square statistic: 10.08\n",
            "p-value: 0.0015\n",
            "\n",
            "Contingency Table:\n",
            "LUNG_CANCER  NO  YES\n",
            "CHEST PAIN          \n",
            "1            27  110\n",
            "2            12  160\n"
          ]
        }
      ]
    },
    {
      "cell_type": "markdown",
      "source": [
        "Null Hypothesis: There is no association between CHEST PAIN levels and the occurrence of LUNG CANCER.\n",
        "The p-value (0.0015) confirms a strong relationship between CHEST PAIN levels and lung cancer. We reject the null hypothesis and conclude that Chest Pain is significantly associated with Lung Cancer."
      ],
      "metadata": {
        "id": "VCWt74iYJLYP"
      }
    },
    {
      "cell_type": "markdown",
      "source": [
        "# ***Chi Square Test for Swallowing Difficulty and Lung Cancer ***"
      ],
      "metadata": {
        "id": "ybxPXFhpYtk2"
      }
    },
    {
      "cell_type": "code",
      "source": [
        "swallowing_difficulty_cancer_chi = chi_square_test(data_1['SWALLOWING DIFFICULTY'], data_1['LUNG_CANCER'])\n",
        "print(f\"Chi-square statistic: {swallowing_difficulty_cancer_chi['chi2_statistic']:.2f}\")\n",
        "print(f\"p-value: {swallowing_difficulty_cancer_chi['p_value']:.4f}\")\n",
        "print(\"\\nContingency Table:\")\n",
        "print(swallowing_difficulty_cancer_chi['contingency_table'])"
      ],
      "metadata": {
        "colab": {
          "base_uri": "https://localhost:8080/"
        },
        "id": "Rg2IE5msBSxp",
        "outputId": "e6d719a6-62fe-4695-f313-5f0255652d2e"
      },
      "execution_count": 128,
      "outputs": [
        {
          "output_type": "stream",
          "name": "stdout",
          "text": [
            "Chi-square statistic: 19.31\n",
            "p-value: 0.0000\n",
            "\n",
            "Contingency Table:\n",
            "LUNG_CANCER            NO  YES\n",
            "SWALLOWING DIFFICULTY         \n",
            "1                      34  130\n",
            "2                       5  140\n"
          ]
        }
      ]
    },
    {
      "cell_type": "markdown",
      "source": [
        "Null Hypothesis: There is no association between Swallowing Difficulty and the occurrence of Lung Cancer.\n",
        "Highly Significant Association:\n",
        "\n",
        "The extremely low p-value (0.0000) indicates a strong relationship between Swallowing Difficulty and Lung Cancer occurrence.\n",
        "We reject the null hypothesis and conclude that Swallowing Difficulty is significantly associated with Lung Cancer."
      ],
      "metadata": {
        "id": "rOauR_8NJVes"
      }
    },
    {
      "cell_type": "markdown",
      "source": [
        "# **Logistic Regression For Determining the Effect of Factors on the Predictor Lung Cancer**"
      ],
      "metadata": {
        "id": "L8OBdzU4QsBq"
      }
    },
    {
      "cell_type": "code",
      "source": [
        "import statsmodels.api as sm\n",
        "import pandas as pd\n",
        "\n",
        "def logistic_regression_analysis(X: pd.DataFrame, y: pd.Series) -> dict:\n",
        "    \"\"\"\n",
        "    Perform multiple logistic regression analysis.\n",
        "\n",
        "    Parameters:\n",
        "    X: DataFrame of predictor variables\n",
        "    y: Series of binary target variable\n",
        "\n",
        "    Returns:\n",
        "    Dictionary with regression results\n",
        "    \"\"\"\n",
        "    X = sm.add_constant(X)  # Add constant for intercept\n",
        "    model = sm.Logit(y, X).fit()  # Logistic Regression Model\n",
        "\n",
        "    results = {\n",
        "        'coefficients': model.params,\n",
        "        'p_values': model.pvalues,\n",
        "        'conf_intervals': model.conf_int(),\n",
        "        'summary': model.summary()\n",
        "    }\n",
        "    return results\n",
        "\n",
        "# Preparing predictors and target variable\n",
        "X = data_1[['SMOKING', 'ANXIETY', 'FATIGUE', 'AGE', 'CHEST PAIN','SHORTNESS OF BREATH', 'PEER_PRESSURE','SWALLOWING DIFFICULTY','YELLOW_FINGERS']]\n",
        "y = (data_1['LUNG_CANCER'] == 'YES').astype(int)\n",
        "\n",
        "# Running Logistic Regression\n",
        "logistic_results = logistic_regression_analysis(X, y)\n",
        "\n",
        "# Printing Results\n",
        "print(\"\\nLogistic Regression Summary:\")\n",
        "print(\"Coefficients:\")\n",
        "for var, coef in zip(['const'] + list(X.columns), logistic_results['coefficients']):\n",
        "    print(f\"{var}: {coef:.4f}\")\n",
        "\n",
        "print(\"\\nP-values:\")\n",
        "print(logistic_results['p_values'])\n",
        "\n",
        "print(\"\\nConfidence Intervals:\")\n",
        "print(logistic_results['conf_intervals'])\n",
        "\n",
        "print(\"\\nModel Summary:\")\n",
        "print(logistic_results['summary'])"
      ],
      "metadata": {
        "colab": {
          "base_uri": "https://localhost:8080/"
        },
        "id": "9UnrQHCFdNMe",
        "outputId": "765b52ef-e3b3-4003-bcd0-79d89dc3601b"
      },
      "execution_count": 129,
      "outputs": [
        {
          "output_type": "stream",
          "name": "stdout",
          "text": [
            "Optimization terminated successfully.\n",
            "         Current function value: 0.283054\n",
            "         Iterations 8\n",
            "\n",
            "Logistic Regression Summary:\n",
            "Coefficients:\n",
            "const: -11.4480\n",
            "SMOKING: 0.6358\n",
            "ANXIETY: 0.1001\n",
            "FATIGUE: 1.2756\n",
            "AGE: 0.0454\n",
            "CHEST PAIN: 1.3106\n",
            "SHORTNESS OF BREATH: 0.3070\n",
            "PEER_PRESSURE: 0.9359\n",
            "SWALLOWING DIFFICULTY: 1.8664\n",
            "YELLOW_FINGERS: 0.9304\n",
            "\n",
            "P-values:\n",
            "const                    0.000006\n",
            "SMOKING                  0.130574\n",
            "ANXIETY                  0.848500\n",
            "FATIGUE                  0.004311\n",
            "AGE                      0.059166\n",
            "CHEST PAIN               0.001925\n",
            "SHORTNESS OF BREATH      0.515172\n",
            "PEER_PRESSURE            0.041609\n",
            "SWALLOWING DIFFICULTY    0.001798\n",
            "YELLOW_FINGERS           0.041736\n",
            "dtype: float64\n",
            "\n",
            "Confidence Intervals:\n",
            "                               0         1\n",
            "const                 -16.418246 -6.477749\n",
            "SMOKING                -0.188444  1.459960\n",
            "ANXIETY                -0.927228  1.127496\n",
            "FATIGUE                 0.399718  2.151448\n",
            "AGE                    -0.001755  0.092473\n",
            "CHEST PAIN              0.482378  2.138801\n",
            "SHORTNESS OF BREATH    -0.617586  1.231611\n",
            "PEER_PRESSURE           0.035578  1.836273\n",
            "SWALLOWING DIFFICULTY   0.694567  3.038244\n",
            "YELLOW_FINGERS          0.034810  1.826076\n",
            "\n",
            "Model Summary:\n",
            "                           Logit Regression Results                           \n",
            "==============================================================================\n",
            "Dep. Variable:            LUNG_CANCER   No. Observations:                  309\n",
            "Model:                          Logit   Df Residuals:                      299\n",
            "Method:                           MLE   Df Model:                            9\n",
            "Date:                Wed, 11 Dec 2024   Pseudo R-squ.:                  0.2534\n",
            "Time:                        02:20:51   Log-Likelihood:                -87.464\n",
            "converged:                       True   LL-Null:                       -117.15\n",
            "Covariance Type:            nonrobust   LLR p-value:                 1.771e-09\n",
            "=========================================================================================\n",
            "                            coef    std err          z      P>|z|      [0.025      0.975]\n",
            "-----------------------------------------------------------------------------------------\n",
            "const                   -11.4480      2.536     -4.514      0.000     -16.418      -6.478\n",
            "SMOKING                   0.6358      0.421      1.512      0.131      -0.188       1.460\n",
            "ANXIETY                   0.1001      0.524      0.191      0.849      -0.927       1.127\n",
            "FATIGUE                   1.2756      0.447      2.854      0.004       0.400       2.151\n",
            "AGE                       0.0454      0.024      1.887      0.059      -0.002       0.092\n",
            "CHEST PAIN                1.3106      0.423      3.102      0.002       0.482       2.139\n",
            "SHORTNESS OF BREATH       0.3070      0.472      0.651      0.515      -0.618       1.232\n",
            "PEER_PRESSURE             0.9359      0.459      2.037      0.042       0.036       1.836\n",
            "SWALLOWING DIFFICULTY     1.8664      0.598      3.122      0.002       0.695       3.038\n",
            "YELLOW_FINGERS            0.9304      0.457      2.036      0.042       0.035       1.826\n",
            "=========================================================================================\n"
          ]
        }
      ]
    },
    {
      "cell_type": "markdown",
      "source": [
        "Significant Predictors (p-value < 0.05):\n",
        "FATIGUE: Positive and significant effect on lung cancer odds.\n",
        "CHEST PAIN: Strong positive effect, indicating chest pain is associated with increased lung cancer odds.\n",
        "PEER_PRESSURE: Significant positive association.\n",
        "SWALLOWING DIFFICULTY: Strongest positive predictor, increasing the odds.\n",
        "YELLOW_FINGERS: Positive and significant.\n",
        "\n",
        "Non-Significant Predictors (p-value > 0.05):\n",
        "SMOKING: While it has a positive coefficient, it is not statistically significant.\n",
        "ANXIETY and SHORTNESS OF BREATH: Have very weak effects and are not significant.\n",
        "AGE: Borderline significance; its coefficient suggests that increasing age slightly raises the odds of lung cancer.\n",
        "\n",
        "For significant positive coefficients, the odds of having lung cancer increase:\n",
        "SWALLOWING DIFFICULTY (highest coefficient: 1.8664) is strongly associated with lung cancer.\n",
        "CHEST PAIN, FATIGUE, and YELLOW_FINGERS also substantially increase lung cancer odds."
      ],
      "metadata": {
        "id": "iUFNFsf5eJ4z"
      }
    },
    {
      "cell_type": "markdown",
      "source": [
        "# Conclusion\n",
        "\n",
        "Based on the comprehensive analysis of lung cancer data, here are the key conclusions:\n",
        "\n",
        "From the evaluation of age distribution it is clear that the rate of incidence of lung cancer is strongly related to age with maximum concentration among patients more than 60 years of age. This is well illustrated by extracting the density plots and bar charts, where distinct elevation in elderly age brackets is visible.\n",
        "The various graphs shows how the Lung cancer is related to the different factors in the dataset.\n",
        "\n",
        "During the correlation analysis, rather provocative connections between different risk factors were identified. Most importantly, moderate positive correlation (0.52) was found between smoking severity and risk of anxiety, which can be indicative of the stress with psychological problems associated with smoking behavior. Nonetheless, the results identified the respiratory scores, which have negative relations with smoking severity and the risk of anxiety.\n",
        "\n",
        "Out of the four Anxiety, Fatigue, Wheezing and Coughing, Fatigue is the highest risk factors that is depicted from the graph.\n",
        "\n",
        "The statistical tests give further information as follows. The chi-square test results (p-value).It is worth noting that the model output in smokers and lung cancer in this dataset shows statistically insignificant, which is incongruous with the expected result and needs a better examination.\n",
        "\n",
        "According to various symptom reports, from a clinical viewpoint, the most observed symptoms were swallowing difficulty,fatigue,chest painand yellow fingers from the Logistic Regression. The same results are depicted by the chi-square test. Perhaps, this finding could help in devising the plans for identifying the onset of clinical symptoms and their maintenance. The study also found out that distribution and effects of risks differ by age and gender, and it therefore points to the fact that there is a need for early detection and prevention measures appropriate to distinct demographics.\n",
        "\n",
        "\n",
        "\n",
        "\n"
      ],
      "metadata": {
        "id": "7kANd0leaC36"
      }
    }
  ]
}